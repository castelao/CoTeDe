{
 "cells": [
  {
   "cell_type": "markdown",
   "metadata": {},
   "source": [
    "# From Climatology Test to Anomaly Detection"
   ]
  },
  {
   "cell_type": "markdown",
   "metadata": {},
   "source": [
    "### Objective:\n",
    "Explain the concept of the Anomaly Detection approach to quality control\n"
   ]
  },
  {
   "cell_type": "markdown",
   "metadata": {},
   "source": [
    "Create a synthetic conceptual case, with random normally distributed data on 3 dimensions. Each dimension is normal, so bad data doesn't necessarily can be seen by all dimensions, but on might be visible in one single dimension. and can explore the corners. "
   ]
  },
  {
   "cell_type": "code",
   "execution_count": null,
   "metadata": {},
   "outputs": [],
   "source": [
    "from bokeh.io import output_notebook, show\n",
    "from bokeh.plotting import figure\n",
    "import numpy as np\n",
    "from scipy import stats\n",
    "\n",
    "import cotede\n"
   ]
  },
  {
   "cell_type": "code",
   "execution_count": null,
   "metadata": {},
   "outputs": [],
   "source": [
    "output_notebook()"
   ]
  },
  {
   "cell_type": "markdown",
   "metadata": {},
   "source": [
    "## Synthetic data\n",
    "Let's create some synthetic data to illustrate some concepts."
   ]
  },
  {
   "cell_type": "code",
   "execution_count": null,
   "metadata": {},
   "outputs": [],
   "source": [
    "# Number of samples\n",
    "N = 3000\n",
    "# True mean and standard deviation of this dataset\n",
    "mu, sigma = 0, 1\n",
    "# Let's fix the random seed so everyone gets the same result\n",
    "np.random.seed(42)\n",
    "\n",
    "t = np.arange(N)\n",
    "x = np.random.normal(mu, sigma, N)"
   ]
  },
  {
   "cell_type": "code",
   "execution_count": null,
   "metadata": {},
   "outputs": [],
   "source": [
    "# w = np.blackman(11)\n",
    "# x = np.convolve(x, w, 'same')"
   ]
  },
  {
   "cell_type": "markdown",
   "metadata": {},
   "source": [
    "### How does this dataset look like?"
   ]
  },
  {
   "cell_type": "code",
   "execution_count": null,
   "metadata": {},
   "outputs": [],
   "source": [
    "# A time series with the data\n",
    "p = figure(plot_width=750, plot_height=300)\n",
    "p.circle(t, x, size=8, line_color=\"orange\", fill_color=\"orange\", fill_alpha=0.5)\n",
    "show(p) # show the results"
   ]
  },
  {
   "cell_type": "code",
   "execution_count": null,
   "metadata": {},
   "outputs": [],
   "source": [
    "def plot_hist(hist, edges):\n",
    "    \"\"\"Plot an histogram\n",
    "    \n",
    "    Create an histogram from the output of numpy.hist().\n",
    "    We will create several histograms in this notebook so let's save this as a function to\n",
    "    reuse this code.\n",
    "    \"\"\"\n",
    "    #title = 'test'\n",
    "    # p = figure(title=title, tools='', background_fill_color=\"#fafafa\")\n",
    "    p = figure(plot_width=750, plot_height=300,\n",
    "        tools='', background_fill_color=\"#fafafa\")\n",
    "    p.quad(top=hist, bottom=0, left=edges[:-1], right=edges[1:],\n",
    "           fill_color=\"navy\", line_color=\"white\", alpha=0.5)\n",
    "    # p.line(x, pdf, line_color=\"#ff8888\", line_width=4, alpha=0.7, legend_label=\"PDF\")\n",
    "    # p.line(x, cdf, line_color=\"orange\", line_width=2, alpha=0.7, legend_label=\"CDF\")\n",
    "\n",
    "    p.y_range.start = 0\n",
    "    # p.legend.location = \"center_right\"\n",
    "    # p.legend.background_fill_color = \"#fefefe\"\n",
    "    p.xaxis.axis_label = 'x'\n",
    "    p.yaxis.axis_label = 'Pr(x)'\n",
    "    p.grid.grid_line_color=\"white\"\n",
    "    return p\n"
   ]
  },
  {
   "cell_type": "markdown",
   "metadata": {},
   "source": [
    "#### Data Distribution\n",
    "Let's plot an histogram"
   ]
  },
  {
   "cell_type": "code",
   "execution_count": null,
   "metadata": {},
   "outputs": [],
   "source": [
    "hist, edges = np.histogram(x, density=True, bins=50)\n",
    "\n",
    "p = plot_hist(hist, edges)\n",
    "show(p)"
   ]
  },
  {
   "cell_type": "markdown",
   "metadata": {},
   "source": [
    "We know that this dataset has a normal distribution, so we can approximate it to a Gaussian."
   ]
  },
  {
   "cell_type": "code",
   "execution_count": null,
   "metadata": {},
   "outputs": [],
   "source": [
    "mu_estimated, sigma_estimated = stats.norm.fit(x)\n",
    "\n",
    "print(\"Estimated mean: {:.3f}, and standard deviation: {:.3f}\".format(mu_estimated, sigma_estimated))"
   ]
  },
  {
   "cell_type": "code",
   "execution_count": null,
   "metadata": {},
   "outputs": [],
   "source": [
    "x_ref = np.linspace(x.min(), x.max(), 1000)\n",
    "pdf = stats.norm.pdf(x_ref, loc=mu_estimated, scale=sigma_estimated)\n",
    "# sf = stats.norm.sf(x_ref, loc=mu_estimated, scale=sigma_estimated)"
   ]
  },
  {
   "cell_type": "code",
   "execution_count": null,
   "metadata": {},
   "outputs": [],
   "source": [
    "p = plot_hist(hist, edges)\n",
    "p.line(x_ref, pdf, line_color=\"orange\", line_width=8, alpha=0.7, legend_label=\"PDF\")\n",
    "# p.line(x_ref, sf, line_color=\"red\", line_width=8, alpha=0.7, legend_label=\"SF\")\n",
    "show(p)"
   ]
  },
  {
   "cell_type": "markdown",
   "metadata": {},
   "source": [
    "### Bad data\n",
    "Let's add some bad measurements in random positions on our dataset"
   ]
  },
  {
   "cell_type": "code",
   "execution_count": null,
   "metadata": {},
   "outputs": [],
   "source": [
    "N_bad = 5\n",
    "idx = np.random.permutation(x.size)[:N_bad]\n",
    "x[idx] = np.random.uniform(mu-10*sigma, mu+10*sigma, N_bad)\n",
    "\n",
    "print(sorted(x[idx]))"
   ]
  },
  {
   "cell_type": "code",
   "execution_count": null,
   "metadata": {},
   "outputs": [],
   "source": [
    "\n",
    "idx_good = [tn not in idx for tn in t]\n",
    "\n",
    "# A time series with the data\n",
    "p = figure(plot_width=750, plot_height=300, title=\"Some bad measurements\")\n",
    "p.circle(t[idx_good], x[idx_good], size=8, line_color=\"green\", fill_color=\"green\", fill_alpha=0.3)\n",
    "p.triangle(t[idx], x[idx], size=12, line_color=\"red\", fill_color=\"red\", fill_alpha=0.8)\n",
    "# p.line([0, N], 2*[-6 * sigma], line_color=\"orange\", line_width=3, alpha=0.7)\n",
    "# p.line([0, N], 2*[6 * sigma], line_color=\"orange\", line_width=3, alpha=0.7)\n",
    "show(p) # show the results"
   ]
  },
  {
   "cell_type": "code",
   "execution_count": null,
   "metadata": {},
   "outputs": [],
   "source": [
    "mu_estimated, sigma_estimated = stats.norm.fit(x)\n",
    "\n",
    "print(\"Estimated mean: {:.3f}, and standard deviation: {:.3f}\".format(mu_estimated, sigma_estimated))\n",
    "\n",
    "x_ref = np.linspace(x.min(), x.max(), 1000)\n",
    "pdf = stats.norm.pdf(x_ref, loc=mu_estimated, scale=sigma_estimated)\n",
    "\n",
    "p = plot_hist(hist, edges)\n",
    "p.line(x_ref, pdf, line_color=\"orange\", line_width=8, alpha=0.7, legend_label=\"PDF\")\n",
    "# p.line(x_ref, sf, line_color=\"red\", line_width=8, alpha=0.7, legend_label=\"SF\")\n",
    "p.triangle(x[idx], 0.05, size=12, line_color=\"red\", fill_color=\"red\", fill_alpha=0.8, legend_label=\"Bad values\")\n",
    "show(p)"
   ]
  },
  {
   "cell_type": "markdown",
   "metadata": {},
   "source": [
    "### Climatology Test\n",
    "\n",
    "Note that if the number of bad measurements is small, it doesn't compromise the estimate of the mean and standard deviation.\n",
    "\n",
    "This is the concept of the climatology test. Any value beyond 3 standard deviations is still possible, but improbable. As long as the data are actually normally distributed and there is enough observations to estimate the mean and standard deviation, we can model it and easily predict how improbable would be a measurement.\n",
    "\n",
    "This is a good solution, more restrictive than the Global Range test, but that doesn't cover everything. It is possible bad measurements in the range of feasible values."
   ]
  },
  {
   "cell_type": "markdown",
   "metadata": {},
   "source": [
    "## Different perspectives from different tests\n",
    "\n",
    "Let's consider another case where the data has some periodicity."
   ]
  },
  {
   "cell_type": "code",
   "execution_count": null,
   "metadata": {},
   "outputs": [],
   "source": [
    "x2 = x + 2 * np.sin(2 * np.pi * t/1000)\n",
    "x2[idx] = np.random.uniform(mu-10*sigma, mu+10*sigma, N_bad)\n",
    "\n",
    "# A time series with the data\n",
    "p = figure(plot_width=750, plot_height=300)\n",
    "p.circle(t[idx_good], x2[idx_good], size=8, line_color=\"green\", fill_color=\"green\", fill_alpha=0.3)\n",
    "p.triangle(t[idx], x2[idx], size=12, line_color=\"red\", fill_color=\"red\", fill_alpha=0.8)\n",
    "show(p)"
   ]
  },
  {
   "cell_type": "code",
   "execution_count": null,
   "metadata": {},
   "outputs": [],
   "source": [
    "mu_estimated, sigma_estimated = stats.norm.fit(x2)\n",
    "\n",
    "print(\"Estimated mean: {:.3f}, and standard deviation: {:.3f}\".format(mu_estimated, sigma_estimated))\n",
    "\n",
    "x_ref = np.linspace(x.min(), x.max(), 1000)\n",
    "pdf = stats.norm.pdf(x_ref, loc=mu_estimated, scale=sigma_estimated)\n",
    "\n",
    "hist, edges = np.histogram(x2, density=True, bins=50)\n",
    "p = plot_hist(hist, edges)\n",
    "p.line(x_ref, pdf, line_color=\"orange\", line_width=8, alpha=0.7, legend_label=\"PDF\")\n",
    "# p.line(x_ref, sf, line_color=\"red\", line_width=8, alpha=0.7, legend_label=\"SF\")\n",
    "p.triangle(x2[idx], 0.05, size=12, line_color=\"red\", fill_color=\"red\", fill_alpha=0.8, legend_label=\"Bad values\")\n",
    "show(p)"
   ]
  },
  {
   "cell_type": "markdown",
   "metadata": {},
   "source": [
    "Most of the bad data is clearly distinct from the good data pattern, but is inside the feasible range so the climatology can't do much to distinguish the good from bad data.\n",
    "\n",
    "Let's try a different test, the gradient check."
   ]
  },
  {
   "cell_type": "code",
   "execution_count": null,
   "metadata": {},
   "outputs": [],
   "source": [
    "import cotede.qctests\n",
    "y_gradient = cotede.qctests.gradient(x2)\n",
    "\n",
    "# A time series with the data\n",
    "p = figure(plot_width=750, plot_height=300, title=\"Spike\")\n",
    "p.circle(t[idx_good], y_gradient[idx_good], size=8, line_color=\"green\", fill_color=\"green\", fill_alpha=0.3)\n",
    "p.triangle(t[idx], y_gradient[idx], size=12, line_color=\"red\", fill_color=\"red\", fill_alpha=0.8)\n",
    "show(p) # show the results"
   ]
  },
  {
   "cell_type": "code",
   "execution_count": null,
   "metadata": {},
   "outputs": [],
   "source": [
    "import cotede.qctests\n",
    "y_spike = np.abs(cotede.qctests.tukey53H(x2))\n",
    "\n",
    "# A time series with the data\n",
    "p = figure(plot_width=750, plot_height=300, title=\"Spike\")\n",
    "p.circle(t[idx_good], y_spike[idx_good], size=8, line_color=\"green\", fill_color=\"green\", fill_alpha=0.3)\n",
    "p.triangle(t[idx], y_spike[idx], size=12, line_color=\"red\", fill_color=\"red\", fill_alpha=0.8)\n",
    "show(p) # show the results"
   ]
  },
  {
   "cell_type": "markdown",
   "metadata": {},
   "source": [
    "The spike projects the original data in a new space, and this projection is commonly called \"feature\" in the Machine Learning world. Note that the spike feature allow to better distinguish the good data from bad data."
   ]
  },
  {
   "cell_type": "markdown",
   "metadata": {},
   "source": [
    "### Gronell & Wijffels, 2008\n",
    "Beyond the climatology of actual measurements, let's do climatologies of features, such as gradient and spike."
   ]
  },
  {
   "cell_type": "code",
   "execution_count": null,
   "metadata": {},
   "outputs": [],
   "source": [
    "gradient_mu, gradient_sigma = stats.norm.fit(y_gradient[np.isfinite(y_gradient)])\n",
    "\n",
    "gradient_mu, gradient_sigma"
   ]
  },
  {
   "cell_type": "code",
   "execution_count": null,
   "metadata": {},
   "outputs": [],
   "source": [
    "gradient_mu, gradient_sigma = stats.norm.fit(y_gradient[np.isfinite(y_gradient)])\n",
    "\n",
    "y_ref = np.linspace(np.nanmin(y_gradient), np.nanmax(y_gradient), 50)\n",
    "gradient_pdf = stats.norm.pdf(y_ref, loc=gradient_mu, scale=gradient_sigma)\n",
    "\n",
    "gradient_hist, gradient_edges = np.histogram(y_gradient[np.isfinite(y_gradient)], density=True, bins=50)\n",
    "p = plot_hist(gradient_hist, gradient_edges)\n",
    "p.line(y_ref, gradient_pdf, line_color=\"orange\", line_width=8, alpha=0.7, legend_label=\"PDF\")\n",
    "p.triangle(y_gradient[idx], 0.05, size=12, line_color=\"red\", fill_color=\"red\", fill_alpha=0.8, legend_label=\"Bad values\")\n",
    "show(p)"
   ]
  },
  {
   "cell_type": "code",
   "execution_count": null,
   "metadata": {},
   "outputs": [],
   "source": [
    "spike_mu, spike_sigma = stats.norm.fit(y_spike[np.isfinite(y_spike)])\n",
    "\n",
    "y_ref = np.linspace(np.nanmin(y_spike), np.nanmax(y_spike), 50)\n",
    "spike_pdf = stats.norm.pdf(y_ref, loc=spike_mu, scale=spike_sigma)\n",
    "\n",
    "spike_hist, spike_edges = np.histogram(y_spike[np.isfinite(y_spike)], density=True, bins=50)\n",
    "p = plot_hist(spike_hist, spike_edges)\n",
    "p.line(y_ref, spike_pdf, line_color=\"orange\", line_width=8, alpha=0.7, legend_label=\"PDF\")\n",
    "p.triangle(y_spike[idx], 0.05, size=12, line_color=\"red\", fill_color=\"red\", fill_alpha=0.8, legend_label=\"Bad values\")\n",
    "show(p)"
   ]
  },
  {
   "cell_type": "code",
   "execution_count": null,
   "metadata": {},
   "outputs": [],
   "source": []
  },
  {
   "cell_type": "code",
   "execution_count": null,
   "metadata": {},
   "outputs": [],
   "source": [
    "y_gradient = cotede.qctests.gradient(x2)\n",
    "\n",
    "p = figure(plot_width=750, plot_height=300, title=\"Spike\")\n",
    "p.circle(y[idx_good], y_gradient[idx_good], size=8, line_color=\"green\", fill_color=\"green\", fill_alpha=0.3)\n",
    "p.triangle(y[idx], y_gradient[idx], size=12, line_color=\"red\", fill_color=\"red\", fill_alpha=0.8)\n",
    "show(p) # show the results"
   ]
  },
  {
   "cell_type": "code",
   "execution_count": null,
   "metadata": {},
   "outputs": [],
   "source": []
  },
  {
   "cell_type": "code",
   "execution_count": null,
   "metadata": {},
   "outputs": [],
   "source": [
    "x3 = x/20 + 2 * np.sin(2 * np.pi * t/2000)\n",
    "# x2[idx] = np.random.uniform(mu-10*sigma, mu+10*sigma, N_bad)\n",
    "\n",
    "# A time series with the data\n",
    "p = figure(plot_width=750, plot_height=300)\n",
    "p.circle(t[idx_good], x2[idx_good], size=8, line_color=\"green\", fill_color=\"green\", fill_alpha=0.3)\n",
    "p.triangle(t[idx], x2[idx], size=12, line_color=\"red\", fill_color=\"red\", fill_alpha=0.8)\n",
    "show(p)"
   ]
  },
  {
   "cell_type": "code",
   "execution_count": null,
   "metadata": {},
   "outputs": [],
   "source": [
    "x3 = x/20 + 2 * np.cos(2 * np.pi * t/6000)\n",
    "\n",
    "\n",
    "x3[1150:1250] += np.random.normal(0, .2, 100)\n",
    "\n",
    "\n",
    "# A time series with the data\n",
    "p = figure(plot_width=750, plot_height=300)\n",
    "p.circle(t[idx_good], x3[idx_good], size=8, line_color=\"green\", fill_color=\"green\", fill_alpha=0.3)\n",
    "# p.triangle(t[idx], x3[idx], size=12, line_color=\"red\", fill_color=\"red\", fill_alpha=0.8)\n",
    "show(p) # show the results"
   ]
  },
  {
   "cell_type": "code",
   "execution_count": null,
   "metadata": {},
   "outputs": [],
   "source": [
    "y4 = cotede.qctests.rate_of_change(x3)\n",
    "\n",
    "p = figure(plot_width=750, plot_height=300)\n",
    "p.circle(t, y4, size=8, line_color=\"green\", fill_color=\"green\", fill_alpha=0.3)\n",
    "# p.triangle(t[idx], x3[idx], size=12, line_color=\"red\", fill_color=\"red\", fill_alpha=0.8)\n",
    "show(p)"
   ]
  },
  {
   "cell_type": "code",
   "execution_count": null,
   "metadata": {},
   "outputs": [],
   "source": [
    "y.compressed()"
   ]
  },
  {
   "cell_type": "code",
   "execution_count": null,
   "metadata": {},
   "outputs": [],
   "source": [
    "import matplotlib.pyplot as plt\n",
    "plt.hist(y)"
   ]
  },
  {
   "cell_type": "code",
   "execution_count": null,
   "metadata": {},
   "outputs": [],
   "source": [
    "spike_hist"
   ]
  },
  {
   "cell_type": "code",
   "execution_count": null,
   "metadata": {},
   "outputs": [],
   "source": [
    "stats.norm.pdf(x[idx], loc=mu_estimated, scale=sigma_estimated)"
   ]
  },
  {
   "cell_type": "code",
   "execution_count": null,
   "metadata": {},
   "outputs": [],
   "source": [
    "pdf = stats.norm.cdf(x_ref, loc=mu_estimated, scale=sigma_estimated)"
   ]
  },
  {
   "cell_type": "code",
   "execution_count": null,
   "metadata": {},
   "outputs": [],
   "source": [
    "pdf"
   ]
  },
  {
   "cell_type": "code",
   "execution_count": null,
   "metadata": {},
   "outputs": [],
   "source": [
    "from seabird import fCNV"
   ]
  },
  {
   "cell_type": "code",
   "execution_count": null,
   "metadata": {},
   "outputs": [],
   "source": [
    "!pip install seabird"
   ]
  },
  {
   "cell_type": "code",
   "execution_count": null,
   "metadata": {},
   "outputs": [],
   "source": [
    "data = fCNV('/Users/castelao/work/science/articles/cotedepaper/data/dPIRX010.cnv')\n",
    "\n",
    "p = figure(plot_width=500, plot_height=600)\n",
    "p.circle(data['TEMP'], -data['PRES'], size=8, line_color=\"green\", fill_color=\"green\", fill_alpha=0.3)\n",
    "show(p)"
   ]
  },
  {
   "cell_type": "code",
   "execution_count": null,
   "metadata": {},
   "outputs": [],
   "source": [
    "plt.hist(cotede.qctests.rate_of_change(data['TEMP']), 50)"
   ]
  },
  {
   "cell_type": "markdown",
   "metadata": {},
   "source": [
    "Climatology Test\n",
    "\n",
    "Any value beyond 3 standard deviations is still possible, but improbable. This is the traditional climatology test. As long as the observations are actually a normally distributed and there is enough observations to estimate the mean and standard deviation, we can model it and easily predict how improbable would be a measurement."
   ]
  },
  {
   "cell_type": "code",
   "execution_count": null,
   "metadata": {},
   "outputs": [],
   "source": [
    "# Number of samples\n",
    "N = 300\n",
    "N_bad = 24\n",
    "# True mean and standard deviation of this dataset\n",
    "mu, sigma = 0, 0.1\n",
    "# Let's fix the random seed so everyone gets the same result\n",
    "np.random.seed(42)"
   ]
  },
  {
   "cell_type": "code",
   "execution_count": null,
   "metadata": {},
   "outputs": [],
   "source": [
    "t = np.arange(N)\n",
    "noise = np.random.normal(mu, sigma, N)\n",
    "x = 3 * np.sin(2 * np.pi * t / 190 + 0.3) + noise\n",
    "\n",
    "chunk = np.random.uniform(mu-10*sigma, mu+10*sigma, N_bad)\n",
    "x[160:160+chunk.size] += chunk\n",
    "\n",
    "\n",
    "# A time series with the data\n",
    "p = figure(plot_width=750, plot_height=300)\n",
    "p.circle(t, x, size=8, line_color=\"orange\", fill_color=\"orange\", fill_alpha=0.5, legend_label=\"Good values\")\n",
    "# p.triangle(data[\"epoch\"][idx_bad], data[\"water_level\"][idx_bad], size=12, line_color=\"red\", fill_color=\"red\", fill_alpha=0.8, legend_label=\"Bad values\")\n",
    "show(p)"
   ]
  },
  {
   "cell_type": "code",
   "execution_count": null,
   "metadata": {},
   "outputs": [],
   "source": []
  }
 ],
 "metadata": {
  "kernelspec": {
   "display_name": "Python 3",
   "language": "python",
   "name": "python3"
  },
  "language_info": {
   "codemirror_mode": {
    "name": "ipython",
    "version": 3
   },
   "file_extension": ".py",
   "mimetype": "text/x-python",
   "name": "python",
   "nbconvert_exporter": "python",
   "pygments_lexer": "ipython3",
   "version": "3.8.5"
  }
 },
 "nbformat": 4,
 "nbformat_minor": 4
}
