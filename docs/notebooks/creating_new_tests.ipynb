{
 "cells": [
  {
   "cell_type": "markdown",
   "metadata": {},
   "source": [
    "# Creating New Tests\n",
    "How to implement a new QC test in CoTeDe?"
   ]
  },
  {
   "cell_type": "markdown",
   "metadata": {},
   "source": [
    "### Objective:\n",
    "Show how to extend CoTeDe by creating new QC checks.\n",
    "\n",
    "CoTeDe contains a collection of checks to evaluate the quality of the data. The user can define the parameters for each test such as changing the acceptable threshold of the spike check, but sometimes it might be necessary a completely different procedure. CoTeDe was developed with the principle of a single engine where the modular checks can be plugged in. Here you will see how to create a new check."
   ]
  },
  {
   "cell_type": "code",
   "execution_count": null,
   "metadata": {},
   "outputs": [],
   "source": [
    "import numpy as np\n",
    "from bokeh.io import output_notebook, show\n",
    "from bokeh.plotting import figure"
   ]
  },
  {
   "cell_type": "code",
   "execution_count": null,
   "metadata": {},
   "outputs": [],
   "source": [
    "output_notebook()"
   ]
  },
  {
   "cell_type": "markdown",
   "metadata": {},
   "source": [
    "Currently there are two main types of tests, QCCheck() and QCCheckVar().\n",
    "\n",
    "- QCCheck is a hard coded test and doesn't change according to the variable being evaluated. The criteria doesn't change independent of the variable being evaluated. For instance, the increasing pressure test defined by Argo will always check pressure, independent if the goal is to QC temperature, salinity, or chlorophyll.\n",
    "\n",
    "- QCCheckVar checks a given variable. The criteria is applied on the specific variable. For instance, although the spike test procedure is always the same, it is applied on the temperature values if the temperature "
   ]
  },
  {
   "cell_type": "code",
   "execution_count": null,
   "metadata": {},
   "outputs": [],
   "source": [
    "from cotede.qctests import QCCheck, QCCheckVar"
   ]
  },
  {
   "cell_type": "markdown",
   "metadata": {},
   "source": [
    "https://github.com/castelao/CoTeDe/blob/master/cotede/qctests/qctests.py\n",
    "\n",
    "Note that QCCheck() only requires the data object as input."
   ]
  },
  {
   "cell_type": "markdown",
   "metadata": {},
   "source": [
    "Let's suppose that platforms 10 and 11 had bad sensors and any measurements from those should be flagged bad. Note that in this case it doesn't matter which variable we are evaluating, so let's create a new test based on cotede.qctests.QCCheck\n",
    "\n",
    "The first question is how is the platform identified in the data object? Let's suppose that this is available in the attributes of the data object, i.e. in data.attrs."
   ]
  },
  {
   "cell_type": "code",
   "execution_count": null,
   "metadata": {},
   "outputs": [],
   "source": [
    "class GreyList(QCCheck):\n",
    "    def test(self):\n",
    "        \"\"\"Example test to identify measurements from known bad platforms\n",
    "        \n",
    "        How to identify the platform in this data object? You need to tell. Let's suppose\n",
    "        that it is available at\n",
    "        >>> self.data.attrs[\"platform\"]\n",
    "        \"\"\"\n",
    "        \n",
    "        platform = self.data.attrs[\"platform\"]\n",
    "        \n",
    "        self.flags = {}\n",
    "        if platform in (10, 11):\n",
    "            flag = np.array(self.flag_bad, dtype=\"i1\")\n",
    "        else:\n",
    "            flag = np.array(self.flag_good, dtype=\"i1\")\n",
    "            "
   ]
  },
  {
   "cell_type": "markdown",
   "metadata": {},
   "source": [
    "### A test based on the measurements itself: Maximum Value"
   ]
  },
  {
   "cell_type": "code",
   "execution_count": null,
   "metadata": {},
   "outputs": [],
   "source": [
    "class MaximumValue(QCCheckVar):\n",
    "    def test(self):\n",
    "        assert (\"threshold\" in self.cfg), \"Missing acceptable threshold\"\n",
    "\n",
    "        threshold = self.cfg[\"threshold\"]\n",
    "\n",
    "        feature = self.data[self.varname]\n",
    "\n",
    "        self.flags = {}\n",
    "        flag = np.zeros(np.shape(feature), dtype=\"i1\")\n",
    "        flag[feature < minval] = self.flag_bad\n",
    "        flag[feature > maxval] = self.flag_bad\n",
    "        idx = (feature >= minval) & (feature <= maxval)\n",
    "        flag[np.nonzero(idx)] = self.flag_good\n",
    "        flag[ma.getmaskarray(feature) | ~np.isfinite(x)] = 9\n",
    "        self.flags[\"maximum_value\"] = flag"
   ]
  },
  {
   "cell_type": "markdown",
   "metadata": {},
   "source": [
    "### Spike test for chlorophyll - BGC Argo\n",
    "\n",
    "BGC Argo defines the spike test based on a running median, defined as\n",
    "\n",
    "RES = V2 - median(V0, V1, V2, V3, V4)\n",
    "\n",
    "bad if RES < 2 * percentile10(RES)\n",
    "\n",
    "Where percentile10 is the lowest 10% measurements for that profile"
   ]
  },
  {
   "cell_type": "code",
   "execution_count": null,
   "metadata": {},
   "outputs": [],
   "source": [
    "def median_spike(x):\n",
    "    N = len(x)\n",
    "    \n",
    "    lowpass = np.nan * np.ones(N)\n",
    "    for n in range(N - 4):\n",
    "        lowpass[n + 2] = np.median(x[n : n + 5])\n",
    "    \n",
    "    delta[1:-1] = x[1:-1] - lowpass[1:-1]\n",
    "    return delta\n",
    "\n",
    "\n",
    "class BGCChlSpike(QCCheckVar):\n",
    "    \"\"\"Spike test as recommended by the BGC Argo\n",
    "    \"\"\"\n",
    "    cfg = {\"threshold\": 2}\n",
    "    \n",
    "    def set_features(self):\n",
    "        self.features = {\n",
    "            \"spike_median\": median_spike(self.data[self.varname]),\n",
    "        }\n",
    "        \n",
    "    def test(self):\n",
    "        self.flags = {}\n",
    "        \n",
    "        assert (\"threshold\" in self.cfg), \"Missing acceptable threshold\"\n",
    "\n",
    "        threshold = self.cfg[\"threshold\"]\n",
    "\n",
    "        feature = np.atleast_1d(self.data[self.varname])\n",
    "        \n",
    "        \n",
    "        flag = np.zeros(feature.shape, dtype=\"i1\")\n",
    "        flag[feature > threshold] = self.flag_bad\n",
    "        flag[feature <= threshold] = self.flag_good\n",
    "        x = self.data[self.varname]\n",
    "        flag[ma.getmaskarray(x) | ~np.isfinite(x)] = 9\n",
    "        self.flags[\"bgc_spike\"] = flag"
   ]
  },
  {
   "cell_type": "code",
   "execution_count": null,
   "metadata": {},
   "outputs": [],
   "source": [
    "try:\n",
    "    import pandas as pd\n",
    "\n",
    "    PANDAS_AVAILABLE = False\n",
    "except:\n",
    "    PANDAS_AVAILABLE = True\n",
    "\n",
    "\n",
    "def spike_median(x):\n",
    "    res = x - x.rolling(5, center=True).median()\n",
    "    return res / res.quantile(.1)\n",
    "\n",
    "\n",
    "class BGCChlSpike(QCCheckVar):\n",
    "    \"\"\"Spike test as recommended by the BGC Argo\n",
    "    \"\"\"\n",
    "    cfg = {\"threshold\": 2}\n",
    "    \n",
    "    def set_features(self):\n",
    "        self.features = {\n",
    "            \"spike_median\": spike_median(self.data[self.varname]),\n",
    "        }\n",
    "        \n",
    "    def test(self):\n",
    "        self.flags = {}\n",
    "        \n",
    "        assert (\"threshold\" in self.cfg), \"Missing acceptable threshold\"\n",
    "\n",
    "        threshold = self.cfg[\"threshold\"]\n",
    "\n",
    "        feature = np.atleast_1d(self.data[self.varname])\n",
    "        \n",
    "        \n",
    "        flag = np.zeros(feature.shape, dtype=\"i1\")\n",
    "        flag[feature > threshold] = self.flag_bad\n",
    "        flag[feature <= threshold] = self.flag_good\n",
    "        x = self.data[self.varname]\n",
    "        flag[ma.getmaskarray(x) | ~np.isfinite(x)] = 9\n",
    "        self.flags[\"bgc_spike\"] = flag"
   ]
  }
 ],
 "metadata": {
  "kernelspec": {
   "display_name": "Python 3",
   "language": "python",
   "name": "python3"
  },
  "language_info": {
   "codemirror_mode": {
    "name": "ipython",
    "version": 3
   },
   "file_extension": ".py",
   "mimetype": "text/x-python",
   "name": "python",
   "nbconvert_exporter": "python",
   "pygments_lexer": "ipython3",
   "version": "3.8.5"
  }
 },
 "nbformat": 4,
 "nbformat_minor": 4
}
