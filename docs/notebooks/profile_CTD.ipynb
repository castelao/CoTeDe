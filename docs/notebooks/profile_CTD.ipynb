{
 "cells": [
  {
   "cell_type": "markdown",
   "metadata": {},
   "source": [
    "# [WIP] Quality Controlling a CTD profile\n",
    "Quality control of a CTD profile (Temperature & Salinity)"
   ]
  },
  {
   "cell_type": "markdown",
   "metadata": {},
   "source": [
    "## Objective:\n",
    "Show how to quality control temperature and salinity from a CTD profile.\n"
   ]
  },
  {
   "cell_type": "code",
   "execution_count": null,
   "metadata": {},
   "outputs": [],
   "source": [
    "from bokeh.io import output_notebook, show\n",
    "from bokeh.layouts import row\n",
    "from bokeh.plotting import figure\n",
    "import numpy as np\n",
    "\n",
    "import cotede\n",
    "from cotede import datasets, qctests"
   ]
  },
  {
   "cell_type": "code",
   "execution_count": null,
   "metadata": {},
   "outputs": [],
   "source": [
    "output_notebook()"
   ]
  },
  {
   "cell_type": "markdown",
   "metadata": {},
   "source": [
    "## Data\n",
    "We'll use a CTD profile in the Tropical Atlantic for this tutorial.\n",
    "If curious about this dataset, check CoTeDe's documentation for more details.\n",
    "\n",
    "Let's load the data and check which variables are available."
   ]
  },
  {
   "cell_type": "code",
   "execution_count": null,
   "metadata": {},
   "outputs": [],
   "source": [
    "data = cotede.datasets.load_ctd()\n",
    "\n",
    "print(\"The variables are: \", sorted(data.keys()))\n",
    "print(\"There is a total of {} observed depths.\".format(len(data[\"TEMP\"])))"
   ]
  },
  {
   "cell_type": "markdown",
   "metadata": {},
   "source": [
    "This CTD was equipped with backup sensors to provide more robustness.\n",
    "Measurements from the secondary sensor are identified by a 2 in the end of the name. Let's focus here on the primary sensors.\n",
    "\n",
    "To visualize this profile we will use Bokeh which allows some interactivity."
   ]
  },
  {
   "cell_type": "code",
   "execution_count": null,
   "metadata": {},
   "outputs": [],
   "source": [
    "p1 = figure(plot_width=420, plot_height=600)\n",
    "p1.circle(data['TEMP'], -data['PRES'], size=8, line_color=\"seagreen\", fill_color=\"mediumseagreen\", fill_alpha=0.3)\n",
    "p1.xaxis.axis_label = \"Temperature [C]\"\n",
    "p1.yaxis.axis_label = \"Depth [m]\"\n",
    "\n",
    "p2 = figure(plot_width=420, plot_height=600)\n",
    "p2.y_range = p1.y_range\n",
    "p2.circle(data['PSAL'], -data['PRES'], size=8, line_color=\"seagreen\", fill_color=\"mediumseagreen\", fill_alpha=0.3)\n",
    "p2.xaxis.axis_label = \"Salinity\"\n",
    "p2.yaxis.axis_label = \"Depth [m]\"\n",
    "\n",
    "p = row(p1, p2)\n",
    "show(p)"
   ]
  },
  {
   "cell_type": "markdown",
   "metadata": {},
   "source": [
    "Considering the unusual magnitudes and variability near the bottom, there are clearly bad measurements in this profile.\n",
    "Let's start with the one of the most fundamental QC test and restrict to feasible values."
   ]
  },
  {
   "cell_type": "markdown",
   "metadata": {},
   "source": [
    "## Global Range: Check for Feasible Values\n",
    "Let's use the thresholds recommended by the GTSPP:\n",
    " - Temperature between -2 and 40 $^\\circ$C\n",
    " - Salinity between 0 and 41"
   ]
  },
  {
   "cell_type": "code",
   "execution_count": null,
   "metadata": {},
   "outputs": [],
   "source": [
    "# ToDo: Include a shaded area for unfeasible values\n",
    "\n",
    "idx_valid = (data['TEMP'] > -2) & (data['TEMP'] < 40)\n",
    "\n",
    "p1 = figure(plot_width=420, plot_height=600, title=\"Global Range Check (-2 <= T <= 40)\")\n",
    "p1.circle(data['TEMP'][idx_valid], -data['PRES'][idx_valid], size=8, line_color=\"seagreen\", fill_color=\"mediumseagreen\", fill_alpha=0.3, legend_label=\"Good values\")\n",
    "p1.triangle(data['TEMP'][~idx_valid], -data['PRES'][~idx_valid], size=8, line_color=\"red\", fill_color=\"red\", fill_alpha=0.3, legend_label=\"Bad values\")\n",
    "p1.xaxis.axis_label = \"Temperature [C]\"\n",
    "p1.yaxis.axis_label = \"Depth [m]\"\n",
    "\n",
    "\n",
    "idx_valid = (data['PSAL'] > 0) & (data['PSAL'] < 41)\n",
    "\n",
    "p2 = figure(plot_width=420, plot_height=600, title=\"Global Range Check (0 <= S <= 41)\")\n",
    "p2.y_range = p1.y_range\n",
    "p2.circle(data['PSAL'][idx_valid], -data['PRES'][idx_valid], size=8, line_color=\"seagreen\", fill_color=\"mediumseagreen\", fill_alpha=0.3, legend_label=\"Good values\")\n",
    "p2.triangle(data['PSAL'][~idx_valid], -data['PRES'][~idx_valid], size=8, line_color=\"red\", fill_color=\"red\", fill_alpha=0.3, legend_label=\"Bad values\")\n",
    "p2.xaxis.axis_label = \"Pratical Salinity\"\n",
    "p2.yaxis.axis_label = \"Depth [m]\"\n",
    "\n",
    "p = row(p1, p2)\n",
    "show(p)"
   ]
  },
  {
   "cell_type": "markdown",
   "metadata": {},
   "source": [
    "Great, we already identified a fair number of bad measurements.\n",
    "The global range test is a simple and light test, and there is no reason to always apply it in normal conditions, but it is usually not enough.\n",
    "We will need to apply more tests to capture the rest of the bad measurements.\n",
    "\n",
    "Several QC tests were already implemented in CoTeDe, so you don't need to code it again.\n",
    "For instance, the global range test is available as `qctests.GlobalRange` and we can use it like"
   ]
  },
  {
   "cell_type": "code",
   "execution_count": null,
   "metadata": {},
   "outputs": [],
   "source": [
    "y = qctests.GlobalRange(data, 'TEMP', cfg={\"minval\": -2, \"maxval\": 40})\n",
    "y.flags"
   ]
  },
  {
   "cell_type": "markdown",
   "metadata": {},
   "source": [
    "Let's use that to check what are the unfeasible values of temperature."
   ]
  },
  {
   "cell_type": "code",
   "execution_count": null,
   "metadata": {},
   "outputs": [],
   "source": [
    "flag = y.flags[\"global_range\"]\n",
    "data[\"TEMP\"][flag==4]"
   ]
  },
  {
   "cell_type": "markdown",
   "metadata": {},
   "source": [
    "The Global Range is a trivial one to implement, but there are other checks that are more complex and CoTeDe provides a solution for that.\n",
    "For instance, let's consider another traditional procedure, the Spike check."
   ]
  },
  {
   "cell_type": "markdown",
   "metadata": {},
   "source": [
    "## Spike\n",
    "The spike check is a quite traditional one and is based on the principle of comparing one measurement with the tendency observed from the neighbor values.\n",
    "We could implement it as follows:"
   ]
  },
  {
   "cell_type": "code",
   "execution_count": null,
   "metadata": {},
   "outputs": [],
   "source": [
    "def spike(x):\n",
    "    \"\"\"Spike check as defined by GTSPP\n",
    "    \n",
    "    Notes\n",
    "    -----\n",
    "    - Check CoTeDe's manual for more details.\n",
    "    \"\"\"\n",
    "    y = np.nan * x\n",
    "    y[1:-1] = np.abs(x[1:-1] - (x[:-2] + x[2:]) / 2.0) - np.abs((x[2:] - x[:-2]) / 2.0)\n",
    "    return y"
   ]
  },
  {
   "cell_type": "markdown",
   "metadata": {},
   "source": [
    "This is already implemented in CoTeDe as `qctests.spike`, and we could use it like:"
   ]
  },
  {
   "cell_type": "code",
   "execution_count": null,
   "metadata": {},
   "outputs": [],
   "source": [
    "temp_spike = qctests.spike(data[\"TEMP\"])\n",
    "\n",
    "print(\"The largest spike observed was: {:.3f}\".format(np.nanmax(np.abs(temp_spike))))"
   ]
  },
  {
   "cell_type": "markdown",
   "metadata": {},
   "source": [
    "The same could be done for salinity, such as: ``sal_spike = qctests.spike(data[\"PSAL\"])``\n",
    "\n",
    "The traditional approach to use the spike check is by comparing the \"spikeness magnitude\" with a threshold.\n",
    "The measurement is considered bad (flag 4) if the spike was larger than that threshold.\n",
    "Similar to the global range check, we could hence use the `spike()` and compare the output with acceptable limits.\n",
    "This procedure is already available in CoTeDe as `qctests.Spike` and we can use it as follows,"
   ]
  },
  {
   "cell_type": "code",
   "execution_count": null,
   "metadata": {},
   "outputs": [],
   "source": [
    "y_spike = qctests.Spike(data, \"TEMP\", cfg={\"threshold\": 2.0})\n",
    "y_spike.flags"
   ]
  },
  {
   "cell_type": "markdown",
   "metadata": {},
   "source": [
    "Like the Global Range, it provides the quality flags obtained from this procedure.\n",
    "Note that the standard flagging follows the IOC recommendation (to customize the flags, check the manual), thus 1 means good data while 0 is no QC applied.\n",
    "The spike check is based on the previous and following measurements, thus it can't evaluate the first nor the last values, returning flag 0 for those two measurements.\n",
    "\n",
    "Some procedures provide more than just the flags, but also include features derived from the original measurements.\n",
    "For instance, if one was interested in the \"spike intensity\" of one measurement, that could be inspected as:"
   ]
  },
  {
   "cell_type": "code",
   "execution_count": null,
   "metadata": {},
   "outputs": [],
   "source": [
    "y_spike.features"
   ]
  },
  {
   "cell_type": "markdown",
   "metadata": {},
   "source": [
    "The magnitudes of the tests are stored in features.\n",
    "Let's check which features were saved for temperature,"
   ]
  },
  {
   "cell_type": "code",
   "execution_count": null,
   "metadata": {},
   "outputs": [],
   "source": [
    "print(\"Features for temperature: {}\\n\".format(pqc.features[\"TEMP\"].keys()))"
   ]
  },
  {
   "cell_type": "markdown",
   "metadata": {},
   "source": [
    "## More tests\n",
    "QC checks are usually focused on specific characteristics of bad measurements, thus to cover a wider range of issues we typically combine a set of checks.\n",
    "Let's apply the Gradient and the Tukey53H checks"
   ]
  },
  {
   "cell_type": "code",
   "execution_count": null,
   "metadata": {},
   "outputs": [],
   "source": [
    "y_gradient = qctests.Gradient(data, \"TEMP\", cfg={\"threshold\": 10})\n",
    "y_gradient.flags"
   ]
  },
  {
   "cell_type": "code",
   "execution_count": null,
   "metadata": {},
   "outputs": [],
   "source": [
    "y_tukey53H = qctests.Gradient(data, \"TEMP\", cfg={\"threshold\": 2.0})\n",
    "y_tukey53H.flags"
   ]
  },
  {
   "cell_type": "markdown",
   "metadata": {},
   "source": [
    "These already implemented tests are useful, but it could be easier.\n",
    "We usually don't apply one test at a time but a set of tests. We could do that byt defining a QC configuration like"
   ]
  },
  {
   "cell_type": "code",
   "execution_count": null,
   "metadata": {},
   "outputs": [],
   "source": [
    "cfg = {\n",
    "    \"TEMP\": {\n",
    "        \"global_range\": {\"minval\": -2, \"maxval\": 40},\n",
    "        \"gradient\": {\"threshold\": 10.0},\n",
    "        \"spike\": {\"threshold\": 2.0},\n",
    "        \"tukey53H\": {\"threshold\": 1.5},\n",
    "    }\n",
    "}"
   ]
  },
  {
   "cell_type": "code",
   "execution_count": null,
   "metadata": {},
   "outputs": [],
   "source": [
    "qc = cotede.ProfileQC(data, cfg=cfg)"
   ]
  },
  {
   "cell_type": "markdown",
   "metadata": {},
   "source": [
    "That's it, the temperature and salinity from the primary and secondary sensors were evaluated.\n",
    "\n",
    "First the same variables in the input are available in the output object."
   ]
  },
  {
   "cell_type": "code",
   "execution_count": null,
   "metadata": {},
   "outputs": [],
   "source": [
    "print(\"Variables available in data: {}\\n\".format(data.keys()))\n",
    "print(\"Variables available in pqc: {}\\n\".format(pqc.keys()))"
   ]
  },
  {
   "cell_type": "code",
   "execution_count": null,
   "metadata": {},
   "outputs": [],
   "source": [
    "print(\"Flags available for temperature {}\\n\".format(pqc.flags[\"TEMP\"].keys()))\n",
    "print(\"Flags available for salinity {}\\n\".format(pqc.flags[\"PSAL\"].keys()))"
   ]
  },
  {
   "cell_type": "code",
   "execution_count": null,
   "metadata": {},
   "outputs": [],
   "source": []
  },
  {
   "cell_type": "code",
   "execution_count": null,
   "metadata": {},
   "outputs": [],
   "source": [
    "qc.flags.keys()"
   ]
  },
  {
   "cell_type": "code",
   "execution_count": null,
   "metadata": {},
   "outputs": [],
   "source": [
    "qc.flags[\"TEMP\"]"
   ]
  },
  {
   "cell_type": "code",
   "execution_count": null,
   "metadata": {},
   "outputs": [],
   "source": [
    "flag = qc.flags[\"TEMP\"][\"overall\"]\n",
    "flag"
   ]
  },
  {
   "cell_type": "code",
   "execution_count": null,
   "metadata": {},
   "outputs": [],
   "source": [
    "cfg = {\n",
    "    \"TEMP\": {\n",
    "        \"global_range\": {\"minval\": -2, \"maxval\": 40},\n",
    "        \"gradient\": {\"threshold\": 10.0},\n",
    "        \"spike\": {\"threshold\": 2.0},\n",
    "        \"tukey53H\": {\"threshold\": 1.5},\n",
    "    },\n",
    "    \"PSAL\": {\n",
    "        \"global_range\": {\"minval\": 0, \"maxval\": 40},\n",
    "        \"gradient\": {\"threshold\": 10.0},\n",
    "        \"spike\": {\"threshold\": 2.0},\n",
    "        \"tukey53H\": {\"threshold\": 1.5},\n",
    "    }\n",
    "\n",
    "}"
   ]
  },
  {
   "cell_type": "code",
   "execution_count": null,
   "metadata": {},
   "outputs": [],
   "source": [
    "qc = cotede.ProfileQC(data, cfg=cfg)"
   ]
  },
  {
   "cell_type": "code",
   "execution_count": null,
   "metadata": {},
   "outputs": [],
   "source": [
    "qc.flags.keys()"
   ]
  },
  {
   "cell_type": "code",
   "execution_count": null,
   "metadata": {},
   "outputs": [],
   "source": []
  },
  {
   "cell_type": "markdown",
   "metadata": {},
   "source": [
    "## Using CoTeDe QC framework\n",
    "CoTeDe automates many procedures for QC. Let's start using the standard procedure."
   ]
  },
  {
   "cell_type": "markdown",
   "metadata": {},
   "source": [
    "That's it, the primary and secondary sensors were evaluated. First the same variables in the input are available in the output object."
   ]
  },
  {
   "cell_type": "code",
   "execution_count": null,
   "metadata": {},
   "outputs": [],
   "source": [
    "print(\"Variables available in data: {}\\n\".format(data.keys()))\n",
    "print(\"Variables available in pqc: {}\\n\".format(pqc.keys()))"
   ]
  },
  {
   "cell_type": "code",
   "execution_count": null,
   "metadata": {},
   "outputs": [],
   "source": [
    "print(\"Flags available for temperature {}\\n\".format(pqc.flags[\"TEMP\"].keys()))\n",
    "print(\"Flags available for salinity {}\\n\".format(pqc.flags[\"PSAL\"].keys()))"
   ]
  },
  {
   "cell_type": "markdown",
   "metadata": {},
   "source": [
    "The flags are on IOC standard, thus 1 means good while 4 means bad.\n",
    "0 is used when the QC there was no QC. For instance, the spike test is defined so that it depends on the previous and following measurements, thus the first and last data point of the array will always have a spike flag equal to 0.\n",
    "\n",
    "Let's check the salinity with feasible values:"
   ]
  },
  {
   "cell_type": "code",
   "execution_count": null,
   "metadata": {},
   "outputs": [],
   "source": []
  },
  {
   "cell_type": "code",
   "execution_count": null,
   "metadata": {},
   "outputs": [],
   "source": []
  },
  {
   "cell_type": "code",
   "execution_count": null,
   "metadata": {},
   "outputs": [],
   "source": []
  },
  {
   "cell_type": "code",
   "execution_count": null,
   "metadata": {},
   "outputs": [],
   "source": [
    "# ToDo: Include a shaded area for unfeasible values\n",
    "\n",
    "idx_valid = (qc.flags[\"TEMP\"][\"overall\"] <= 2)\n",
    "\n",
    "p1 = figure(plot_width=420, plot_height=600, title=\"Global Range Check (-2 <= T <= 40)\")\n",
    "p1.circle(data['TEMP'][idx_valid], -data['PRES'][idx_valid], size=8, line_color=\"seagreen\", fill_color=\"mediumseagreen\", fill_alpha=0.3, legend_label=\"Good values\")\n",
    "p1.triangle(data['TEMP'][~idx_valid], -data['PRES'][~idx_valid], size=8, line_color=\"red\", fill_color=\"red\", fill_alpha=0.3, legend_label=\"Bad values\")\n",
    "p1.xaxis.axis_label = \"Temperature [C]\"\n",
    "p1.yaxis.axis_label = \"Depth [m]\"\n",
    "\n",
    "\n",
    "idx_valid = (qc.flags[\"PSAL\"][\"overall\"] <= 2)\n",
    "\n",
    "p2 = figure(plot_width=420, plot_height=600, title=\"Global Range Check (0 <= S <= 41)\")\n",
    "p2.y_range = p1.y_range\n",
    "p2.circle(data['PSAL'][idx_valid], -data['PRES'][idx_valid], size=8, line_color=\"seagreen\", fill_color=\"mediumseagreen\", fill_alpha=0.3, legend_label=\"Good values\")\n",
    "p2.triangle(data['PSAL'][~idx_valid], -data['PRES'][~idx_valid], size=8, line_color=\"red\", fill_color=\"red\", fill_alpha=0.3, legend_label=\"Bad values\")\n",
    "p2.xaxis.axis_label = \"Pratical Salinity\"\n",
    "p2.yaxis.axis_label = \"Depth [m]\"\n",
    "\n",
    "p = row(p1, p2)\n",
    "show(p)"
   ]
  },
  {
   "cell_type": "code",
   "execution_count": null,
   "metadata": {},
   "outputs": [],
   "source": []
  },
  {
   "cell_type": "code",
   "execution_count": null,
   "metadata": {},
   "outputs": [],
   "source": []
  },
  {
   "cell_type": "code",
   "execution_count": null,
   "metadata": {},
   "outputs": [],
   "source": []
  },
  {
   "cell_type": "code",
   "execution_count": null,
   "metadata": {},
   "outputs": [],
   "source": []
  },
  {
   "cell_type": "markdown",
   "metadata": {},
   "source": [
    "## More tests: GTSPP Spike and Gradient tests\n",
    "OK, let's apply more tests beyond the global range.\n",
    "Some common ones are the gradient and spike, and we could use CoTeDe to run that like"
   ]
  },
  {
   "cell_type": "code",
   "execution_count": null,
   "metadata": {},
   "outputs": [],
   "source": [
    "y_gradient = qctests.Gradient(data, 'TEMP', cfg={\"threshold\": 10})\n",
    "y_gradient.flags"
   ]
  },
  {
   "cell_type": "code",
   "execution_count": null,
   "metadata": {},
   "outputs": [],
   "source": [
    "y_spike = qctests.Spike(data, 'TEMP', cfg={\"threshold\": 2.0})\n",
    "y_spike.flags"
   ]
  },
  {
   "cell_type": "code",
   "execution_count": null,
   "metadata": {},
   "outputs": [],
   "source": []
  },
  {
   "cell_type": "code",
   "execution_count": null,
   "metadata": {},
   "outputs": [],
   "source": []
  },
  {
   "cell_type": "code",
   "execution_count": null,
   "metadata": {},
   "outputs": [],
   "source": []
  },
  {
   "cell_type": "code",
   "execution_count": null,
   "metadata": {},
   "outputs": [],
   "source": []
  },
  {
   "cell_type": "code",
   "execution_count": null,
   "metadata": {},
   "outputs": [],
   "source": []
  },
  {
   "cell_type": "code",
   "execution_count": null,
   "metadata": {},
   "outputs": [],
   "source": []
  },
  {
   "cell_type": "code",
   "execution_count": null,
   "metadata": {},
   "outputs": [],
   "source": []
  },
  {
   "cell_type": "code",
   "execution_count": null,
   "metadata": {},
   "outputs": [],
   "source": []
  },
  {
   "cell_type": "markdown",
   "metadata": {},
   "source": [
    "## The Easiest Way: High level\n",
    "Let's evaluate this profile using EuroGOOS standard tests."
   ]
  },
  {
   "cell_type": "code",
   "execution_count": null,
   "metadata": {},
   "outputs": [],
   "source": [
    "pqced = cotede.ProfileQCed(data, cfg='eurogoos')"
   ]
  },
  {
   "cell_type": "code",
   "execution_count": null,
   "metadata": {},
   "outputs": [],
   "source": [
    "p = figure(plot_width=500, plot_height=600)\n",
    "p.circle(pqced['TEMP'], -pqced['PRES'], size=8, line_color=\"green\", fill_color=\"green\", fill_alpha=0.3)\n",
    "show(p)"
   ]
  },
  {
   "cell_type": "markdown",
   "metadata": {},
   "source": [
    "## QC with more control: \"medium\" level"
   ]
  },
  {
   "cell_type": "code",
   "execution_count": null,
   "metadata": {},
   "outputs": [],
   "source": [
    "pqc = cotede.ProfileQC(data, cfg='eurogoos')"
   ]
  },
  {
   "cell_type": "code",
   "execution_count": null,
   "metadata": {},
   "outputs": [],
   "source": [
    "pqc.keys()"
   ]
  },
  {
   "cell_type": "code",
   "execution_count": null,
   "metadata": {},
   "outputs": [],
   "source": [
    "pqc.flags[\"TEMP\"]"
   ]
  },
  {
   "cell_type": "code",
   "execution_count": null,
   "metadata": {},
   "outputs": [],
   "source": [
    "data.keys()"
   ]
  },
  {
   "cell_type": "markdown",
   "metadata": {},
   "source": [
    "### Low level"
   ]
  },
  {
   "cell_type": "code",
   "execution_count": null,
   "metadata": {},
   "outputs": [],
   "source": [
    "from cotede import qctests\n",
    "y = qctests.GlobalRange(data, 'TEMP', cfg={'minval': -4, \"maxval\": 45 })\n",
    "y.flags"
   ]
  },
  {
   "cell_type": "code",
   "execution_count": null,
   "metadata": {},
   "outputs": [],
   "source": [
    "y = qctests.Tukey53H(data, 'TEMP', cfg={'threshold': 6, \"l\": 12})\n",
    "y.features[\"tukey53H\"]\n",
    "p = figure(plot_width=500, plot_height=600)\n",
    "p.circle(y.features[\"tukey53H\"], -data['PRES'], size=8, line_color=\"green\", fill_color=\"green\", fill_alpha=0.3)\n",
    "show(p)"
   ]
  },
  {
   "cell_type": "code",
   "execution_count": null,
   "metadata": {},
   "outputs": [],
   "source": []
  },
  {
   "cell_type": "code",
   "execution_count": null,
   "metadata": {},
   "outputs": [],
   "source": []
  },
  {
   "cell_type": "code",
   "execution_count": null,
   "metadata": {},
   "outputs": [],
   "source": []
  },
  {
   "cell_type": "code",
   "execution_count": null,
   "metadata": {},
   "outputs": [],
   "source": []
  },
  {
   "cell_type": "code",
   "execution_count": null,
   "metadata": {},
   "outputs": [],
   "source": [
    "cfg = {'TEMP': {'global_range': {'minval': -4, 'maxval': 45}}}\n",
    "\n",
    "pqc = ProfileQC(data, cfg)\n",
    "\n",
    "pqc.flags['TEMP']\n",
    "pqc.flags['TEMP']['overall']\n",
    "\n",
    "idx_good = pqc.flags['TEMP']['overall'] <= 2\n",
    "idx_bad = pqc.flags['TEMP']['overall'] >= 3\n",
    "\n",
    "p = figure(plot_width=500, plot_height=600)\n",
    "p.circle(data['TEMP'][idx_good], -data['PRES'][idx_good], size=8, line_color=\"green\", fill_color=\"green\", fill_alpha=0.3)\n",
    "p.triangle(data['TEMP'][idx_bad], -data['PRES'][idx_bad], size=8, line_color=\"red\", fill_color=\"red\", fill_alpha=0.3)\n",
    "show(p)"
   ]
  },
  {
   "cell_type": "code",
   "execution_count": null,
   "metadata": {},
   "outputs": [],
   "source": [
    "cfg['TEMP']['spike'] = {'threshold': 6}\n",
    "\n",
    "pqc = ProfileQC(data, cfg)\n",
    "\n",
    "pqc.flags['TEMP']\n",
    "pqc.flags['TEMP']['overall']\n",
    "\n",
    "idx_good = pqc.flags['TEMP']['overall'] <= 2\n",
    "idx_bad = pqc.flags['TEMP']['overall'] >= 3\n",
    "\n",
    "p = figure(plot_width=500, plot_height=600)\n",
    "p.circle(data['TEMP'][idx_good], -data['PRES'][idx_good], size=8, line_color=\"green\", fill_color=\"green\", fill_alpha=0.3)\n",
    "p.triangle(data['TEMP'][idx_bad], -data['PRES'][idx_bad], size=8, line_color=\"red\", fill_color=\"red\", fill_alpha=0.3)\n",
    "show(p)"
   ]
  },
  {
   "cell_type": "code",
   "execution_count": null,
   "metadata": {},
   "outputs": [],
   "source": [
    "cfg['TEMP']['woa_normbias'] = {'threshold': 6}\n",
    "\n",
    "\n",
    "pqc = ProfileQC(data, cfg)\n",
    "\n",
    "pqc.flags['TEMP']\n",
    "pqc.flags['TEMP']['overall']\n",
    "\n",
    "idx_good = pqc.flags['TEMP']['overall'] <= 2\n",
    "idx_bad = pqc.flags['TEMP']['overall'] >= 3\n",
    "\n",
    "p = figure(plot_width=500, plot_height=600)\n",
    "p.circle(data['TEMP'][idx_good], -data['PRES'][idx_good], size=8, line_color=\"green\", fill_color=\"green\", fill_alpha=0.3)\n",
    "p.triangle(data['TEMP'][idx_bad], -data['PRES'][idx_bad], size=8, line_color=\"red\", fill_color=\"red\", fill_alpha=0.3)\n",
    "show(p)"
   ]
  },
  {
   "cell_type": "code",
   "execution_count": null,
   "metadata": {},
   "outputs": [],
   "source": [
    "cfg['TEMP']['spike_depthconditional'] = {\"pressure_threshold\": 500, \"shallow_max\": 6.0, \"deep_max\": 2.0}\n",
    "\n",
    "pqc = ProfileQC(data, cfg)\n",
    "\n",
    "pqc.flags['TEMP']\n",
    "pqc.flags['TEMP']['overall']\n",
    "\n",
    "idx_good = pqc.flags['TEMP']['overall'] <= 2\n",
    "idx_bad = pqc.flags['TEMP']['overall'] >= 3\n",
    "\n",
    "p = figure(plot_width=500, plot_height=600)\n",
    "p.circle(data['TEMP'][idx_good], -data['PRES'][idx_good], size=8, line_color=\"green\", fill_color=\"green\", fill_alpha=0.3)\n",
    "p.triangle(data['TEMP'][idx_bad], -data['PRES'][idx_bad], size=8, line_color=\"red\", fill_color=\"red\", fill_alpha=0.3)\n",
    "show(p)"
   ]
  },
  {
   "cell_type": "code",
   "execution_count": null,
   "metadata": {},
   "outputs": [],
   "source": [
    "## The Easiest Way: High level\n",
    "Let's evaluate this profile using EuroGOOS standard tests."
   ]
  },
  {
   "cell_type": "code",
   "execution_count": null,
   "metadata": {},
   "outputs": [],
   "source": [
    "pqced = cotede.ProfileQCed(data, cfg='eurogoos')"
   ]
  },
  {
   "cell_type": "code",
   "execution_count": null,
   "metadata": {},
   "outputs": [],
   "source": [
    "p = figure(plot_width=500, plot_height=600)\n",
    "p.circle(pqced['TEMP'], -pqced['PRES'], size=8, line_color=\"green\", fill_color=\"green\", fill_alpha=0.3)\n",
    "show(p)"
   ]
  },
  {
   "cell_type": "code",
   "execution_count": null,
   "metadata": {},
   "outputs": [],
   "source": [
    "## QC with more control: \"medium\" level"
   ]
  },
  {
   "cell_type": "code",
   "execution_count": null,
   "metadata": {},
   "outputs": [],
   "source": [
    "pqc = cotede.ProfileQC(data, cfg='eurogoos')"
   ]
  },
  {
   "cell_type": "code",
   "execution_count": null,
   "metadata": {},
   "outputs": [],
   "source": [
    "pqc.keys()"
   ]
  },
  {
   "cell_type": "code",
   "execution_count": null,
   "metadata": {},
   "outputs": [],
   "source": [
    "pqc.flags[\"TEMP\"]"
   ]
  },
  {
   "cell_type": "code",
   "execution_count": null,
   "metadata": {},
   "outputs": [],
   "source": [
    "data.keys()"
   ]
  },
  {
   "cell_type": "code",
   "execution_count": null,
   "metadata": {},
   "outputs": [],
   "source": [
    "### Low level"
   ]
  },
  {
   "cell_type": "code",
   "execution_count": null,
   "metadata": {},
   "outputs": [],
   "source": [
    "from cotede import qctests\n",
    "y = qctests.GlobalRange(data, 'TEMP', cfg={'minval': -4, \"maxval\": 45 })\n",
    "y.flags"
   ]
  },
  {
   "cell_type": "code",
   "execution_count": null,
   "metadata": {},
   "outputs": [],
   "source": [
    "y = qctests.Tukey53H(data, 'TEMP', cfg={'threshold': 6, \"l\": 12})\n",
    "y.features[\"tukey53H\"]\n",
    "p = figure(plot_width=500, plot_height=600)\n",
    "p.circle(y.features[\"tukey53H\"], -data['PRES'], size=8, line_color=\"green\", fill_color=\"green\", fill_alpha=0.3)\n",
    "show(p)"
   ]
  },
  {
   "cell_type": "code",
   "execution_count": null,
   "metadata": {},
   "outputs": [],
   "source": []
  },
  {
   "cell_type": "code",
   "execution_count": null,
   "metadata": {},
   "outputs": [],
   "source": []
  },
  {
   "cell_type": "code",
   "execution_count": null,
   "metadata": {},
   "outputs": [],
   "source": []
  },
  {
   "cell_type": "code",
   "execution_count": null,
   "metadata": {},
   "outputs": [],
   "source": []
  }
 ],
 "metadata": {
  "kernelspec": {
   "display_name": "Python 3",
   "language": "python",
   "name": "python3"
  },
  "language_info": {
   "codemirror_mode": {
    "name": "ipython",
    "version": 3
   },
   "file_extension": ".py",
   "mimetype": "text/x-python",
   "name": "python",
   "nbconvert_exporter": "python",
   "pygments_lexer": "ipython3",
   "version": "3.8.5"
  }
 },
 "nbformat": 4,
 "nbformat_minor": 4
}
