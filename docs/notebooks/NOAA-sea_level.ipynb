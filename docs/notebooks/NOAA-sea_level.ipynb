{
 "cells": [
  {
   "cell_type": "markdown",
   "metadata": {},
   "source": [
    "# [WIP] Quality control - water level timeseries"
   ]
  },
  {
   "cell_type": "markdown",
   "metadata": {},
   "source": [
    "Show how to quality control a water level timeseries using CoTeDe\n",
    "\n",
    "WIP:\n",
    "- Missing local noise test\n",
    "\n",
    "## Objective:\n",
    "Show how to use CoTeDe to quality control timeseries of water level records.\n",
    "\n",
    "## Notes:\n",
    "- This and other notebooks on quality control are available at https://cotede.castelao.net in /docs/notebooks/. There you can play the notebooks without installing anything in your machine."
   ]
  },
  {
   "cell_type": "code",
   "execution_count": null,
   "metadata": {},
   "outputs": [],
   "source": [
    "import numpy as np\n",
    "from bokeh.io import output_notebook, show\n",
    "from bokeh.layouts import column, row\n",
    "from bokeh.models import ColumnDataSource, CustomJS, Slider\n",
    "from bokeh.plotting import figure\n",
    "import pandas as pd\n",
    "from scipy import stats\n",
    "\n",
    "import cotede\n",
    "from cotede import datasets, qctests"
   ]
  },
  {
   "cell_type": "code",
   "execution_count": null,
   "metadata": {},
   "outputs": [],
   "source": [
    "print(\"CoTeDe version: {}\".format(cotede.__version__))"
   ]
  },
  {
   "cell_type": "code",
   "execution_count": null,
   "metadata": {},
   "outputs": [],
   "source": [
    "output_notebook()"
   ]
  },
  {
   "cell_type": "markdown",
   "metadata": {},
   "source": [
    "## Data\n",
    "We'll use a water level sample dataset from CoTeDe for this tutorial. This is the water level station: 8764227 LAWMA, Amerada Pass, LA, operated by NOAA / NOS / CO-OPS, and kindly provided by Lindsay Abrams. If curious about this dataset, check CoTeDe's documentation for more details and credits.\n",
    "\n",
    "Fortunatelly, this data was already flagged by NOAA personel, so let's take that as our ground truth and use it as a reference to verify if we are doing a good job. But keep in mind that the idea is to pretend that we are analysing a raw dataset, i.e. we wouldn't know the answer a priori.\n",
    "\n",
    "Let's load the data and check which variables are available."
   ]
  },
  {
   "cell_type": "code",
   "execution_count": null,
   "metadata": {},
   "outputs": [],
   "source": [
    "data = cotede.datasets.load_water_level()\n",
    "\n",
    "print(\"The variables are: \", sorted(data.keys()))\n",
    "print(\"There is a total of {} observations.\".format(len(data[\"epoch\"])))"
   ]
  },
  {
   "cell_type": "markdown",
   "metadata": {},
   "source": [
    "This data was previously quality controlled. Let's use that as our indexes of good and bad data to verify what we should be identifying."
   ]
  },
  {
   "cell_type": "code",
   "execution_count": null,
   "metadata": {},
   "outputs": [],
   "source": [
    "idx_good = ~data[\"flagged\"]\n",
    "idx_bad = data[\"flagged\"]"
   ]
  },
  {
   "cell_type": "code",
   "execution_count": null,
   "metadata": {},
   "outputs": [],
   "source": [
    "# A time series with the data\n",
    "# x_axis_type='datetime'\n",
    "p = figure(plot_width=750, plot_height=300, title=\"Water Level\")\n",
    "p.circle(data['epoch'][idx_good], data[\"water_level\"][idx_good], size=8, line_color=\"orange\", fill_color=\"orange\", fill_alpha=0.5, legend_label=\"Good values\")\n",
    "p.triangle(data[\"epoch\"][idx_bad], data[\"water_level\"][idx_bad], size=12, line_color=\"red\", fill_color=\"red\", fill_alpha=0.8, legend_label=\"Bad values\")\n",
    "\n",
    "p.legend.location = \"top_left\"\n",
    "show(p)"
   ]
  },
  {
   "cell_type": "markdown",
   "metadata": {},
   "source": [
    "### Describing the Data\n",
    "Based on the manual flagging, let's check the distribution of the good and bad data."
   ]
  },
  {
   "cell_type": "code",
   "execution_count": null,
   "metadata": {},
   "outputs": [],
   "source": [
    "hist_good, edges_good = np.histogram(data[\"water_level\"][idx_good], density=False, bins=50)\n",
    "hist_bad, edges_bad = np.histogram(data[\"water_level\"][idx_bad], density=False, bins=50)\n",
    "\n",
    "p = figure(plot_width=750, plot_height=300, background_fill_color=\"#fafafa\", title=\"Data distribution\")\n",
    "p.quad(top=hist_good, bottom=0, left=edges_good[:-1], right=edges_good[1:],\n",
    "           fill_color=\"green\", line_color=\"white\", alpha=0.5, legend_label=\"Good data\")\n",
    "p.quad(top=hist_bad, bottom=0, left=edges_bad[:-1], right=edges_bad[1:],\n",
    "           fill_color=\"red\", line_color=\"white\", alpha=0.5, legend_label=\"Bad data\")\n",
    "show(p)"
   ]
  },
  {
   "cell_type": "markdown",
   "metadata": {},
   "source": [
    "A large fraction of the bad data is clearly distinct of the typical values of good measurements, with magnitudes higher than 14.\n",
    "This maximum value is typically associated with the maximum value possible for a sensor or an unfeasible value used to assing a \"missing value\" also called \"Fill Value\", but I don't know if this is the case for this dataset.\n",
    "It is common to any raw measurements to get measurements with unfeasible values and since this is probably the easiest error to identify we shall address it right the way.\n",
    "\n",
    "Someone with experience with these sensors and this station should be able to suggest a limit for possible events.\n",
    "This limit should be forgiven since we usually don't want to risk flagging good values as bad ones.\n",
    "For this tutorial, let's guess that 12 is the limit and anything higher than 12 wouldn't be feasible in normal conditions for this station. If you're not happy with the idea of this arbitrary choice, check the notebook of Anomaly Detection with sea level for a probabilistic criterion.\n",
    "\n",
    "This QC check based on feasible values is traditionally called \"Global Range\" check."
   ]
  },
  {
   "cell_type": "markdown",
   "metadata": {},
   "source": [
    "## Global Range: Check for Feasible Values\n",
    "Let's assume that the sea level on this station can be as low as 6 and as high as 12, even considering extreme contidions like a storm event.\n",
    "At this point we don't want to eliminate good data by mistake."
   ]
  },
  {
   "cell_type": "code",
   "execution_count": null,
   "metadata": {},
   "outputs": [],
   "source": [
    "idx_valid = (data[\"water_level\"] > 6) & (data[\"water_level\"] < 12)\n",
    "\n",
    "p = figure(plot_width=750, plot_height=300, title=\"Water Level\")\n",
    "p.circle(data['epoch'][idx_valid], data[\"water_level\"][idx_valid], size=8, line_color=\"orange\", fill_color=\"orange\", fill_alpha=0.5, legend_label=\"Good values\")\n",
    "p.triangle(data[\"epoch\"][~idx_valid], data[\"water_level\"][~idx_valid], size=12, line_color=\"red\", fill_color=\"red\", fill_alpha=0.8, legend_label=\"Bad values\")\n",
    "\n",
    "p.legend.location = \"top_left\"\n",
    "show(p)"
   ]
  },
  {
   "cell_type": "markdown",
   "metadata": {},
   "source": [
    "Great, we already identified a significant number of bad measurements.\n",
    "The global range test is a simple and light test, and there is no reason to always apply it in normal conditions, but this is usually not enough.\n",
    "We will need to apply other tests to capture more bad measurements.\n",
    "\n",
    "Several QC tests were already implemente in CoTeDe, so you don't need to code it again.\n",
    "For instance, the global range test is available as `qctests.GlobalRange` and we can use it like"
   ]
  },
  {
   "cell_type": "code",
   "execution_count": null,
   "metadata": {},
   "outputs": [],
   "source": [
    "qc_global_range = qctests.GlobalRange(data, \"water_level\", cfg={\"minval\": 6, \"maxval\": 12})\n",
    "qc_global_range.flags"
   ]
  },
  {
   "cell_type": "markdown",
   "metadata": {},
   "source": [
    "The Global Range is a trivial to implement, but there are other checks that are more complex and CoTeDe provides a solution for that.\n",
    "For instance, let's consider another traditional procedure, the Spike check."
   ]
  },
  {
   "cell_type": "markdown",
   "metadata": {},
   "source": [
    "## Spike\n",
    "The spike check is a quite traditional one and is based on the principle of comparing one measurement with the tendency observed from the neighbor values.\n",
    "We could implement it as follows:"
   ]
  },
  {
   "cell_type": "code",
   "execution_count": null,
   "metadata": {},
   "outputs": [],
   "source": [
    "def spike(x):\n",
    "    \"\"\"Spike check as defined by GTSPP\n",
    "    \"\"\"\n",
    "    y = np.nan * x\n",
    "    y[1:-1] = np.abs(x[1:-1] - (x[:-2] + x[2:]) / 2.0) - np.abs((x[2:] - x[:-2]) / 2.0)\n",
    "    return y"
   ]
  },
  {
   "cell_type": "markdown",
   "metadata": {},
   "source": [
    "This is already implemented in CoTeDe as `qctests.spike`, and we could use it like:"
   ]
  },
  {
   "cell_type": "code",
   "execution_count": null,
   "metadata": {},
   "outputs": [],
   "source": [
    "sea_level_spike = qctests.spike(data[\"water_level\"])\n",
    "\n",
    "print(\"The largest spike observed was: {:.3f}\".format(np.nanmax(np.abs(sea_level_spike))))"
   ]
  },
  {
   "cell_type": "markdown",
   "metadata": {},
   "source": [
    "The traditional approach to use the spike check is by comparing the \"spikeness magnitude\" with a threshold.\n",
    "If larger than that limit it is considered bad.\n",
    "Similar to the global range check, we could hence use the `spike()` and compare the output with acceptable limits.\n",
    "This procedure is already available in CoTeDe as `qctests.Spike` and we can use it as follows,"
   ]
  },
  {
   "cell_type": "code",
   "execution_count": null,
   "metadata": {},
   "outputs": [],
   "source": [
    "y_spike = qctests.Spike(data, \"water_level\", cfg={\"threshold\": 2.0})\n",
    "y_spike.flags"
   ]
  },
  {
   "cell_type": "markdown",
   "metadata": {},
   "source": [
    "Like the Global Range, it provides the quality flags obtained from this procedure.\n",
    "Note that the standard flagging follows the IOC recommendation (to customize the flags, check the manual), thus 1 means good data while 0 is no QC applied.\n",
    "The spike check is based on the previous and following measurements, thus it can't evaluate the first of the last values, returning flag 0 for those two measurements.\n",
    "\n",
    "Some procedures provide more than just the flags, but also include features derived from the original measurements.\n",
    "For instance, if one was interested in the \"spike intensity\" of one measurement, that could be inspected as:"
   ]
  },
  {
   "cell_type": "code",
   "execution_count": null,
   "metadata": {},
   "outputs": [],
   "source": [
    "y_spike.features"
   ]
  },
  {
   "cell_type": "markdown",
   "metadata": {},
   "source": [
    "## Multiple tests\n",
    "QC checks are usually focused on specific characteristics of bad measurements, thus to cover a wider range of issues we typically combine a set of checks.\n",
    "Let's apply the Gradient check"
   ]
  },
  {
   "cell_type": "code",
   "execution_count": null,
   "metadata": {},
   "outputs": [],
   "source": [
    "y_gradient = qctests.Gradient(data, \"water_level\", cfg={\"threshold\": 10})\n",
    "y_gradient.flags"
   ]
  },
  {
   "cell_type": "code",
   "execution_count": null,
   "metadata": {},
   "outputs": [],
   "source": [
    "y_tukey53H = qctests.Gradient(data, \"water_level\", cfg={\"threshold\": 2.0})\n",
    "y_tukey53H.flags"
   ]
  },
  {
   "cell_type": "code",
   "execution_count": null,
   "metadata": {},
   "outputs": [],
   "source": [
    "cfg = {\n",
    "    \"water_level\": {\n",
    "        \"global_range\": {\"minval\": 6, \"maxval\": 12},\n",
    "        \"gradient\": {\"threshold\": 10.0},\n",
    "        \"spike\": {\"threshold\": 2.0},\n",
    "        \"tukey53H\": {\"threshold\": 1.5},\n",
    "        \"local_noise\": {\"threshold\": 0.2},\n",
    "        # \"rate_of_change\": {\"threshold\": 0.5}\n",
    "    }\n",
    "}"
   ]
  },
  {
   "cell_type": "code",
   "execution_count": null,
   "metadata": {},
   "outputs": [],
   "source": [
    "qc = cotede.TimeSeriesQC(data, cfg=cfg)"
   ]
  },
  {
   "cell_type": "code",
   "execution_count": null,
   "metadata": {},
   "outputs": [],
   "source": [
    "qc.flags.keys()"
   ]
  },
  {
   "cell_type": "code",
   "execution_count": null,
   "metadata": {},
   "outputs": [],
   "source": [
    "qc.flags[\"water_level\"]"
   ]
  },
  {
   "cell_type": "code",
   "execution_count": null,
   "metadata": {},
   "outputs": [],
   "source": [
    "qc_good = qc.flags[\"water_level\"][\"overall\"]"
   ]
  },
  {
   "cell_type": "code",
   "execution_count": null,
   "metadata": {},
   "outputs": [],
   "source": [
    "idx_valid = (qc_good <= 2)\n",
    "\n",
    "p = figure(plot_width=750, plot_height=300, title=\"Water Level\")\n",
    "p.circle(data['epoch'][idx_valid], data[\"water_level\"][idx_valid], size=8, line_color=\"orange\", fill_color=\"orange\", fill_alpha=0.5, legend_label=\"Good values\")\n",
    "p.triangle(data[\"epoch\"][~idx_valid], data[\"water_level\"][~idx_valid], size=12, line_color=\"red\", fill_color=\"red\", fill_alpha=0.8, legend_label=\"Bad values\")\n",
    "\n",
    "p.legend.location = \"top_left\"\n",
    "show(p)"
   ]
  },
  {
   "cell_type": "code",
   "execution_count": null,
   "metadata": {},
   "outputs": [],
   "source": []
  },
  {
   "cell_type": "code",
   "execution_count": null,
   "metadata": {},
   "outputs": [],
   "source": []
  }
 ],
 "metadata": {
  "kernelspec": {
   "display_name": "Python 3",
   "language": "python",
   "name": "python3"
  },
  "language_info": {
   "codemirror_mode": {
    "name": "ipython",
    "version": 3
   },
   "file_extension": ".py",
   "mimetype": "text/x-python",
   "name": "python",
   "nbconvert_exporter": "python",
   "pygments_lexer": "ipython3",
   "version": "3.8.5"
  }
 },
 "nbformat": 4,
 "nbformat_minor": 4
}
