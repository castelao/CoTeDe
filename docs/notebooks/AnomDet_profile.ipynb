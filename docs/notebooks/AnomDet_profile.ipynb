{
 "cells": [
  {
   "cell_type": "markdown",
   "metadata": {},
   "source": [
    "# CTD profile QC"
   ]
  },
  {
   "cell_type": "markdown",
   "metadata": {},
   "source": [
    "## Objective:\n",
    "Illustrate some QC procedures using CoTeDe."
   ]
  },
  {
   "cell_type": "code",
   "execution_count": null,
   "metadata": {},
   "outputs": [],
   "source": [
    "from bokeh.io import output_notebook, show\n",
    "from bokeh.layouts import column, row\n",
    "from bokeh.plotting import figure\n",
    "import numpy as np\n",
    "from scipy import stats\n",
    "\n",
    "import cotede\n",
    "from cotede.qc import ProfileQC\n",
    "from cotede import qctests, datasets"
   ]
  },
  {
   "cell_type": "code",
   "execution_count": null,
   "metadata": {},
   "outputs": [],
   "source": [
    "output_notebook()"
   ]
  },
  {
   "cell_type": "markdown",
   "metadata": {},
   "source": [
    "## Data\n",
    "Let's start by loading a sample dataset."
   ]
  },
  {
   "cell_type": "code",
   "execution_count": null,
   "metadata": {},
   "outputs": [],
   "source": [
    "data = cotede.datasets.load_ctd()\n",
    "\n",
    "print(\"There is a total of {} observations.\\n\".format(len(data[\"TEMP\"])))\n",
    "print(\"The variables are: \", data.keys())"
   ]
  },
  {
   "cell_type": "code",
   "execution_count": null,
   "metadata": {},
   "outputs": [],
   "source": [
    "p1 = figure(plot_width=420, plot_height=600)\n",
    "p1.circle(data['TEMP'], -data['PRES'], size=8, line_color=\"seagreen\", fill_color=\"mediumseagreen\", fill_alpha=0.3)\n",
    "p1.xaxis.axis_label = \"Temperature [C]\"\n",
    "p1.yaxis.axis_label = \"Depth [m]\"\n",
    "\n",
    "p2 = figure(plot_width=420, plot_height=600)\n",
    "p2.y_range = p1.y_range\n",
    "p2.circle(data['PSAL'], -data['PRES'], size=8, line_color=\"seagreen\", fill_color=\"mediumseagreen\", fill_alpha=0.3)\n",
    "p2.xaxis.axis_label = \"Salinity\"\n",
    "p2.yaxis.axis_label = \"Depth [m]\"\n",
    "\n",
    "p = row(p1, p2)\n",
    "show(p)"
   ]
  },
  {
   "cell_type": "markdown",
   "metadata": {},
   "source": [
    "## Global Range: Check for Feasible Values"
   ]
  },
  {
   "cell_type": "code",
   "execution_count": null,
   "metadata": {},
   "outputs": [],
   "source": [
    "idx_valid = (data['TEMP'] > -2) & (data['TEMP'] < 40)\n",
    "\n",
    "p1 = figure(plot_width=420, plot_height=600, title=\"Global Range Check (-2 <= T <= 40)\")\n",
    "p1.circle(data['TEMP'][idx_valid], -data['PRES'][idx_valid], size=8, line_color=\"seagreen\", fill_color=\"mediumseagreen\", fill_alpha=0.3)\n",
    "p1.triangle(data['TEMP'][~idx_valid], -data['PRES'][~idx_valid], size=8, line_color=\"red\", fill_color=\"red\", fill_alpha=0.3)\n",
    "p1.xaxis.axis_label = \"Temperature [C]\"\n",
    "p1.yaxis.axis_label = \"Depth [m]\"\n",
    "\n",
    "\n",
    "idx_valid = (data['PSAL'] > 0) & (data['PSAL'] < 41)\n",
    "\n",
    "p2 = figure(plot_width=420, plot_height=600, title=\"Global Range Check (0 <= S <= 41)\")\n",
    "p2.y_range = p1.y_range\n",
    "p2.circle(data['PSAL'][idx_valid], -data['PRES'][idx_valid], size=8, line_color=\"seagreen\", fill_color=\"mediumseagreen\", fill_alpha=0.3)\n",
    "p2.triangle(data['PSAL'][~idx_valid], -data['PRES'][~idx_valid], size=8, line_color=\"red\", fill_color=\"red\", fill_alpha=0.3)\n",
    "p2.xaxis.axis_label = \"Pratical Salinity\"\n",
    "p2.yaxis.axis_label = \"Depth [m]\"\n",
    "\n",
    "p = row(p1, p2)\n",
    "show(p)"
   ]
  },
  {
   "cell_type": "markdown",
   "metadata": {},
   "source": [
    "## GTSPP's Spike Check"
   ]
  },
  {
   "cell_type": "code",
   "execution_count": null,
   "metadata": {},
   "outputs": [],
   "source": [
    "def spike(x):\n",
    "    \"\"\"Spike check as defined by GTSPP\n",
    "    \"\"\"\n",
    "    y = np.nan * x\n",
    "    y[1:-1] = np.abs(x[1:-1] - (x[:-2] + x[2:]) / 2.0) - np.abs((x[2:] - x[:-2]) / 2.0)\n",
    "    return y\n"
   ]
  },
  {
   "cell_type": "markdown",
   "metadata": {},
   "source": [
    "The spike check and many other ones are already implemented in CoTeDe, so let's use it cotede.qctests.spike().\n",
    "\n",
    "GTSPP recommends a spike threshold equal to 2C for temperature and 0.3 for salinity."
   ]
  },
  {
   "cell_type": "code",
   "execution_count": null,
   "metadata": {},
   "outputs": [],
   "source": [
    "t_spike = qctests.spike(data[\"TEMP\"])\n",
    "\n",
    "idx_good = np.absolute(t_spike) <= 2\n",
    "idx_bad = np.absolute(t_spike) > 2\n",
    "\n",
    "p1 = figure(plot_width=420, plot_height=500)\n",
    "p1.circle(data['TEMP'][idx_good], -data['PRES'][idx_good], size=8, line_color=\"green\", fill_color=\"green\", fill_alpha=0.3)\n",
    "p1.triangle(data['TEMP'][idx_bad], -data['PRES'][idx_bad], size=8, line_color=\"red\", fill_color=\"red\", fill_alpha=0.3)\n",
    "p1.xaxis.axis_label = \"Temperature [C]\"\n",
    "p1.yaxis.axis_label = \"Depth [m]\"\n",
    "\n",
    "p2 = figure(plot_width=420, plot_height=500)\n",
    "p2.y_range = p1.y_range\n",
    "p2.circle(t_spike[idx_good], -data['PRES'][idx_good], size=8, line_color=\"green\", fill_color=\"green\", fill_alpha=0.3)\n",
    "p2.triangle(t_spike[idx_bad], -data['PRES'][idx_bad], size=8, line_color=\"red\", fill_color=\"red\", fill_alpha=0.3)\n",
    "p2.xaxis.axis_label = \"Spike(T)\"\n",
    "p2.yaxis.axis_label = \"Depth [m]\"\n",
    "\n",
    "\n",
    "s_spike = qctests.spike(data[\"PSAL\"])\n",
    "\n",
    "idx_good = np.absolute(s_spike) <= 2\n",
    "idx_bad = np.absolute(s_spike) > 2\n",
    "\n",
    "p3 = figure(plot_width=420, plot_height=500)\n",
    "p3.y_range = p1.y_range\n",
    "p3.circle(data['PSAL'][idx_good], -data['PRES'][idx_good], size=8, line_color=\"green\", fill_color=\"green\", fill_alpha=0.3)\n",
    "p3.triangle(data['PSAL'][idx_bad], -data['PRES'][idx_bad], size=8, line_color=\"red\", fill_color=\"red\", fill_alpha=0.3)\n",
    "p3.xaxis.axis_label = \"Salinity\"\n",
    "p3.yaxis.axis_label = \"Depth [m]\"\n",
    "\n",
    "p4 = figure(plot_width=420, plot_height=500)\n",
    "p4.y_range = p1.y_range\n",
    "p4.circle(s_spike[idx_good], -data['PRES'][idx_good], size=8, line_color=\"green\", fill_color=\"green\", fill_alpha=0.3)\n",
    "p4.triangle(s_spike[idx_bad], -data['PRES'][idx_bad], size=8, line_color=\"red\", fill_color=\"red\", fill_alpha=0.3)\n",
    "p4.xaxis.axis_label = \"Spike(S)\"\n",
    "p4.yaxis.axis_label = \"Depth [m]\"\n",
    "\n",
    "p = column(row(p1, p2), row(p3, p4))\n",
    "show(p)"
   ]
  },
  {
   "cell_type": "markdown",
   "metadata": {},
   "source": [
    "## Using CoTeDe QC framework\n",
    "CoTeDe automates many procedures for QC. Let's start using the standard procedure."
   ]
  },
  {
   "cell_type": "code",
   "execution_count": null,
   "metadata": {},
   "outputs": [],
   "source": [
    "pqc = cotede.ProfileQC(data)"
   ]
  },
  {
   "cell_type": "markdown",
   "metadata": {},
   "source": [
    "That's it, the primary and secondary sensors were evaluated. First the same variables in the input are available in the output object."
   ]
  },
  {
   "cell_type": "code",
   "execution_count": null,
   "metadata": {},
   "outputs": [],
   "source": [
    "print(\"Variables available in data: {}\\n\".format(data.keys()))\n",
    "print(\"Variables available in pqc: {}\\n\".format(pqc.keys()))"
   ]
  },
  {
   "cell_type": "code",
   "execution_count": null,
   "metadata": {},
   "outputs": [],
   "source": [
    "print(\"Flags available for temperature {}\\n\".format(pqc.flags[\"TEMP\"].keys()))\n",
    "print(\"Flags available for salinity {}\\n\".format(pqc.flags[\"PSAL\"].keys()))"
   ]
  },
  {
   "cell_type": "markdown",
   "metadata": {},
   "source": [
    "The flags are on IOC standard, thus 1 means good while 4 means bad.\n",
    "0 is used when the QC there was no QC. For instance, the spike test is defined so that it depends on the previous and following measurements, thus the first and last data point of the array will always have a spike flag equal to 0.\n",
    "\n",
    "Let's check the salinity with feasible values:"
   ]
  },
  {
   "cell_type": "code",
   "execution_count": null,
   "metadata": {},
   "outputs": [],
   "source": [
    "pqc.flags[\"PSAL\"][\"global_range\"]"
   ]
  },
  {
   "cell_type": "code",
   "execution_count": null,
   "metadata": {},
   "outputs": [],
   "source": [
    "pqc.flags[\"PSAL\"][\"spike\"]"
   ]
  },
  {
   "cell_type": "markdown",
   "metadata": {},
   "source": [
    "Let's check the salinity measurements that are bad of probably bad according to the Global Range check, i.e. unfeasible values of salinity."
   ]
  },
  {
   "cell_type": "code",
   "execution_count": null,
   "metadata": {},
   "outputs": [],
   "source": [
    "idx = pqc.flags[\"PSAL\"][\"global_range\"] >= 3\n",
    "pqc[\"PSAL\"][idx]"
   ]
  },
  {
   "cell_type": "markdown",
   "metadata": {},
   "source": [
    "The magnitudes of the tests are stored in features.\n",
    "\n",
    "Let's check which features were saved for temperature,"
   ]
  },
  {
   "cell_type": "code",
   "execution_count": null,
   "metadata": {},
   "outputs": [],
   "source": [
    "print(\"Features for temperature: {}\\n\".format(pqc.features[\"TEMP\"].keys()))"
   ]
  },
  {
   "cell_type": "markdown",
   "metadata": {},
   "source": [
    "The flag \"overall\" is the maximum value among all other flags as recommended by IOC flagging system.\n",
    "Therefore, if one measurement is flagged bad (flag=4) in a single test, it will get a flag 4.\n",
    "Likewise, a measurement with flag 1 means that from all applied tests there is no suspicious of being a bad measurement."
   ]
  },
  {
   "cell_type": "code",
   "execution_count": null,
   "metadata": {},
   "outputs": [],
   "source": [
    "pqc.flags[\"PSAL\"][\"overall\"]"
   ]
  },
  {
   "cell_type": "markdown",
   "metadata": {},
   "source": [
    "It's the same for salinity. Let's plot the salinity and it's respective normalized bias in respect to the WOA."
   ]
  },
  {
   "cell_type": "code",
   "execution_count": null,
   "metadata": {},
   "outputs": [],
   "source": [
    "idx_good = pqc.flags[\"PSAL\"][\"overall\"] <= 2\n",
    "idx_bad = pqc.flags[\"PSAL\"][\"overall\"] >= 3\n",
    "\n",
    "pressure = -pqc[\"PRES\"]\n",
    "salinity = pqc[\"PSAL\"]\n",
    "woa_normbias = pqc.features[\"PSAL\"][\"woa_normbias\"]\n",
    "\n",
    "\n",
    "p1 = figure(plot_width=420, plot_height=500)\n",
    "p1.circle(salinity[idx_good], pressure[idx_good], size=8, line_color=\"green\", fill_color=\"green\", fill_alpha=0.3)\n",
    "p1.triangle(salinity[idx_bad], pressure[idx_bad], size=8, line_color=\"red\", fill_color=\"red\", fill_alpha=0.3)\n",
    "p1.xaxis.axis_label = \"Salinity\"\n",
    "p1.yaxis.axis_label = \"Depth [m]\"\n",
    "\n",
    "p2 = figure(plot_width=420, plot_height=500)\n",
    "p2.y_range = p1.y_range\n",
    "p2.circle(woa_normbias[idx_good], pressure[idx_good], size=8, line_color=\"green\", fill_color=\"green\", fill_alpha=0.3)\n",
    "p2.triangle(woa_normbias[idx_bad], pressure[idx_bad], size=8, line_color=\"red\", fill_color=\"red\", fill_alpha=0.3)\n",
    "p2.xaxis.axis_label = \"WOA normalized bias\"\n",
    "p2.yaxis.axis_label = \"Depth [m]\"\n",
    "\n",
    "p = row(p1, p2)\n",
    "show(p)"
   ]
  },
  {
   "cell_type": "markdown",
   "metadata": {},
   "source": [
    "Let's look at the salinity in respect to the spike and WOA normalized bias.\n",
    "Near the bottom of the profile there some bad salinity measurement, which are mostly identified with the spike test.\n",
    "A few measurements aren't critically bad in respect to the spike or the climatology individually.\n",
    "One of the goals of the Anomaly Detection is to combine multiple features to an overall decision."
   ]
  },
  {
   "cell_type": "code",
   "execution_count": null,
   "metadata": {},
   "outputs": [],
   "source": [
    "\n",
    "idx_good = pqc.flags[\"PSAL\"][\"spike\"] <= 2\n",
    "idx_bad = pqc.flags[\"PSAL\"][\"spike\"] >= 3\n",
    "\n",
    "p1 = figure(plot_width=500, plot_height=600)\n",
    "p1.circle(pqc.features[\"PSAL\"][\"spike\"][idx_good], -pqc['PRES'][idx_good], size=8, line_color=\"green\", fill_color=\"green\", fill_alpha=0.3)\n",
    "p1.triangle(pqc.features[\"PSAL\"][\"spike\"][idx_bad], -data['PRES'][idx_bad], size=8, line_color=\"red\", fill_color=\"red\", fill_alpha=0.3)\n",
    "\n",
    "p2 = figure(plot_width=500, plot_height=600)\n",
    "p2.y_range = p1.y_range\n",
    "p2.circle(pqc['PSAL'][idx_good], -pqc['PRES'][idx_good], size=8, line_color=\"green\", fill_color=\"green\", fill_alpha=0.3)\n",
    "p2.line(pqc.features[\"PSAL\"][\"woa_mean\"] - 6 * pqc.features[\"PSAL\"][\"woa_std\"], -data['PRES'], line_width=4, line_color=\"orange\", alpha=0.4)\n",
    "p2.line(pqc.features[\"PSAL\"][\"woa_mean\"] + 6 * pqc.features[\"PSAL\"][\"woa_std\"], -data['PRES'], line_width=4, line_color=\"orange\", alpha=0.4)\n",
    "p2.triangle(data['PSAL'][idx_bad], -data['PRES'][idx_bad], size=8, line_color=\"red\", fill_color=\"red\", fill_alpha=0.3)\n",
    "\n",
    "p = row(p1, p2)\n",
    "show(p)"
   ]
  },
  {
   "cell_type": "code",
   "execution_count": null,
   "metadata": {},
   "outputs": [],
   "source": []
  },
  {
   "cell_type": "code",
   "execution_count": null,
   "metadata": {},
   "outputs": [],
   "source": []
  },
  {
   "cell_type": "code",
   "execution_count": null,
   "metadata": {},
   "outputs": [],
   "source": []
  }
 ],
 "metadata": {
  "kernelspec": {
   "display_name": "Python 3",
   "language": "python",
   "name": "python3"
  },
  "language_info": {
   "codemirror_mode": {
    "name": "ipython",
    "version": 3
   },
   "file_extension": ".py",
   "mimetype": "text/x-python",
   "name": "python",
   "nbconvert_exporter": "python",
   "pygments_lexer": "ipython3",
   "version": "3.8.5"
  }
 },
 "nbformat": 4,
 "nbformat_minor": 4
}
