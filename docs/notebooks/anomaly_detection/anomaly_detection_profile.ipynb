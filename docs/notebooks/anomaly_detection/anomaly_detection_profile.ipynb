{
 "cells": [
  {
   "cell_type": "markdown",
   "metadata": {},
   "source": [
    "# [WIP] Anomaly Detection concept with a CTD profile\n",
    "Comparing traditional QC with hard thresholds versus Anomaly Detection"
   ]
  },
  {
   "cell_type": "markdown",
   "metadata": {},
   "source": [
    "## Objective:\n",
    "\n",
    "Illustrate some QC procedures using CoTeDe.\n",
    "\n",
    "An example on how to QC a CTD profile\n",
    "\n",
    "- Introduce dataset that will be used\n",
    "- \n",
    "\n",
    "Suggest to check profile_CTD notebook first for the basics on how to use CoTeDe"
   ]
  },
  {
   "cell_type": "code",
   "execution_count": null,
   "metadata": {},
   "outputs": [],
   "source": [
    "from bokeh.io import output_notebook, show\n",
    "from bokeh.layouts import column, row\n",
    "from bokeh.plotting import figure\n",
    "import numpy as np\n",
    "from scipy import stats\n",
    "\n",
    "import cotede\n",
    "from cotede.qc import ProfileQC\n",
    "from cotede import qctests, datasets"
   ]
  },
  {
   "cell_type": "code",
   "execution_count": null,
   "metadata": {},
   "outputs": [],
   "source": [
    "output_notebook()"
   ]
  },
  {
   "cell_type": "markdown",
   "metadata": {},
   "source": [
    "## Data\n",
    "CoTeDe comes with some data for demonstration.\n",
    "On this tutorial we will use a CTD cast from the PIRATA hydrographic dataset, i.e. actual measurements from the Tropical Atlantic Ocean.\n",
    "If curious about this dataset, check CoTeDe's documentation for more details.\n",
    "\n",
    "Let's start by loading a sample dataset."
   ]
  },
  {
   "cell_type": "code",
   "execution_count": null,
   "metadata": {},
   "outputs": [],
   "source": [
    "data = cotede.datasets.load_ctd()\n",
    "\n",
    "print(\"There is a total of {} observed levels.\\n\".format(len(data[\"TEMP\"])))\n",
    "print(\"The variables are: \", data.keys())"
   ]
  },
  {
   "cell_type": "markdown",
   "metadata": {},
   "source": [
    "This CTD was equipped with backup sensors to provide more robustness. Measurements from the secondary sensor are identified by a 2 in the end of the name, such as \"TEMP2\" for the secondary temperature sensor. Let's focus here on the primary sensors.\n",
    "\n",
    "To visualize this profile we will use Bokeh which allows some interactivity, for instance, you can zoom in the plots to better see the details."
   ]
  },
  {
   "cell_type": "code",
   "execution_count": null,
   "metadata": {},
   "outputs": [],
   "source": [
    "p1 = figure(plot_width=420, plot_height=600)\n",
    "p1.circle(\n",
    "    data['TEMP'], -data['PRES'], size=8, line_color=\"seagreen\",\n",
    "    fill_color=\"mediumseagreen\", fill_alpha=0.3)\n",
    "p1.xaxis.axis_label = \"Temperature [C]\"\n",
    "p1.yaxis.axis_label = \"Depth [m]\"\n",
    "\n",
    "p2 = figure(plot_width=420, plot_height=600)\n",
    "p2.y_range = p1.y_range\n",
    "p2.circle(\n",
    "    data['PSAL'], -data['PRES'], size=8, line_color=\"seagreen\",\n",
    "    fill_color=\"mediumseagreen\", fill_alpha=0.3)\n",
    "p2.xaxis.axis_label = \"Salinity\"\n",
    "p2.yaxis.axis_label = \"Depth [m]\"\n",
    "\n",
    "p = row(p1, p2)\n",
    "show(p)"
   ]
  },
  {
   "cell_type": "markdown",
   "metadata": {},
   "source": [
    "Considering the unusual magnitudes and variability near the bottom, there are clearly bad measurements on this profile.\n",
    "Let's start with a traditional QC and then include Anomaly Detection on it."
   ]
  },
  {
   "cell_type": "markdown",
   "metadata": {},
   "source": [
    "## Traditional QC with CoTeDe framework\n",
    "*If you are not familiar with CoTeDe, it might be helpfull to check first the notebook profile_CTD and then come back.*\n",
    "\n",
    "Let's start with the procedure recommended by the EuroGOOS, for non-realtime data, which includes the climatology test comparison against WOA."
   ]
  },
  {
   "cell_type": "code",
   "execution_count": null,
   "metadata": {},
   "outputs": [],
   "source": [
    "pqc = cotede.ProfileQC(data, cfg=\"eurogoos\")"
   ]
  },
  {
   "cell_type": "markdown",
   "metadata": {},
   "source": [
    "That's it, the temperature and salinity from the primary and secondary sensors were all evaluated.\n",
    "\n",
    "Which criteria were flagged for the primary sensors?"
   ]
  },
  {
   "cell_type": "code",
   "execution_count": null,
   "metadata": {},
   "outputs": [],
   "source": [
    "print(\"Flags for temperature:\\n {}\\n\".format(list(pqc.flags[\"TEMP\"].keys())))\n",
    "\n",
    "print(\"Flags for salinity:\\n {}\\n\".format(list(pqc.flags[\"PSAL\"].keys())))"
   ]
  },
  {
   "cell_type": "markdown",
   "metadata": {},
   "source": [
    "The flags are on IOC standard, thus 1 means good while 4 means bad.\n",
    "0 is used when no QC test was applied.\n",
    "For instance, the spike test is defined so that it depends on the previous and following measurements, thus the first and last data point of the array will always have a spike flag equal to 0.\n",
    "\n",
    "How could we use that?\n",
    "Let's check the salinity measurements that are bad, or probably bad, according to the Global Range check, i.e. unfeasible values of salinity."
   ]
  },
  {
   "cell_type": "code",
   "execution_count": null,
   "metadata": {},
   "outputs": [],
   "source": [
    "idx = pqc.flags[\"PSAL\"][\"global_range\"] >= 3\n",
    "pqc[\"PSAL\"][idx]"
   ]
  },
  {
   "cell_type": "markdown",
   "metadata": {},
   "source": [
    "The flag \"overall\" combines all other criteria, and it is the maximum flag value among all the criteria applied, as recommended by IOC flagging system.\n",
    "Therefore, if one measurement is flagged bad (flag=4) in a single test, it will get a flag 4.\n",
    "Likewise, a measurement with flag 1 means that from all applied tests there is no suggestion of being a bad measurement."
   ]
  },
  {
   "cell_type": "code",
   "execution_count": null,
   "metadata": {},
   "outputs": [],
   "source": [
    "pqc.flags[\"PSAL\"][\"overall\"]"
   ]
  },
  {
   "cell_type": "markdown",
   "metadata": {},
   "source": [
    "#### EuroGOOS automatic QC\n",
    "Let's visualize what the automatic EuroGOOS procedure can detect for temperature and salinity. The concept is the same for all variables evaluated, i.e. there is a flag \"overall\" for \"TEMP\" and another one for \"PSAL\"."
   ]
  },
  {
   "cell_type": "code",
   "execution_count": null,
   "metadata": {},
   "outputs": [],
   "source": [
    "# ToDo: Include a shaded area for unfeasible values\n",
    "\n",
    "idx_good = pqc.flags[\"TEMP\"][\"overall\"] <= 2\n",
    "idx_bad = pqc.flags[\"TEMP\"][\"overall\"] >= 3\n",
    "\n",
    "p1 = figure(plot_width=420, plot_height=600, title=\"QC according to EuroGOOS\")\n",
    "p1.circle(data['TEMP'][idx_good], -data['PRES'][idx_good], size=8, line_color=\"seagreen\", fill_color=\"mediumseagreen\", fill_alpha=0.3, legend_label=\"Good values\")\n",
    "p1.triangle(data['TEMP'][idx_bad], -data['PRES'][idx_bad], size=8, line_color=\"red\", fill_color=\"red\", fill_alpha=0.3, legend_label=\"Bad values\")\n",
    "p1.xaxis.axis_label = \"Temperature [C]\"\n",
    "p1.yaxis.axis_label = \"Depth [m]\"\n",
    "p1.legend.location = \"top_right\"\n",
    "\n",
    "idx_good = pqc.flags[\"PSAL\"][\"overall\"] <= 2\n",
    "idx_bad = pqc.flags[\"PSAL\"][\"overall\"] >= 3\n",
    "\n",
    "p2 = figure(plot_width=420, plot_height=600, title=\"QC according to EuroGOOS\")\n",
    "p2.y_range = p1.y_range\n",
    "p2.circle(data['PSAL'][idx_good], -data['PRES'][idx_good], size=8, line_color=\"seagreen\", fill_color=\"mediumseagreen\", fill_alpha=0.3, legend_label=\"Good values\")\n",
    "p2.triangle(data['PSAL'][idx_bad], -data['PRES'][idx_bad], size=8, line_color=\"red\", fill_color=\"red\", fill_alpha=0.3, legend_label=\"Bad values\")\n",
    "p2.xaxis.axis_label = \"Pratical Salinity\"\n",
    "p2.yaxis.axis_label = \"Depth [m]\"\n",
    "p2.legend.location = \"top_right\"\n",
    "\n",
    "p = row(p1, p2)\n",
    "show(p)"
   ]
  },
  {
   "cell_type": "markdown",
   "metadata": {},
   "source": [
    "The result from the EuroGOOS recommendations is pretty good and it is actually one of my favorite QC setup when considering only the traditional methods.\n",
    "Most of the bad measurements were automatically detected, but if you zoom in below 800m you will notice some questionable measurements that were not flagged.\n",
    "In the following section we will see why did that happened."
   ]
  },
  {
   "cell_type": "markdown",
   "metadata": {},
   "source": [
    "## Limitations of the traditional unidimensional test"
   ]
  },
  {
   "cell_type": "code",
   "execution_count": null,
   "metadata": {},
   "outputs": [],
   "source": []
  },
  {
   "cell_type": "code",
   "execution_count": null,
   "metadata": {},
   "outputs": [],
   "source": [
    "from bokeh.models import ColumnDataSource, CustomJS, Slider\n",
    "\n",
    "threshold = Slider(title=\"threshold\", value=0.05, start=0.0, end=6.0, step=0.05, orientation=\"horizontal\")\n",
    "\n",
    "\n",
    "tmp = dict(\n",
    "    depth=-pqc[\"PRES\"],\n",
    "    temp=pqc[\"PSAL\"],\n",
    "    temp_good=pqc[\"PSAL\"].copy(),\n",
    "    temp_bad=pqc[\"PSAL\"].copy(),\n",
    "    tukey53H=np.absolute(pqc.features[\"PSAL\"][\"spike\"]),\n",
    "    tukey53H_good=np.absolute(pqc.features[\"PSAL\"][\"spike\"]),\n",
    "    tukey53H_bad=np.absolute(pqc.features[\"PSAL\"][\"spike\"]),    \n",
    ")\n",
    "idx = tmp[\"tukey53H\"] > threshold.value\n",
    "tmp[\"temp_good\"][idx] = np.nan\n",
    "tmp[\"temp_bad\"][~idx] = np.nan\n",
    "tmp[\"tukey53H_good\"][idx] = np.nan\n",
    "tmp[\"tukey53H_bad\"][~idx] = np.nan\n",
    "\n",
    "\n",
    "source = ColumnDataSource(data=tmp)\n",
    "\n",
    "\n",
    "callback = CustomJS(args=dict(source=source), code=\"\"\"\n",
    "    var data = source.data;\n",
    "    var f = cb_obj.value\n",
    "    var temp = data['temp']\n",
    "    var temp_good = data['temp_good']\n",
    "    var temp_bad = data['temp_bad']\n",
    "    var tukey53H = data['tukey53H']\n",
    "    var tukey53H_good = data['tukey53H_good']\n",
    "    var tukey53H_bad = data['tukey53H_bad']\n",
    "    for (var i = 0; i < temp.length; i++) {\n",
    "        if (tukey53H[i] > f) {\n",
    "            temp_good[i] = \"NaN\"\n",
    "            temp_bad[i] = temp[i]\n",
    "            tukey53H_good[i] = \"NaN\"\n",
    "            tukey53H_bad[i] = tukey53H[i]\n",
    "        } else {\n",
    "            temp_good[i] = temp[i]\n",
    "            temp_bad[i] = \"NaN\"\n",
    "            tukey53H_good[i] = tukey53H[i]\n",
    "            tukey53H_bad[i] = \"NaN\"\n",
    "        }\n",
    "    }\n",
    "    source.change.emit();\n",
    "\"\"\")\n",
    "\n",
    "\n",
    "threshold.js_on_change('value', callback)\n",
    "\n",
    "\n",
    "p1 = figure(plot_width=420, plot_height=600)\n",
    "p1.circle(\"temp_good\", \"depth\", source=source, size=8, line_color=\"green\", fill_color=\"green\", fill_alpha=0.3)\n",
    "p1.triangle(\"temp_bad\", \"depth\", source=source, size=8, line_color=\"red\", fill_color=\"red\", fill_alpha=0.3)\n",
    "\n",
    "p2 = figure(plot_width=420, plot_height=600)\n",
    "p2.y_range = p1.y_range\n",
    "p2.circle(\"tukey53H_good\", \"depth\", source=source, size=8, line_color=\"green\", fill_color=\"green\", fill_alpha=0.3)\n",
    "p2.triangle(\"tukey53H_bad\", \"depth\", source=source, size=8, line_color=\"red\", fill_color=\"red\", fill_alpha=0.3)\n",
    "# inputs = row(threshold)\n",
    "#threshold = column(slider)\n",
    "\n",
    "\n",
    "p = column(threshold, row(p1, p2))\n",
    "show(p)"
   ]
  },
  {
   "cell_type": "code",
   "execution_count": null,
   "metadata": {},
   "outputs": [],
   "source": []
  },
  {
   "cell_type": "code",
   "execution_count": null,
   "metadata": {},
   "outputs": [],
   "source": []
  },
  {
   "cell_type": "code",
   "execution_count": null,
   "metadata": {},
   "outputs": [],
   "source": []
  },
  {
   "cell_type": "markdown",
   "metadata": {},
   "source": [
    "Let's look at the salinity in respect to the spike and WOA normalized bias.\n",
    "Near the bottom of the profile there some bad salinity measurement, which are mostly identified with the spike test.\n",
    "A few measurements aren't critically bad in respect to the spike or the climatology individually.\n",
    "One of the goals of the Anomaly Detection is to combine multiple features to an overall decision, so that"
   ]
  },
  {
   "cell_type": "code",
   "execution_count": null,
   "metadata": {},
   "outputs": [],
   "source": [
    "\n",
    "idx_good = pqc.flags[\"PSAL\"][\"spike\"] <= 2\n",
    "idx_bad = pqc.flags[\"PSAL\"][\"spike\"] >= 3\n",
    "\n",
    "p1 = figure(plot_width=500, plot_height=600)\n",
    "p1.circle(pqc.features[\"PSAL\"][\"spike\"][idx_good], -pqc['PRES'][idx_good], size=8, line_color=\"green\", fill_color=\"green\", fill_alpha=0.3)\n",
    "p1.triangle(pqc.features[\"PSAL\"][\"spike\"][idx_bad], -data['PRES'][idx_bad], size=8, line_color=\"red\", fill_color=\"red\", fill_alpha=0.3)\n",
    "\n",
    "p2 = figure(plot_width=500, plot_height=600)\n",
    "p2.y_range = p1.y_range\n",
    "p2.circle(pqc['PSAL'][idx_good], -pqc['PRES'][idx_good], size=8, line_color=\"green\", fill_color=\"green\", fill_alpha=0.3)\n",
    "p2.line(pqc.features[\"PSAL\"][\"woa_mean\"] - 6 * pqc.features[\"PSAL\"][\"woa_std\"], -data['PRES'], line_width=4, line_color=\"orange\", alpha=0.4)\n",
    "p2.line(pqc.features[\"PSAL\"][\"woa_mean\"] + 6 * pqc.features[\"PSAL\"][\"woa_std\"], -data['PRES'], line_width=4, line_color=\"orange\", alpha=0.4)\n",
    "p2.triangle(data['PSAL'][idx_bad], -data['PRES'][idx_bad], size=8, line_color=\"red\", fill_color=\"red\", fill_alpha=0.3)\n",
    "\n",
    "p = row(p1, p2)\n",
    "show(p)"
   ]
  },
  {
   "cell_type": "code",
   "execution_count": null,
   "metadata": {},
   "outputs": [],
   "source": []
  },
  {
   "cell_type": "code",
   "execution_count": null,
   "metadata": {},
   "outputs": [],
   "source": [
    "data[\"PRES\"][825]"
   ]
  },
  {
   "cell_type": "code",
   "execution_count": null,
   "metadata": {},
   "outputs": [],
   "source": [
    "data[\"TEMP\"][825] = 5.5421"
   ]
  },
  {
   "cell_type": "code",
   "execution_count": null,
   "metadata": {},
   "outputs": [],
   "source": [
    "pqc = cotede.ProfileQC(data, cfg=\"cotede\")\n",
    "\n",
    "print(pqc.features[\"TEMP\"].keys())\n",
    "pqc.features[\"TEMP\"][\"anomaly_detection\"][824:827]"
   ]
  },
  {
   "cell_type": "code",
   "execution_count": null,
   "metadata": {},
   "outputs": [],
   "source": [
    "pqc[\"TEMP\"][824:827]"
   ]
  },
  {
   "cell_type": "code",
   "execution_count": null,
   "metadata": {},
   "outputs": [],
   "source": [
    "pqc.features[\"TEMP\"][\"woa_normbias\"][824:827]"
   ]
  },
  {
   "cell_type": "code",
   "execution_count": null,
   "metadata": {},
   "outputs": [],
   "source": [
    "pqc.features[\"PSAL\"][\"woa_normbias\"]"
   ]
  },
  {
   "cell_type": "code",
   "execution_count": null,
   "metadata": {},
   "outputs": [],
   "source": [
    "print(\"Variables that were flagged available: {}\\n\".format(pqc.flags.keys()))\n",
    "print(\"Flags for temperature: {}\\n\".format(pqc.flags[\"TEMP\"].keys()))\n",
    "\n",
    "pqc.features.keys()\n",
    "pqc.features[\"TEMP\"].keys()\n"
   ]
  },
  {
   "cell_type": "code",
   "execution_count": null,
   "metadata": {},
   "outputs": [],
   "source": [
    "t_spike = pqc.features[\"TEMP\"][\"anomaly_detection\"]\n",
    "\n",
    "idx_good = np.absolute(t_spike) <= 2\n",
    "idx_bad = np.absolute(t_spike) > 2\n",
    "\n",
    "p1 = figure(plot_width=420, plot_height=500)\n",
    "p1.circle(data['TEMP'][idx_good], -data['PRES'][idx_good], size=8, line_color=\"green\", fill_color=\"green\", fill_alpha=0.3)\n",
    "p1.triangle(data['TEMP'][idx_bad], -data['PRES'][idx_bad], size=8, line_color=\"red\", fill_color=\"red\", fill_alpha=0.3)\n",
    "p1.xaxis.axis_label = \"Temperature [C]\"\n",
    "p1.yaxis.axis_label = \"Depth [m]\"\n",
    "\n",
    "p2 = figure(plot_width=420, plot_height=500)\n",
    "p2.y_range = p1.y_range\n",
    "p2.circle(t_spike[idx_good], -data['PRES'][idx_good], size=8, line_color=\"green\", fill_color=\"green\", fill_alpha=0.3)\n",
    "p2.triangle(t_spike[idx_bad], -data['PRES'][idx_bad], size=8, line_color=\"red\", fill_color=\"red\", fill_alpha=0.3)\n",
    "p2.xaxis.axis_label = \"Spike(T)\"\n",
    "p2.yaxis.axis_label = \"Depth [m]\"\n",
    "\n",
    "\n",
    "s_spike = pqc.features[\"PSAL\"][\"woa_normbias\"]\n",
    "\n",
    "idx_good = np.absolute(s_spike) <= 2\n",
    "idx_bad = np.absolute(s_spike) > 2\n",
    "\n",
    "p3 = figure(plot_width=420, plot_height=500)\n",
    "p3.y_range = p1.y_range\n",
    "p3.circle(data['PSAL'][idx_good], -data['PRES'][idx_good], size=8, line_color=\"green\", fill_color=\"green\", fill_alpha=0.3)\n",
    "p3.triangle(data['PSAL'][idx_bad], -data['PRES'][idx_bad], size=8, line_color=\"red\", fill_color=\"red\", fill_alpha=0.3)\n",
    "p3.xaxis.axis_label = \"Salinity\"\n",
    "p3.yaxis.axis_label = \"Depth [m]\"\n",
    "\n",
    "p4 = figure(plot_width=420, plot_height=500)\n",
    "p4.y_range = p1.y_range\n",
    "p4.circle(s_spike[idx_good], -data['PRES'][idx_good], size=8, line_color=\"green\", fill_color=\"green\", fill_alpha=0.3)\n",
    "p4.triangle(s_spike[idx_bad], -data['PRES'][idx_bad], size=8, line_color=\"red\", fill_color=\"red\", fill_alpha=0.3)\n",
    "p4.xaxis.axis_label = \"Spike(S)\"\n",
    "p4.yaxis.axis_label = \"Depth [m]\"\n",
    "\n",
    "p = column(row(p1, p2), row(p3, p4))\n",
    "show(p)"
   ]
  },
  {
   "cell_type": "code",
   "execution_count": null,
   "metadata": {},
   "outputs": [],
   "source": [
    "pqc.features[\"TEMP\"][\"anomaly_detection\"]"
   ]
  },
  {
   "cell_type": "code",
   "execution_count": null,
   "metadata": {},
   "outputs": [],
   "source": []
  },
  {
   "cell_type": "code",
   "execution_count": null,
   "metadata": {},
   "outputs": [],
   "source": []
  },
  {
   "cell_type": "code",
   "execution_count": null,
   "metadata": {},
   "outputs": [],
   "source": [
    "y_spike"
   ]
  },
  {
   "cell_type": "code",
   "execution_count": null,
   "metadata": {},
   "outputs": [],
   "source": [
    "N = y_spike.size\n",
    "n_greater = np.array([y_spike[np.absolute(y_spike) >= t].size/N for t in np.absolute(y_spike)])\n",
    "\n",
    "p = figure(plot_width=840, plot_height=400)\n",
    "p.circle(np.absolute(y_spike), n_greater, size=8, line_color=\"green\", fill_color=\"green\", fill_alpha=0.3)\n",
    "show(p)"
   ]
  },
  {
   "cell_type": "code",
   "execution_count": null,
   "metadata": {},
   "outputs": [],
   "source": [
    "from scipy.stats import exponweib\n",
    "\n",
    "spike_scale = np.arange(0.0005, 0.2, 1e-3)\n",
    "param = [1.078231, 0.512053, 0.0004, 0.002574]\n",
    "tmp = exponweib.sf(spike_scale, *param[:-2], loc=param[-2], scale=param[-1])\n",
    "p = figure(plot_width=840, plot_height=400)\n",
    "# p.line(x_ref, pdf, line_color=\"orange\", line_width=8, alpha=0.7, legend_label=\"PDF\")\n",
    "p.circle(spike_scale, tmp, size=8, line_color=\"green\", fill_color=\"green\", fill_alpha=0.3)\n",
    "show(p)"
   ]
  },
  {
   "cell_type": "code",
   "execution_count": null,
   "metadata": {},
   "outputs": [],
   "source": [
    "N = y_spike.size\n",
    "n_greater = np.array([y_spike[np.absolute(y_spike) >= t].size/N for t in np.absolute(y_spike)])\n",
    "\n",
    "\n",
    "p1 = figure(plot_width=420, plot_height=600)\n",
    "p1.circle(data['TEMP'][idx_good], -data['PRES'][idx_good], size=8, line_color=\"green\", fill_color=\"green\", fill_alpha=0.3)\n",
    "p1.triangle(data['TEMP'][idx_bad], -data['PRES'][idx_bad], size=8, line_color=\"red\", fill_color=\"red\", fill_alpha=0.3)\n",
    "\n",
    "p2 = figure(plot_width=420, plot_height=600)\n",
    "p2.circle(SF[idx_good], -data['PRES'][idx_good], size=8, line_color=\"green\", fill_color=\"green\", fill_alpha=0.3)\n",
    "p2.triangle(SF[idx_bad], -data['PRES'][idx_bad], size=8, line_color=\"red\", fill_color=\"red\", fill_alpha=0.3)\n",
    "p = row(p1, p2)\n",
    "show(p)"
   ]
  },
  {
   "cell_type": "code",
   "execution_count": null,
   "metadata": {},
   "outputs": [],
   "source": []
  },
  {
   "cell_type": "code",
   "execution_count": null,
   "metadata": {},
   "outputs": [],
   "source": [
    "p1 = figure(plot_width=420, plot_height=600)\n",
    "p1.circle(data['TEMP'][idx_good], -data['PRES'][idx_good], size=8, line_color=\"green\", fill_color=\"green\", fill_alpha=0.3)"
   ]
  },
  {
   "cell_type": "code",
   "execution_count": null,
   "metadata": {},
   "outputs": [],
   "source": []
  },
  {
   "cell_type": "code",
   "execution_count": null,
   "metadata": {},
   "outputs": [],
   "source": [
    "pqc_eurogoos = cotede.ProfileQC(data, cfg=\"eurogoos\")\n",
    "flag_eurogoos = pqc_eurogoos.flags[\"TEMP\"][\"overall\"]\n",
    "\n",
    "pqc = cotede.ProfileQC(data, cfg=\"cotede\")\n",
    "pqc.features[\"TEMP\"].keys()"
   ]
  },
  {
   "cell_type": "code",
   "execution_count": null,
   "metadata": {},
   "outputs": [],
   "source": [
    "\n",
    "AD_good = pqc.features[\"TEMP\"][\"anomaly_detection\"][flag_eurogoos <= 2]\n",
    "AD_bad = pqc.features[\"TEMP\"][\"anomaly_detection\"][flag_eurogoos >= 3]\n"
   ]
  },
  {
   "cell_type": "code",
   "execution_count": null,
   "metadata": {},
   "outputs": [],
   "source": [
    "min(AD_good)"
   ]
  },
  {
   "cell_type": "code",
   "execution_count": null,
   "metadata": {},
   "outputs": [],
   "source": [
    "    x = AD_bad\n",
    "    x = AD_good\n",
    "    bins = 100\n",
    "    hist, edges = np.histogram(x, density=True, bins=bins)\n",
    "\n",
    "    #title = 'test'\n",
    "    # p = figure(title=title, tools='', background_fill_color=\"#fafafa\")\n",
    "    p = figure(plot_width=750, plot_height=300,\n",
    "        background_fill_color=\"#fafafa\")\n",
    "        # tools='', background_fill_color=\"#fafafa\")\n",
    "    p.quad(top=hist, bottom=0, left=edges[:-1], right=edges[1:],\n",
    "           fill_color=\"navy\", line_color=\"white\", alpha=0.5)\n",
    "    # p.line(x, pdf, line_color=\"#ff8888\", line_width=4, alpha=0.7, legend_label=\"PDF\")\n",
    "    # p.line(x, cdf, line_color=\"orange\", line_width=2, alpha=0.7, legend_label=\"CDF\")\n",
    "\n",
    "    p.y_range.start = 0\n",
    "    # p.legend.location = \"center_right\"\n",
    "    # p.legend.background_fill_color = \"#fefefe\"\n",
    "    p.xaxis.axis_label = 'x'\n",
    "    p.yaxis.axis_label = 'Pr(x)'\n",
    "    p.grid.grid_line_color=\"white\"\n",
    "    show(p)"
   ]
  },
  {
   "cell_type": "code",
   "execution_count": null,
   "metadata": {},
   "outputs": [],
   "source": [
    "def draw_histogram(x, bins=50):\n",
    "    \"\"\"Plot an histogram\n",
    "    \n",
    "    Create an histogram from the output of numpy.hist().\n",
    "    We will create several histograms in this notebook so let's save this as a function to\n",
    "    reuse this code.\n",
    "    \"\"\"\n",
    "    x = x[np.isfinite(x)]\n",
    "    hist, edges = np.histogram(x, density=True, bins=bins)\n",
    "\n",
    "    #title = 'test'\n",
    "    # p = figure(title=title, tools='', background_fill_color=\"#fafafa\")\n",
    "    p = figure(plot_width=750, plot_height=300,\n",
    "        background_fill_color=\"#fafafa\")\n",
    "        # tools='', background_fill_color=\"#fafafa\")\n",
    "    p.quad(top=hist, bottom=0, left=edges[:-1], right=edges[1:],\n",
    "           fill_color=\"navy\", line_color=\"white\", alpha=0.5)\n",
    "    # p.line(x, pdf, line_color=\"#ff8888\", line_width=4, alpha=0.7, legend_label=\"PDF\")\n",
    "    # p.line(x, cdf, line_color=\"orange\", line_width=2, alpha=0.7, legend_label=\"CDF\")\n",
    "\n",
    "    p.y_range.start = 0\n",
    "    # p.legend.location = \"center_right\"\n",
    "    # p.legend.background_fill_color = \"#fefefe\"\n",
    "    p.xaxis.axis_label = 'x'\n",
    "    p.yaxis.axis_label = 'Pr(x)'\n",
    "    p.grid.grid_line_color=\"white\"\n",
    "    return p"
   ]
  },
  {
   "cell_type": "code",
   "execution_count": null,
   "metadata": {},
   "outputs": [],
   "source": [
    "p = draw_histogram(y_tukey53H[idx_good], bins=50)\n",
    "show(p)"
   ]
  },
  {
   "cell_type": "code",
   "execution_count": null,
   "metadata": {},
   "outputs": [],
   "source": [
    "data.attrs"
   ]
  },
  {
   "cell_type": "code",
   "execution_count": null,
   "metadata": {},
   "outputs": [],
   "source": [
    "import oceansdb\n",
    "WOADB = oceansdb.WOA()\n",
    "\n",
    "woa = WOADB['TEMP'].extract(var=['mean', 'standard_deviation'], doy=data.attrs['datetime'], lat=data.attrs['LATITUDE'], lon=data.attrs['LONGITUDE'], depth=data['PRES'])"
   ]
  },
  {
   "cell_type": "code",
   "execution_count": null,
   "metadata": {},
   "outputs": [],
   "source": [
    "pqc.features[\"TEMP\"][\"woa_mean\"] - 6 * pqc.features[\"TEMP\"][\"woa_std\"]"
   ]
  },
  {
   "cell_type": "code",
   "execution_count": null,
   "metadata": {},
   "outputs": [],
   "source": [
    "pqc = cotede.ProfileQC(data)"
   ]
  },
  {
   "cell_type": "code",
   "execution_count": null,
   "metadata": {},
   "outputs": [],
   "source": [
    "pqc.flags['TEMP'].keys()"
   ]
  },
  {
   "cell_type": "code",
   "execution_count": null,
   "metadata": {},
   "outputs": [],
   "source": [
    "pqc.features['TEMP']\n"
   ]
  },
  {
   "cell_type": "code",
   "execution_count": null,
   "metadata": {},
   "outputs": [],
   "source": [
    "p = figure(plot_width=500, plot_height=600)\n",
    "p.circle(y_tukey53H, -data['PRES'], size=8, line_color=\"green\", fill_color=\"green\", fill_alpha=0.3)\n",
    "show(p)"
   ]
  },
  {
   "cell_type": "code",
   "execution_count": null,
   "metadata": {},
   "outputs": [],
   "source": [
    "idx_valid"
   ]
  },
  {
   "cell_type": "code",
   "execution_count": null,
   "metadata": {},
   "outputs": [],
   "source": [
    "np.percentile(y_tukey53H[np.isfinite(y_tukey53H)], 25)"
   ]
  },
  {
   "cell_type": "code",
   "execution_count": null,
   "metadata": {},
   "outputs": [],
   "source": [
    "idx = y_tukey53H[np.absolute(y_tukey53H) < 6]\n",
    "\n",
    "p = draw_histogram(y_tukey53H[idx & idx_valid])\n",
    "show(p)"
   ]
  },
  {
   "cell_type": "code",
   "execution_count": null,
   "metadata": {},
   "outputs": [],
   "source": [
    "idx = idx_valid & np.isfinite(y_tukey53H)\n",
    "\n",
    "mu_estimated, sigma_estimated = stats.norm.fit(y_tukey53H[idx])\n",
    "\n",
    "print(\"Estimated mean: {:.3f}, and standard deviation: {:.3f}\".format(mu_estimated, sigma_estimated))"
   ]
  },
  {
   "cell_type": "code",
   "execution_count": null,
   "metadata": {},
   "outputs": [],
   "source": [
    "y_tukey53H_scaled = (y_tukey53H - mu_estimated) / sigma_estimated"
   ]
  },
  {
   "cell_type": "code",
   "execution_count": null,
   "metadata": {},
   "outputs": [],
   "source": [
    "p = figure(plot_width=500, plot_height=600)\n",
    "p.circle(y_tukey53H_scaled, -data['PRES'], size=8, line_color=\"green\", fill_color=\"green\", fill_alpha=0.3)\n",
    "show(p)"
   ]
  },
  {
   "cell_type": "code",
   "execution_count": null,
   "metadata": {},
   "outputs": [],
   "source": []
  },
  {
   "cell_type": "code",
   "execution_count": null,
   "metadata": {},
   "outputs": [],
   "source": []
  },
  {
   "cell_type": "code",
   "execution_count": null,
   "metadata": {},
   "outputs": [],
   "source": []
  },
  {
   "cell_type": "code",
   "execution_count": null,
   "metadata": {},
   "outputs": [],
   "source": []
  },
  {
   "cell_type": "markdown",
   "metadata": {},
   "source": []
  },
  {
   "cell_type": "code",
   "execution_count": null,
   "metadata": {},
   "outputs": [],
   "source": []
  },
  {
   "cell_type": "code",
   "execution_count": null,
   "metadata": {},
   "outputs": [],
   "source": []
  },
  {
   "cell_type": "markdown",
   "metadata": {},
   "source": []
  },
  {
   "cell_type": "code",
   "execution_count": null,
   "metadata": {},
   "outputs": [],
   "source": []
  },
  {
   "cell_type": "code",
   "execution_count": null,
   "metadata": {},
   "outputs": [],
   "source": []
  },
  {
   "cell_type": "code",
   "execution_count": null,
   "metadata": {},
   "outputs": [],
   "source": []
  },
  {
   "cell_type": "code",
   "execution_count": null,
   "metadata": {},
   "outputs": [],
   "source": []
  },
  {
   "cell_type": "markdown",
   "metadata": {},
   "source": []
  },
  {
   "cell_type": "code",
   "execution_count": null,
   "metadata": {},
   "outputs": [],
   "source": []
  },
  {
   "cell_type": "code",
   "execution_count": null,
   "metadata": {},
   "outputs": [],
   "source": []
  },
  {
   "cell_type": "code",
   "execution_count": null,
   "metadata": {},
   "outputs": [],
   "source": []
  },
  {
   "cell_type": "code",
   "execution_count": null,
   "metadata": {},
   "outputs": [],
   "source": []
  },
  {
   "cell_type": "code",
   "execution_count": null,
   "metadata": {},
   "outputs": [],
   "source": [
    "data[\"TEMP\"][825] = 4.542\n",
    "data[\"PSAL\"][825] = 34.6104\n",
    "pqc = cotede.ProfileQC(data, cfg=\"eurogoos\")\n",
    "pqc[\"PRES\"][825], pqc[\"TEMP\"][825]\n",
    "\n",
    "pqc.features[\"PSAL\"][\"woa_normbias\"][825], pqc.features[\"PSAL\"][\"woa_std\"][825], pqc.features[\"PSAL\"][\"woa_mean\"][825]\n",
    "\n",
    "[pqc.flags[\"PSAL\"][v][824:827] for v in pqc.flags[\"PSAL\"].keys()]\n",
    "[pqc.features[\"TEMP\"][v][824:827] for v in pqc.features[\"TEMP\"].keys()]"
   ]
  },
  {
   "cell_type": "code",
   "execution_count": null,
   "metadata": {},
   "outputs": [],
   "source": [
    "idx_good = pqc.flags[\"PSAL\"][\"overall\"] <= 2\n",
    "idx_bad = pqc.flags[\"PSAL\"][\"overall\"] >= 3\n",
    "\n",
    "pressure = -pqc[\"PRES\"]\n",
    "salinity = pqc[\"PSAL\"]\n",
    "woa_normbias = pqc.features[\"PSAL\"][\"woa_normbias\"]\n",
    "\n",
    "\n",
    "p1 = figure(plot_width=420, plot_height=500)\n",
    "p1.circle(salinity[idx_good], pressure[idx_good], size=8, line_color=\"green\", fill_color=\"green\", fill_alpha=0.3)\n",
    "p1.triangle(salinity[idx_bad], pressure[idx_bad], size=8, line_color=\"red\", fill_color=\"red\", fill_alpha=0.3)\n",
    "p1.xaxis.axis_label = \"Salinity\"\n",
    "p1.yaxis.axis_label = \"Depth [m]\"\n",
    "\n",
    "p2 = figure(plot_width=420, plot_height=500)\n",
    "p2.y_range = p1.y_range\n",
    "p2.circle(woa_normbias[idx_good], pressure[idx_good], size=8, line_color=\"green\", fill_color=\"green\", fill_alpha=0.3)\n",
    "p2.triangle(woa_normbias[idx_bad], pressure[idx_bad], size=8, line_color=\"red\", fill_color=\"red\", fill_alpha=0.3)\n",
    "p2.xaxis.axis_label = \"WOA normalized bias\"\n",
    "p2.yaxis.axis_label = \"Depth [m]\"\n",
    "\n",
    "p = row(p1, p2)\n",
    "show(p)"
   ]
  },
  {
   "cell_type": "code",
   "execution_count": null,
   "metadata": {},
   "outputs": [],
   "source": []
  }
 ],
 "metadata": {
  "kernelspec": {
   "display_name": "Python 3",
   "language": "python",
   "name": "python3"
  },
  "language_info": {
   "codemirror_mode": {
    "name": "ipython",
    "version": 3
   },
   "file_extension": ".py",
   "mimetype": "text/x-python",
   "name": "python",
   "nbconvert_exporter": "python",
   "pygments_lexer": "ipython3",
   "version": "3.8.5"
  }
 },
 "nbformat": 4,
 "nbformat_minor": 4
}
