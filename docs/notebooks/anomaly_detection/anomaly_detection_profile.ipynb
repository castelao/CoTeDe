{
 "cells": [
  {
   "cell_type": "markdown",
   "metadata": {},
   "source": [
    "# [WIP] Anomaly Detection concept with a CTD profile\n",
    "Comparing traditional QC with hard thresholds versus Anomaly Detection"
   ]
  },
  {
   "cell_type": "markdown",
   "metadata": {},
   "source": [
    "## Objective:\n",
    "\n",
    "Illustrate some QC procedures using CoTeDe.\n",
    "\n",
    "An example on how to QC a CTD profile\n",
    "\n",
    "- Introduce dataset that will be used\n",
    "- "
   ]
  },
  {
   "cell_type": "code",
   "execution_count": null,
   "metadata": {},
   "outputs": [],
   "source": [
    "from bokeh.io import output_notebook, show\n",
    "from bokeh.layouts import column, row\n",
    "from bokeh.plotting import figure\n",
    "import numpy as np\n",
    "from scipy import stats\n",
    "\n",
    "import cotede\n",
    "from cotede.qc import ProfileQC\n",
    "from cotede import qctests, datasets"
   ]
  },
  {
   "cell_type": "code",
   "execution_count": null,
   "metadata": {},
   "outputs": [],
   "source": [
    "output_notebook()"
   ]
  },
  {
   "cell_type": "markdown",
   "metadata": {},
   "source": [
    "## Data\n",
    "CoTeDe comes with some data to illustrate how it works and provide some examples.\n",
    "On this tutorial we will use a PIRATA hydrographic CTD, i.e. actual measurements from the Atlantic Ocean.\n",
    "\n",
    "Let's start by loading a sample dataset."
   ]
  },
  {
   "cell_type": "code",
   "execution_count": null,
   "metadata": {},
   "outputs": [],
   "source": [
    "data = cotede.datasets.load_ctd()\n",
    "\n",
    "print(\"There is a total of {} observations.\\n\".format(len(data[\"TEMP\"])))\n",
    "print(\"The variables are: \", data.keys())"
   ]
  },
  {
   "cell_type": "markdown",
   "metadata": {},
   "source": [
    "This CTD was equipped with backup sensors to provide more robustness. Measurements from the secondary sensor are identified by a 2 in the end of the name. Let's focus here on the primary sensors.\n",
    "\n",
    "Let's plot temperature and salinity."
   ]
  },
  {
   "cell_type": "code",
   "execution_count": null,
   "metadata": {},
   "outputs": [],
   "source": [
    "p1 = figure(plot_width=420, plot_height=600)\n",
    "p1.circle(data['TEMP'], -data['PRES'], size=8, line_color=\"seagreen\", fill_color=\"mediumseagreen\", fill_alpha=0.3)\n",
    "p1.xaxis.axis_label = \"Temperature [C]\"\n",
    "p1.yaxis.axis_label = \"Depth [m]\"\n",
    "\n",
    "p2 = figure(plot_width=420, plot_height=600)\n",
    "p2.y_range = p1.y_range\n",
    "p2.circle(data['PSAL'], -data['PRES'], size=8, line_color=\"seagreen\", fill_color=\"mediumseagreen\", fill_alpha=0.3)\n",
    "p2.xaxis.axis_label = \"Salinity\"\n",
    "p2.yaxis.axis_label = \"Depth [m]\"\n",
    "\n",
    "p = row(p1, p2)\n",
    "show(p)"
   ]
  },
  {
   "cell_type": "markdown",
   "metadata": {},
   "source": [
    "Considering the unusual magnitudes and variability near the bottom, there are clearly bad measurements on this profile.\n",
    "Let's start with the most basic QC test and apply a global range to restrict to feasible values."
   ]
  },
  {
   "cell_type": "markdown",
   "metadata": {},
   "source": [
    "## Global Range: Check for Feasible Values\n",
    " Let's use the thresholds recommended by the GTSPP:\n",
    " - Temperature between -2 and 40 $^\\circ$C\n",
    " - Salinity between 0 and 41"
   ]
  },
  {
   "cell_type": "code",
   "execution_count": null,
   "metadata": {},
   "outputs": [],
   "source": [
    "idx_valid = (data['TEMP'] > -2) & (data['TEMP'] < 40)\n",
    "\n",
    "p1 = figure(plot_width=420, plot_height=600, title=\"Global Range Check (-2 <= T <= 40)\")\n",
    "p1.circle(data['TEMP'][idx_valid], -data['PRES'][idx_valid], size=8, line_color=\"seagreen\", fill_color=\"mediumseagreen\", fill_alpha=0.3)\n",
    "p1.triangle(data['TEMP'][~idx_valid], -data['PRES'][~idx_valid], size=8, line_color=\"red\", fill_color=\"red\", fill_alpha=0.3)\n",
    "p1.xaxis.axis_label = \"Temperature [C]\"\n",
    "p1.yaxis.axis_label = \"Depth [m]\"\n",
    "\n",
    "\n",
    "idx_valid = (data['PSAL'] > 0) & (data['PSAL'] < 41)\n",
    "\n",
    "p2 = figure(plot_width=420, plot_height=600, title=\"Global Range Check (0 <= S <= 41)\")\n",
    "p2.y_range = p1.y_range\n",
    "p2.circle(data['PSAL'][idx_valid], -data['PRES'][idx_valid], size=8, line_color=\"seagreen\", fill_color=\"mediumseagreen\", fill_alpha=0.3)\n",
    "p2.triangle(data['PSAL'][~idx_valid], -data['PRES'][~idx_valid], size=8, line_color=\"red\", fill_color=\"red\", fill_alpha=0.3)\n",
    "p2.xaxis.axis_label = \"Pratical Salinity\"\n",
    "p2.yaxis.axis_label = \"Depth [m]\"\n",
    "\n",
    "p = row(p1, p2)\n",
    "show(p)"
   ]
  },
  {
   "cell_type": "markdown",
   "metadata": {},
   "source": [
    "Great, we already identified a fair number of bad measuremnts.\n",
    "The global range test is a simple and light test, and there is no reason to always apply it in normal conditions, but is usually not enough.\n",
    "We will need to apply more tests to capture more bad measurements.\n",
    "Several QC tests were already implemente in CoTeDe, so you don't need to code it again.\n",
    "For instance, the global range test is available as `qctests.GlobalRange` and we can use it like"
   ]
  },
  {
   "cell_type": "code",
   "execution_count": null,
   "metadata": {},
   "outputs": [],
   "source": [
    "y = qctests.GlobalRange(data, 'TEMP', cfg={\"minval\": -2, \"maxval\": 40})\n",
    "y.flags"
   ]
  },
  {
   "cell_type": "markdown",
   "metadata": {},
   "source": [
    "The procedure GlobalRange"
   ]
  },
  {
   "cell_type": "markdown",
   "metadata": {},
   "source": [
    "## More tests: GTSPP Spike and Gradient tests\n",
    "OK, let's apply more tests beyond the global range.\n",
    "Some common ones are the gradient and spike, and we could use CoTeDe to run that like"
   ]
  },
  {
   "cell_type": "code",
   "execution_count": null,
   "metadata": {},
   "outputs": [],
   "source": [
    "y_gradient = qctests.Gradient(data, 'TEMP', cfg={\"threshold\": 10})\n",
    "y_gradient.flags"
   ]
  },
  {
   "cell_type": "code",
   "execution_count": null,
   "metadata": {},
   "outputs": [],
   "source": [
    "y_spike = qctests.Spike(data, 'TEMP', cfg={\"threshold\": 2.0})\n",
    "y_spike.flags"
   ]
  },
  {
   "cell_type": "markdown",
   "metadata": {},
   "source": [
    "## GTSPP's Spike Check"
   ]
  },
  {
   "cell_type": "code",
   "execution_count": null,
   "metadata": {},
   "outputs": [],
   "source": [
    "def spike(x):\n",
    "    \"\"\"Spike check as defined by GTSPP\n",
    "    \"\"\"\n",
    "    y = np.nan * x\n",
    "    y[1:-1] = np.abs(x[1:-1] - (x[:-2] + x[2:]) / 2.0) - np.abs((x[2:] - x[:-2]) / 2.0)\n",
    "    return y\n"
   ]
  },
  {
   "cell_type": "markdown",
   "metadata": {},
   "source": [
    "The spike check and many other ones are already implemented in CoTeDe, so let's use it cotede.qctests.spike().\n",
    "\n",
    "GTSPP recommends a spike threshold equal to 2C for temperature and 0.3 for salinity."
   ]
  },
  {
   "cell_type": "code",
   "execution_count": null,
   "metadata": {},
   "outputs": [],
   "source": [
    "t_spike = qctests.spike(data[\"TEMP\"])\n",
    "\n",
    "idx_good = np.absolute(t_spike) <= 2\n",
    "idx_bad = np.absolute(t_spike) > 2\n",
    "\n",
    "p1 = figure(plot_width=420, plot_height=500)\n",
    "p1.circle(data['TEMP'][idx_good], -data['PRES'][idx_good], size=8, line_color=\"green\", fill_color=\"green\", fill_alpha=0.3)\n",
    "p1.triangle(data['TEMP'][idx_bad], -data['PRES'][idx_bad], size=8, line_color=\"red\", fill_color=\"red\", fill_alpha=0.3)\n",
    "p1.xaxis.axis_label = \"Temperature [C]\"\n",
    "p1.yaxis.axis_label = \"Depth [m]\"\n",
    "\n",
    "p2 = figure(plot_width=420, plot_height=500)\n",
    "p2.y_range = p1.y_range\n",
    "p2.circle(t_spike[idx_good], -data['PRES'][idx_good], size=8, line_color=\"green\", fill_color=\"green\", fill_alpha=0.3)\n",
    "p2.triangle(t_spike[idx_bad], -data['PRES'][idx_bad], size=8, line_color=\"red\", fill_color=\"red\", fill_alpha=0.3)\n",
    "p2.xaxis.axis_label = \"Spike(T)\"\n",
    "p2.yaxis.axis_label = \"Depth [m]\"\n",
    "\n",
    "\n",
    "s_spike = qctests.spike(data[\"PSAL\"])\n",
    "\n",
    "idx_good = np.absolute(s_spike) <= 2\n",
    "idx_bad = np.absolute(s_spike) > 2\n",
    "\n",
    "p3 = figure(plot_width=420, plot_height=500)\n",
    "p3.y_range = p1.y_range\n",
    "p3.circle(data['PSAL'][idx_good], -data['PRES'][idx_good], size=8, line_color=\"green\", fill_color=\"green\", fill_alpha=0.3)\n",
    "p3.triangle(data['PSAL'][idx_bad], -data['PRES'][idx_bad], size=8, line_color=\"red\", fill_color=\"red\", fill_alpha=0.3)\n",
    "p3.xaxis.axis_label = \"Salinity\"\n",
    "p3.yaxis.axis_label = \"Depth [m]\"\n",
    "\n",
    "p4 = figure(plot_width=420, plot_height=500)\n",
    "p4.y_range = p1.y_range\n",
    "p4.circle(s_spike[idx_good], -data['PRES'][idx_good], size=8, line_color=\"green\", fill_color=\"green\", fill_alpha=0.3)\n",
    "p4.triangle(s_spike[idx_bad], -data['PRES'][idx_bad], size=8, line_color=\"red\", fill_color=\"red\", fill_alpha=0.3)\n",
    "p4.xaxis.axis_label = \"Spike(S)\"\n",
    "p4.yaxis.axis_label = \"Depth [m]\"\n",
    "\n",
    "p = column(row(p1, p2), row(p3, p4))\n",
    "show(p)"
   ]
  },
  {
   "cell_type": "markdown",
   "metadata": {},
   "source": [
    "## Using CoTeDe QC framework\n",
    "CoTeDe automates many procedures for QC. Let's start using the standard procedure."
   ]
  },
  {
   "cell_type": "code",
   "execution_count": null,
   "metadata": {},
   "outputs": [],
   "source": [
    "pqc = cotede.ProfileQC(data)"
   ]
  },
  {
   "cell_type": "markdown",
   "metadata": {},
   "source": [
    "That's it, the primary and secondary sensors were evaluated. First the same variables in the input are available in the output object."
   ]
  },
  {
   "cell_type": "code",
   "execution_count": null,
   "metadata": {},
   "outputs": [],
   "source": [
    "print(\"Variables available in data: {}\\n\".format(data.keys()))\n",
    "print(\"Variables available in pqc: {}\\n\".format(pqc.keys()))"
   ]
  },
  {
   "cell_type": "code",
   "execution_count": null,
   "metadata": {},
   "outputs": [],
   "source": [
    "print(\"Flags available for temperature {}\\n\".format(pqc.flags[\"TEMP\"].keys()))\n",
    "print(\"Flags available for salinity {}\\n\".format(pqc.flags[\"PSAL\"].keys()))"
   ]
  },
  {
   "cell_type": "markdown",
   "metadata": {},
   "source": [
    "The flags are on IOC standard, thus 1 means good while 4 means bad.\n",
    "0 is used when the QC there was no QC. For instance, the spike test is defined so that it depends on the previous and following measurements, thus the first and last data point of the array will always have a spike flag equal to 0.\n",
    "\n",
    "Let's check the salinity with feasible values:"
   ]
  },
  {
   "cell_type": "code",
   "execution_count": null,
   "metadata": {},
   "outputs": [],
   "source": [
    "pqc.flags[\"PSAL\"][\"global_range\"]"
   ]
  },
  {
   "cell_type": "code",
   "execution_count": null,
   "metadata": {},
   "outputs": [],
   "source": [
    "pqc.flags[\"PSAL\"][\"spike\"]"
   ]
  },
  {
   "cell_type": "markdown",
   "metadata": {},
   "source": [
    "Let's check the salinity measurements that are bad of probably bad according to the Global Range check, i.e. unfeasible values of salinity."
   ]
  },
  {
   "cell_type": "code",
   "execution_count": null,
   "metadata": {},
   "outputs": [],
   "source": [
    "idx = pqc.flags[\"PSAL\"][\"global_range\"] >= 3\n",
    "pqc[\"PSAL\"][idx]"
   ]
  },
  {
   "cell_type": "markdown",
   "metadata": {},
   "source": [
    "The magnitudes of the tests are stored in features.\n",
    "\n",
    "Let's check which features were saved for temperature,"
   ]
  },
  {
   "cell_type": "code",
   "execution_count": null,
   "metadata": {},
   "outputs": [],
   "source": [
    "print(\"Features for temperature: {}\\n\".format(pqc.features[\"TEMP\"].keys()))"
   ]
  },
  {
   "cell_type": "markdown",
   "metadata": {},
   "source": [
    "The flag \"overall\" is the maximum value among all other flags as recommended by IOC flagging system.\n",
    "Therefore, if one measurement is flagged bad (flag=4) in a single test, it will get a flag 4.\n",
    "Likewise, a measurement with flag 1 means that from all applied tests there is no suspicious of being a bad measurement."
   ]
  },
  {
   "cell_type": "code",
   "execution_count": null,
   "metadata": {},
   "outputs": [],
   "source": [
    "pqc.flags[\"PSAL\"][\"overall\"]"
   ]
  },
  {
   "cell_type": "markdown",
   "metadata": {},
   "source": [
    "It's the same for salinity. Let's plot the salinity and it's respective normalized bias in respect to the WOA."
   ]
  },
  {
   "cell_type": "code",
   "execution_count": null,
   "metadata": {},
   "outputs": [],
   "source": [
    "idx_good = pqc.flags[\"PSAL\"][\"overall\"] <= 2\n",
    "idx_bad = pqc.flags[\"PSAL\"][\"overall\"] >= 3\n",
    "\n",
    "pressure = -pqc[\"PRES\"]\n",
    "salinity = pqc[\"PSAL\"]\n",
    "woa_normbias = pqc.features[\"PSAL\"][\"woa_normbias\"]\n",
    "\n",
    "\n",
    "p1 = figure(plot_width=420, plot_height=500)\n",
    "p1.circle(salinity[idx_good], pressure[idx_good], size=8, line_color=\"green\", fill_color=\"green\", fill_alpha=0.3)\n",
    "p1.triangle(salinity[idx_bad], pressure[idx_bad], size=8, line_color=\"red\", fill_color=\"red\", fill_alpha=0.3)\n",
    "p1.xaxis.axis_label = \"Salinity\"\n",
    "p1.yaxis.axis_label = \"Depth [m]\"\n",
    "\n",
    "p2 = figure(plot_width=420, plot_height=500)\n",
    "p2.y_range = p1.y_range\n",
    "p2.circle(woa_normbias[idx_good], pressure[idx_good], size=8, line_color=\"green\", fill_color=\"green\", fill_alpha=0.3)\n",
    "p2.triangle(woa_normbias[idx_bad], pressure[idx_bad], size=8, line_color=\"red\", fill_color=\"red\", fill_alpha=0.3)\n",
    "p2.xaxis.axis_label = \"WOA normalized bias\"\n",
    "p2.yaxis.axis_label = \"Depth [m]\"\n",
    "\n",
    "p = row(p1, p2)\n",
    "show(p)"
   ]
  },
  {
   "cell_type": "markdown",
   "metadata": {},
   "source": [
    "Let's look at the salinity in respect to the spike and WOA normalized bias.\n",
    "Near the bottom of the profile there some bad salinity measurement, which are mostly identified with the spike test.\n",
    "A few measurements aren't critically bad in respect to the spike or the climatology individually.\n",
    "One of the goals of the Anomaly Detection is to combine multiple features to an overall decision, so that"
   ]
  },
  {
   "cell_type": "code",
   "execution_count": null,
   "metadata": {},
   "outputs": [],
   "source": [
    "\n",
    "idx_good = pqc.flags[\"PSAL\"][\"spike\"] <= 2\n",
    "idx_bad = pqc.flags[\"PSAL\"][\"spike\"] >= 3\n",
    "\n",
    "p1 = figure(plot_width=500, plot_height=600)\n",
    "p1.circle(pqc.features[\"PSAL\"][\"spike\"][idx_good], -pqc['PRES'][idx_good], size=8, line_color=\"green\", fill_color=\"green\", fill_alpha=0.3)\n",
    "p1.triangle(pqc.features[\"PSAL\"][\"spike\"][idx_bad], -data['PRES'][idx_bad], size=8, line_color=\"red\", fill_color=\"red\", fill_alpha=0.3)\n",
    "\n",
    "p2 = figure(plot_width=500, plot_height=600)\n",
    "p2.y_range = p1.y_range\n",
    "p2.circle(pqc['PSAL'][idx_good], -pqc['PRES'][idx_good], size=8, line_color=\"green\", fill_color=\"green\", fill_alpha=0.3)\n",
    "p2.line(pqc.features[\"PSAL\"][\"woa_mean\"] - 6 * pqc.features[\"PSAL\"][\"woa_std\"], -data['PRES'], line_width=4, line_color=\"orange\", alpha=0.4)\n",
    "p2.line(pqc.features[\"PSAL\"][\"woa_mean\"] + 6 * pqc.features[\"PSAL\"][\"woa_std\"], -data['PRES'], line_width=4, line_color=\"orange\", alpha=0.4)\n",
    "p2.triangle(data['PSAL'][idx_bad], -data['PRES'][idx_bad], size=8, line_color=\"red\", fill_color=\"red\", fill_alpha=0.3)\n",
    "\n",
    "p = row(p1, p2)\n",
    "show(p)"
   ]
  },
  {
   "cell_type": "code",
   "execution_count": null,
   "metadata": {},
   "outputs": [],
   "source": []
  },
  {
   "cell_type": "code",
   "execution_count": null,
   "metadata": {},
   "outputs": [],
   "source": []
  },
  {
   "cell_type": "code",
   "execution_count": null,
   "metadata": {},
   "outputs": [],
   "source": []
  },
  {
   "cell_type": "code",
   "execution_count": null,
   "metadata": {},
   "outputs": [],
   "source": [
    "pqc.features[\"PSAL\"][\"woa_normbias\"]"
   ]
  },
  {
   "cell_type": "code",
   "execution_count": null,
   "metadata": {},
   "outputs": [],
   "source": [
    "t_spike = pqc.features[\"TEMP\"][\"anomaly_detection\"]\n",
    "\n",
    "idx_good = np.absolute(t_spike) <= 2\n",
    "idx_bad = np.absolute(t_spike) > 2\n",
    "\n",
    "p1 = figure(plot_width=420, plot_height=500)\n",
    "p1.circle(data['TEMP'][idx_good], -data['PRES'][idx_good], size=8, line_color=\"green\", fill_color=\"green\", fill_alpha=0.3)\n",
    "p1.triangle(data['TEMP'][idx_bad], -data['PRES'][idx_bad], size=8, line_color=\"red\", fill_color=\"red\", fill_alpha=0.3)\n",
    "p1.xaxis.axis_label = \"Temperature [C]\"\n",
    "p1.yaxis.axis_label = \"Depth [m]\"\n",
    "\n",
    "p2 = figure(plot_width=420, plot_height=500)\n",
    "p2.y_range = p1.y_range\n",
    "p2.circle(t_spike[idx_good], -data['PRES'][idx_good], size=8, line_color=\"green\", fill_color=\"green\", fill_alpha=0.3)\n",
    "p2.triangle(t_spike[idx_bad], -data['PRES'][idx_bad], size=8, line_color=\"red\", fill_color=\"red\", fill_alpha=0.3)\n",
    "p2.xaxis.axis_label = \"Spike(T)\"\n",
    "p2.yaxis.axis_label = \"Depth [m]\"\n",
    "\n",
    "\n",
    "s_spike = pqc.features[\"PSAL\"][\"woa_normbias\"]\n",
    "\n",
    "idx_good = np.absolute(s_spike) <= 2\n",
    "idx_bad = np.absolute(s_spike) > 2\n",
    "\n",
    "p3 = figure(plot_width=420, plot_height=500)\n",
    "p3.y_range = p1.y_range\n",
    "p3.circle(data['PSAL'][idx_good], -data['PRES'][idx_good], size=8, line_color=\"green\", fill_color=\"green\", fill_alpha=0.3)\n",
    "p3.triangle(data['PSAL'][idx_bad], -data['PRES'][idx_bad], size=8, line_color=\"red\", fill_color=\"red\", fill_alpha=0.3)\n",
    "p3.xaxis.axis_label = \"Salinity\"\n",
    "p3.yaxis.axis_label = \"Depth [m]\"\n",
    "\n",
    "p4 = figure(plot_width=420, plot_height=500)\n",
    "p4.y_range = p1.y_range\n",
    "p4.circle(s_spike[idx_good], -data['PRES'][idx_good], size=8, line_color=\"green\", fill_color=\"green\", fill_alpha=0.3)\n",
    "p4.triangle(s_spike[idx_bad], -data['PRES'][idx_bad], size=8, line_color=\"red\", fill_color=\"red\", fill_alpha=0.3)\n",
    "p4.xaxis.axis_label = \"Spike(S)\"\n",
    "p4.yaxis.axis_label = \"Depth [m]\"\n",
    "\n",
    "p = column(row(p1, p2), row(p3, p4))\n",
    "show(p)"
   ]
  },
  {
   "cell_type": "code",
   "execution_count": null,
   "metadata": {},
   "outputs": [],
   "source": [
    "print(\"Variables that were flagged available: {}\\n\".format(pqc.flags.keys()))\n",
    "print(\"Flags for temperature: {}\\n\".format(pqc.flags[\"TEMP\"].keys()))\n",
    "\n",
    "pqc.features.keys()\n",
    "pqc.features[\"TEMP\"].keys()\n"
   ]
  },
  {
   "cell_type": "code",
   "execution_count": null,
   "metadata": {},
   "outputs": [],
   "source": [
    "pqc.features[\"TEMP\"][\"anomaly_detection\"]"
   ]
  },
  {
   "cell_type": "code",
   "execution_count": null,
   "metadata": {},
   "outputs": [],
   "source": [
    "from bokeh.models import ColumnDataSource, CustomJS, Slider\n",
    "\n",
    "threshold = Slider(title=\"threshold\", value=0.05, start=0.0, end=6.0, step=0.05, orientation=\"horizontal\")\n",
    "\n",
    "\n",
    "tmp = dict(\n",
    "    depth=-pqc[\"PRES\"],\n",
    "    temp=pqc[\"PSAL\"],\n",
    "    temp_good=pqc[\"PSAL\"].copy(),\n",
    "    temp_bad=pqc[\"PSAL\"].copy(),\n",
    "    tukey53H=np.absolute(pqc.features[\"PSAL\"][\"spike\"]),\n",
    "    tukey53H_good=np.absolute(pqc.features[\"PSAL\"][\"spike\"]),\n",
    "    tukey53H_bad=np.absolute(pqc.features[\"PSAL\"][\"spike\"]),    \n",
    ")\n",
    "idx = tmp[\"tukey53H\"] > threshold.value\n",
    "tmp[\"temp_good\"][idx] = np.nan\n",
    "tmp[\"temp_bad\"][~idx] = np.nan\n",
    "tmp[\"tukey53H_good\"][idx] = np.nan\n",
    "tmp[\"tukey53H_bad\"][~idx] = np.nan\n",
    "\n",
    "\n",
    "source = ColumnDataSource(data=tmp)\n",
    "\n",
    "\n",
    "callback = CustomJS(args=dict(source=source), code=\"\"\"\n",
    "    var data = source.data;\n",
    "    var f = cb_obj.value\n",
    "    var temp = data['temp']\n",
    "    var temp_good = data['temp_good']\n",
    "    var temp_bad = data['temp_bad']\n",
    "    var tukey53H = data['tukey53H']\n",
    "    var tukey53H_good = data['tukey53H_good']\n",
    "    var tukey53H_bad = data['tukey53H_bad']\n",
    "    for (var i = 0; i < temp.length; i++) {\n",
    "        if (tukey53H[i] > f) {\n",
    "            temp_good[i] = \"NaN\"\n",
    "            temp_bad[i] = temp[i]\n",
    "            tukey53H_good[i] = \"NaN\"\n",
    "            tukey53H_bad[i] = tukey53H[i]\n",
    "        } else {\n",
    "            temp_good[i] = temp[i]\n",
    "            temp_bad[i] = \"NaN\"\n",
    "            tukey53H_good[i] = tukey53H[i]\n",
    "            tukey53H_bad[i] = \"NaN\"\n",
    "        }\n",
    "    }\n",
    "    source.change.emit();\n",
    "\"\"\")\n",
    "\n",
    "\n",
    "threshold.js_on_change('value', callback)\n",
    "\n",
    "\n",
    "p1 = figure(plot_width=420, plot_height=600)\n",
    "p1.circle(\"temp_good\", \"depth\", source=source, size=8, line_color=\"green\", fill_color=\"green\", fill_alpha=0.3)\n",
    "p1.triangle(\"temp_bad\", \"depth\", source=source, size=8, line_color=\"red\", fill_color=\"red\", fill_alpha=0.3)\n",
    "\n",
    "p2 = figure(plot_width=420, plot_height=600)\n",
    "p2.y_range = p1.y_range\n",
    "p2.circle(\"tukey53H_good\", \"depth\", source=source, size=8, line_color=\"green\", fill_color=\"green\", fill_alpha=0.3)\n",
    "p2.triangle(\"tukey53H_bad\", \"depth\", source=source, size=8, line_color=\"red\", fill_color=\"red\", fill_alpha=0.3)\n",
    "# inputs = row(threshold)\n",
    "#threshold = column(slider)\n",
    "\n",
    "\n",
    "p = column(threshold, row(p1, p2))\n",
    "show(p)"
   ]
  },
  {
   "cell_type": "code",
   "execution_count": null,
   "metadata": {},
   "outputs": [],
   "source": []
  },
  {
   "cell_type": "code",
   "execution_count": null,
   "metadata": {},
   "outputs": [],
   "source": []
  },
  {
   "cell_type": "code",
   "execution_count": null,
   "metadata": {},
   "outputs": [],
   "source": [
    "y_spike"
   ]
  },
  {
   "cell_type": "code",
   "execution_count": null,
   "metadata": {},
   "outputs": [],
   "source": [
    "N = y_spike.size\n",
    "n_greater = np.array([y_spike[np.absolute(y_spike) >= t].size/N for t in np.absolute(y_spike)])\n",
    "\n",
    "p = figure(plot_width=840, plot_height=400)\n",
    "p.circle(np.absolute(y_spike), n_greater, size=8, line_color=\"green\", fill_color=\"green\", fill_alpha=0.3)\n",
    "show(p)"
   ]
  },
  {
   "cell_type": "code",
   "execution_count": null,
   "metadata": {},
   "outputs": [],
   "source": [
    "from scipy.stats import exponweib\n",
    "\n",
    "spike_scale = np.arange(0.0005, 0.2, 1e-3)\n",
    "param = [1.078231, 0.512053, 0.0004, 0.002574]\n",
    "tmp = exponweib.sf(spike_scale, *param[:-2], loc=param[-2], scale=param[-1])\n",
    "p = figure(plot_width=840, plot_height=400)\n",
    "# p.line(x_ref, pdf, line_color=\"orange\", line_width=8, alpha=0.7, legend_label=\"PDF\")\n",
    "p.circle(spike_scale, tmp, size=8, line_color=\"green\", fill_color=\"green\", fill_alpha=0.3)\n",
    "show(p)"
   ]
  },
  {
   "cell_type": "code",
   "execution_count": null,
   "metadata": {},
   "outputs": [],
   "source": [
    "N = y_spike.size\n",
    "n_greater = np.array([y_spike[np.absolute(y_spike) >= t].size/N for t in np.absolute(y_spike)])\n",
    "\n",
    "\n",
    "p1 = figure(plot_width=420, plot_height=600)\n",
    "p1.circle(data['TEMP'][idx_good], -data['PRES'][idx_good], size=8, line_color=\"green\", fill_color=\"green\", fill_alpha=0.3)\n",
    "p1.triangle(data['TEMP'][idx_bad], -data['PRES'][idx_bad], size=8, line_color=\"red\", fill_color=\"red\", fill_alpha=0.3)\n",
    "\n",
    "p2 = figure(plot_width=420, plot_height=600)\n",
    "p2.circle(SF[idx_good], -data['PRES'][idx_good], size=8, line_color=\"green\", fill_color=\"green\", fill_alpha=0.3)\n",
    "p2.triangle(SF[idx_bad], -data['PRES'][idx_bad], size=8, line_color=\"red\", fill_color=\"red\", fill_alpha=0.3)\n",
    "p = row(p1, p2)\n",
    "show(p)"
   ]
  },
  {
   "cell_type": "code",
   "execution_count": null,
   "metadata": {},
   "outputs": [],
   "source": []
  },
  {
   "cell_type": "code",
   "execution_count": null,
   "metadata": {},
   "outputs": [],
   "source": [
    "p1 = figure(plot_width=420, plot_height=600)\n",
    "p1.circle(data['TEMP'][idx_good], -data['PRES'][idx_good], size=8, line_color=\"green\", fill_color=\"green\", fill_alpha=0.3)"
   ]
  },
  {
   "cell_type": "code",
   "execution_count": null,
   "metadata": {},
   "outputs": [],
   "source": []
  },
  {
   "cell_type": "code",
   "execution_count": null,
   "metadata": {},
   "outputs": [],
   "source": [
    "def draw_histogram(x, bins=50):\n",
    "    \"\"\"Plot an histogram\n",
    "    \n",
    "    Create an histogram from the output of numpy.hist().\n",
    "    We will create several histograms in this notebook so let's save this as a function to\n",
    "    reuse this code.\n",
    "    \"\"\"\n",
    "    x = x[np.isfinite(x)]\n",
    "    hist, edges = np.histogram(x, density=True, bins=bins)\n",
    "\n",
    "    #title = 'test'\n",
    "    # p = figure(title=title, tools='', background_fill_color=\"#fafafa\")\n",
    "    p = figure(plot_width=750, plot_height=300,\n",
    "        background_fill_color=\"#fafafa\")\n",
    "        # tools='', background_fill_color=\"#fafafa\")\n",
    "    p.quad(top=hist, bottom=0, left=edges[:-1], right=edges[1:],\n",
    "           fill_color=\"navy\", line_color=\"white\", alpha=0.5)\n",
    "    # p.line(x, pdf, line_color=\"#ff8888\", line_width=4, alpha=0.7, legend_label=\"PDF\")\n",
    "    # p.line(x, cdf, line_color=\"orange\", line_width=2, alpha=0.7, legend_label=\"CDF\")\n",
    "\n",
    "    p.y_range.start = 0\n",
    "    # p.legend.location = \"center_right\"\n",
    "    # p.legend.background_fill_color = \"#fefefe\"\n",
    "    p.xaxis.axis_label = 'x'\n",
    "    p.yaxis.axis_label = 'Pr(x)'\n",
    "    p.grid.grid_line_color=\"white\"\n",
    "    return p"
   ]
  },
  {
   "cell_type": "code",
   "execution_count": null,
   "metadata": {},
   "outputs": [],
   "source": [
    "p = draw_histogram(y_tukey53H[idx_good], bins=50)\n",
    "show(p)"
   ]
  },
  {
   "cell_type": "code",
   "execution_count": null,
   "metadata": {},
   "outputs": [],
   "source": [
    "data.attrs"
   ]
  },
  {
   "cell_type": "code",
   "execution_count": null,
   "metadata": {},
   "outputs": [],
   "source": [
    "import oceansdb\n",
    "WOADB = oceansdb.WOA()\n",
    "\n",
    "woa = WOADB['TEMP'].extract(var=['mean', 'standard_deviation'], doy=data.attrs['datetime'], lat=data.attrs['LATITUDE'], lon=data.attrs['LONGITUDE'], depth=data['PRES'])"
   ]
  },
  {
   "cell_type": "code",
   "execution_count": null,
   "metadata": {},
   "outputs": [],
   "source": [
    "pqc.features[\"TEMP\"][\"woa_mean\"] - 6 * pqc.features[\"TEMP\"][\"woa_std\"]"
   ]
  },
  {
   "cell_type": "code",
   "execution_count": null,
   "metadata": {},
   "outputs": [],
   "source": [
    "pqc = cotede.ProfileQC(data)"
   ]
  },
  {
   "cell_type": "code",
   "execution_count": null,
   "metadata": {},
   "outputs": [],
   "source": [
    "pqc.flags['TEMP'].keys()"
   ]
  },
  {
   "cell_type": "code",
   "execution_count": null,
   "metadata": {},
   "outputs": [],
   "source": [
    "pqc.features['TEMP']\n"
   ]
  },
  {
   "cell_type": "code",
   "execution_count": null,
   "metadata": {},
   "outputs": [],
   "source": [
    "p = figure(plot_width=500, plot_height=600)\n",
    "p.circle(y_tukey53H, -data['PRES'], size=8, line_color=\"green\", fill_color=\"green\", fill_alpha=0.3)\n",
    "show(p)"
   ]
  },
  {
   "cell_type": "code",
   "execution_count": null,
   "metadata": {},
   "outputs": [],
   "source": [
    "idx_valid"
   ]
  },
  {
   "cell_type": "code",
   "execution_count": null,
   "metadata": {},
   "outputs": [],
   "source": [
    "np.percentile(y_tukey53H[np.isfinite(y_tukey53H)], 25)"
   ]
  },
  {
   "cell_type": "code",
   "execution_count": null,
   "metadata": {},
   "outputs": [],
   "source": [
    "idx = y_tukey53H[np.absolute(y_tukey53H) < 6]\n",
    "\n",
    "p = draw_histogram(y_tukey53H[idx & idx_valid])\n",
    "show(p)"
   ]
  },
  {
   "cell_type": "code",
   "execution_count": null,
   "metadata": {},
   "outputs": [],
   "source": [
    "idx = idx_valid & np.isfinite(y_tukey53H)\n",
    "\n",
    "mu_estimated, sigma_estimated = stats.norm.fit(y_tukey53H[idx])\n",
    "\n",
    "print(\"Estimated mean: {:.3f}, and standard deviation: {:.3f}\".format(mu_estimated, sigma_estimated))"
   ]
  },
  {
   "cell_type": "code",
   "execution_count": null,
   "metadata": {},
   "outputs": [],
   "source": [
    "y_tukey53H_scaled = (y_tukey53H - mu_estimated) / sigma_estimated"
   ]
  },
  {
   "cell_type": "code",
   "execution_count": null,
   "metadata": {},
   "outputs": [],
   "source": [
    "p = figure(plot_width=500, plot_height=600)\n",
    "p.circle(y_tukey53H_scaled, -data['PRES'], size=8, line_color=\"green\", fill_color=\"green\", fill_alpha=0.3)\n",
    "show(p)"
   ]
  },
  {
   "cell_type": "code",
   "execution_count": null,
   "metadata": {},
   "outputs": [],
   "source": []
  },
  {
   "cell_type": "code",
   "execution_count": null,
   "metadata": {},
   "outputs": [],
   "source": []
  },
  {
   "cell_type": "code",
   "execution_count": null,
   "metadata": {},
   "outputs": [],
   "source": [
    "cfg = {'TEMP': {'global_range': {'minval': -4, 'maxval': 45}}}\n",
    "\n",
    "pqc = ProfileQC(data, cfg)\n",
    "\n",
    "pqc.flags['TEMP']\n",
    "pqc.flags['TEMP']['overall']\n",
    "\n",
    "idx_good = pqc.flags['TEMP']['overall'] <= 2\n",
    "idx_bad = pqc.flags['TEMP']['overall'] >= 3\n",
    "\n",
    "p = figure(plot_width=500, plot_height=600)\n",
    "p.circle(data['TEMP'][idx_good], -data['PRES'][idx_good], size=8, line_color=\"green\", fill_color=\"green\", fill_alpha=0.3)\n",
    "p.triangle(data['TEMP'][idx_bad], -data['PRES'][idx_bad], size=8, line_color=\"red\", fill_color=\"red\", fill_alpha=0.3)\n",
    "show(p)"
   ]
  },
  {
   "cell_type": "code",
   "execution_count": null,
   "metadata": {},
   "outputs": [],
   "source": [
    "cfg['TEMP']['spike'] = {'threshold': 6}\n",
    "\n",
    "pqc = ProfileQC(data, cfg)\n",
    "\n",
    "pqc.flags['TEMP']\n",
    "pqc.flags['TEMP']['overall']\n",
    "\n",
    "idx_good = pqc.flags['TEMP']['overall'] <= 2\n",
    "idx_bad = pqc.flags['TEMP']['overall'] >= 3\n",
    "\n",
    "p = figure(plot_width=500, plot_height=600)\n",
    "p.circle(data['TEMP'][idx_good], -data['PRES'][idx_good], size=8, line_color=\"green\", fill_color=\"green\", fill_alpha=0.3)\n",
    "p.triangle(data['TEMP'][idx_bad], -data['PRES'][idx_bad], size=8, line_color=\"red\", fill_color=\"red\", fill_alpha=0.3)\n",
    "show(p)"
   ]
  },
  {
   "cell_type": "code",
   "execution_count": null,
   "metadata": {},
   "outputs": [],
   "source": [
    "cfg['TEMP']['woa_normbias'] = {'threshold': 6}\n",
    "\n",
    "\n",
    "pqc = ProfileQC(data, cfg)\n",
    "\n",
    "pqc.flags['TEMP']\n",
    "pqc.flags['TEMP']['overall']\n",
    "\n",
    "idx_good = pqc.flags['TEMP']['overall'] <= 2\n",
    "idx_bad = pqc.flags['TEMP']['overall'] >= 3\n",
    "\n",
    "p = figure(plot_width=500, plot_height=600)\n",
    "p.circle(data['TEMP'][idx_good], -data['PRES'][idx_good], size=8, line_color=\"green\", fill_color=\"green\", fill_alpha=0.3)\n",
    "p.triangle(data['TEMP'][idx_bad], -data['PRES'][idx_bad], size=8, line_color=\"red\", fill_color=\"red\", fill_alpha=0.3)\n",
    "show(p)"
   ]
  },
  {
   "cell_type": "code",
   "execution_count": null,
   "metadata": {},
   "outputs": [],
   "source": [
    "cfg['TEMP']['spike_depthconditional'] = {\"pressure_threshold\": 500, \"shallow_max\": 6.0, \"deep_max\": 2.0}\n",
    "\n",
    "pqc = ProfileQC(data, cfg)\n",
    "\n",
    "pqc.flags['TEMP']\n",
    "pqc.flags['TEMP']['overall']\n",
    "\n",
    "idx_good = pqc.flags['TEMP']['overall'] <= 2\n",
    "idx_bad = pqc.flags['TEMP']['overall'] >= 3\n",
    "\n",
    "p = figure(plot_width=500, plot_height=600)\n",
    "p.circle(data['TEMP'][idx_good], -data['PRES'][idx_good], size=8, line_color=\"green\", fill_color=\"green\", fill_alpha=0.3)\n",
    "p.triangle(data['TEMP'][idx_bad], -data['PRES'][idx_bad], size=8, line_color=\"red\", fill_color=\"red\", fill_alpha=0.3)\n",
    "show(p)"
   ]
  },
  {
   "cell_type": "markdown",
   "metadata": {},
   "source": [
    "## The Easiest Way: High level\n",
    "Let's evaluate this profile using EuroGOOS standard tests."
   ]
  },
  {
   "cell_type": "code",
   "execution_count": null,
   "metadata": {},
   "outputs": [],
   "source": [
    "pqced = cotede.ProfileQCed(data, cfg='eurogoos')"
   ]
  },
  {
   "cell_type": "code",
   "execution_count": null,
   "metadata": {},
   "outputs": [],
   "source": [
    "p = figure(plot_width=500, plot_height=600)\n",
    "p.circle(pqced['TEMP'], -pqced['PRES'], size=8, line_color=\"green\", fill_color=\"green\", fill_alpha=0.3)\n",
    "show(p)"
   ]
  },
  {
   "cell_type": "markdown",
   "metadata": {},
   "source": [
    "## QC with more control: \"medium\" level"
   ]
  },
  {
   "cell_type": "code",
   "execution_count": null,
   "metadata": {},
   "outputs": [],
   "source": [
    "pqc = cotede.ProfileQC(data, cfg='eurogoos')"
   ]
  },
  {
   "cell_type": "code",
   "execution_count": null,
   "metadata": {},
   "outputs": [],
   "source": [
    "pqc.keys()"
   ]
  },
  {
   "cell_type": "code",
   "execution_count": null,
   "metadata": {},
   "outputs": [],
   "source": [
    "pqc.flags[\"TEMP\"]"
   ]
  },
  {
   "cell_type": "code",
   "execution_count": null,
   "metadata": {},
   "outputs": [],
   "source": [
    "data.keys()"
   ]
  },
  {
   "cell_type": "markdown",
   "metadata": {},
   "source": [
    "### Low level"
   ]
  },
  {
   "cell_type": "code",
   "execution_count": null,
   "metadata": {},
   "outputs": [],
   "source": [
    "from cotede import qctests\n",
    "y = qctests.GlobalRange(data, 'TEMP', cfg={'minval': -4, \"maxval\": 45 })\n",
    "y.flags"
   ]
  },
  {
   "cell_type": "code",
   "execution_count": null,
   "metadata": {},
   "outputs": [],
   "source": [
    "y = qctests.Tukey53H(data, 'TEMP', cfg={'threshold': 6, \"l\": 12})\n",
    "y.features[\"tukey53H\"]\n",
    "p = figure(plot_width=500, plot_height=600)\n",
    "p.circle(y.features[\"tukey53H\"], -data['PRES'], size=8, line_color=\"green\", fill_color=\"green\", fill_alpha=0.3)\n",
    "show(p)"
   ]
  },
  {
   "cell_type": "code",
   "execution_count": null,
   "metadata": {},
   "outputs": [],
   "source": []
  },
  {
   "cell_type": "code",
   "execution_count": null,
   "metadata": {},
   "outputs": [],
   "source": []
  },
  {
   "cell_type": "code",
   "execution_count": null,
   "metadata": {},
   "outputs": [],
   "source": []
  }
 ],
 "metadata": {
  "kernelspec": {
   "display_name": "Python 3",
   "language": "python",
   "name": "python3"
  },
  "language_info": {
   "codemirror_mode": {
    "name": "ipython",
    "version": 3
   },
   "file_extension": ".py",
   "mimetype": "text/x-python",
   "name": "python",
   "nbconvert_exporter": "python",
   "pygments_lexer": "ipython3",
   "version": "3.8.5"
  }
 },
 "nbformat": 4,
 "nbformat_minor": 4
}
