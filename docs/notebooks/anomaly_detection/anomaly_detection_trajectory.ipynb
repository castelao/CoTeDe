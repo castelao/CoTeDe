{
 "cells": [
  {
   "cell_type": "markdown",
   "metadata": {},
   "source": [
    "# Anomaly Detection concept with 3D synthetic position"
   ]
  },
  {
   "cell_type": "code",
   "execution_count": null,
   "metadata": {},
   "outputs": [],
   "source": [
    "from bokeh.io import output_notebook, show\n",
    "from bokeh.layouts import column, row\n",
    "from bokeh.plotting import figure\n",
    "import numpy as np\n",
    "from scipy import stats\n",
    "\n",
    "import cotede"
   ]
  },
  {
   "cell_type": "code",
   "execution_count": null,
   "metadata": {},
   "outputs": [],
   "source": [
    "output_notebook()"
   ]
  },
  {
   "cell_type": "code",
   "execution_count": null,
   "metadata": {},
   "outputs": [],
   "source": [
    "# Number of samples\n",
    "N = 3000\n",
    "# True mean and standard deviation of this dataset\n",
    "mu, sigma = 0, 1\n",
    "# Let's fix the random seed so everyone gets the same result\n",
    "np.random.seed(42)\n",
    "\n",
    "t = np.arange(N)\n",
    "dx = np.random.normal(mu, sigma, N)\n",
    "dy = np.random.normal(mu, sigma, N)\n",
    "dz = np.random.normal(mu, sigma, N)"
   ]
  },
  {
   "cell_type": "code",
   "execution_count": null,
   "metadata": {},
   "outputs": [],
   "source": [
    "x = np.cumsum(dx-dx.mean())\n",
    "y = np.cumsum(dy-dy.mean())\n",
    "z = np.cumsum(dz-dz.mean())"
   ]
  },
  {
   "cell_type": "code",
   "execution_count": null,
   "metadata": {},
   "outputs": [],
   "source": [
    "# A time series with the data\n",
    "p1 = figure(plot_width=750, plot_height=250)\n",
    "p1.circle(t, x, size=8, line_color=\"orange\", fill_color=\"orange\", fill_alpha=0.5)\n",
    "\n",
    "p2 = figure(plot_width=750, plot_height=250)\n",
    "p2.circle(t, y, size=8, line_color=\"orange\", fill_color=\"orange\", fill_alpha=0.5)\n",
    "\n",
    "p3 = figure(plot_width=750, plot_height=250)\n",
    "p3.circle(t, z, size=8, line_color=\"orange\", fill_color=\"orange\", fill_alpha=0.5)\n",
    "\n",
    "p = column(p1, p2, p3)\n",
    "show(p)"
   ]
  },
  {
   "cell_type": "code",
   "execution_count": null,
   "metadata": {},
   "outputs": [],
   "source": []
  },
  {
   "cell_type": "code",
   "execution_count": null,
   "metadata": {},
   "outputs": [],
   "source": [
    "N_bad = 15\n",
    "idx = np.random.permutation(x.size)[:N_bad]\n",
    "x[idx] = np.random.uniform(mu-10*sigma, mu+20*sigma, N_bad)\n",
    "y[idx] = np.random.uniform(mu-10*sigma, mu+20*sigma, N_bad)\n",
    "z[idx] = np.random.uniform(mu-10*sigma, mu+20*sigma, N_bad)\n",
    "\n",
    "idx_good = [tn not in idx for tn in t]\n",
    "\n",
    "print(sorted(x[idx]))"
   ]
  },
  {
   "cell_type": "code",
   "execution_count": null,
   "metadata": {},
   "outputs": [],
   "source": [
    "# A time series with the data\n",
    "p1 = figure(plot_width=750, plot_height=250)\n",
    "p1.circle(t[idx_good], x[idx_good], size=8, line_color=\"green\", fill_color=\"green\", fill_alpha=0.3)\n",
    "p1.triangle(t[idx], x[idx], size=12, line_color=\"red\", fill_color=\"red\", fill_alpha=0.8)\n",
    "\n",
    "p2 = figure(plot_width=750, plot_height=250)\n",
    "p2.circle(t[idx_good], y[idx_good], size=8, line_color=\"green\", fill_color=\"green\", fill_alpha=0.3)\n",
    "p2.triangle(t[idx], y[idx], size=12, line_color=\"red\", fill_color=\"red\", fill_alpha=0.8)\n",
    "\n",
    "\n",
    "p3 = figure(plot_width=750, plot_height=250)\n",
    "p3.circle(t[idx_good], z[idx_good], size=8, line_color=\"green\", fill_color=\"green\", fill_alpha=0.3)\n",
    "p3.triangle(t[idx], z[idx], size=12, line_color=\"red\", fill_color=\"red\", fill_alpha=0.8)\n",
    "\n",
    "p = column(p1, p2, p3)\n",
    "show(p)"
   ]
  },
  {
   "cell_type": "code",
   "execution_count": null,
   "metadata": {},
   "outputs": [],
   "source": []
  },
  {
   "cell_type": "code",
   "execution_count": null,
   "metadata": {},
   "outputs": [],
   "source": [
    "hist, edges = np.histogram(x, density=False, bins=50)\n",
    "\n",
    "p = figure(plot_width=750, plot_height=300, background_fill_color=\"#fafafa\", title=\"Data distribution\")\n",
    "p.quad(top=hist, bottom=0, left=edges[:-1], right=edges[1:],fill_color=\"green\", line_color=\"white\", alpha=0.5, legend_label=\"Good data\")\n",
    "\n",
    "show(p)"
   ]
  },
  {
   "cell_type": "code",
   "execution_count": null,
   "metadata": {},
   "outputs": [],
   "source": []
  },
  {
   "cell_type": "code",
   "execution_count": null,
   "metadata": {},
   "outputs": [],
   "source": []
  },
  {
   "cell_type": "code",
   "execution_count": null,
   "metadata": {},
   "outputs": [],
   "source": [
    "import numpy as np\n",
    "import matplotlib.pyplot as plt\n",
    "\n",
    "\n",
    "plt.rcParams['legend.fontsize'] = 10\n",
    "\n",
    "fig = plt.figure(figsize=(15,15))\n",
    "ax = fig.gca(projection='3d')\n",
    "\n",
    "# Prepare arrays x, y, z\n",
    "theta = np.linspace(-4 * np.pi, 4 * np.pi, 100)\n",
    "Z = np.linspace(-2, 2, 100)\n",
    "r = Z**2 + 1\n",
    "X = r * np.sin(theta)\n",
    "Y  = r * np.cos(theta)\n",
    "\n",
    "# ax.plot(Z+x[:300]/3, Y+y[:300]/3, Z+z[:300]/3, label='parametric curve')\n",
    "ax.plot(X+dx[:100], Y, Z, label='parametric curve')\n",
    "ax.legend()\n",
    "\n",
    "plt.show()"
   ]
  },
  {
   "cell_type": "code",
   "execution_count": null,
   "metadata": {},
   "outputs": [],
   "source": [
    "x.max()"
   ]
  },
  {
   "cell_type": "code",
   "execution_count": null,
   "metadata": {},
   "outputs": [],
   "source": []
  }
 ],
 "metadata": {
  "kernelspec": {
   "display_name": "Python 3",
   "language": "python",
   "name": "python3"
  },
  "language_info": {
   "codemirror_mode": {
    "name": "ipython",
    "version": 3
   },
   "file_extension": ".py",
   "mimetype": "text/x-python",
   "name": "python",
   "nbconvert_exporter": "python",
   "pygments_lexer": "ipython3",
   "version": "3.8.5"
  }
 },
 "nbformat": 4,
 "nbformat_minor": 4
}
