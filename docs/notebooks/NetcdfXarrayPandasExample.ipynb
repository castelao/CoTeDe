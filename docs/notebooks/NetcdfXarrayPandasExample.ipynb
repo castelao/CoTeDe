{
 "cells": [
  {
   "cell_type": "markdown",
   "metadata": {},
   "source": [
    "# Quality Controlling a generic data object"
   ]
  },
  {
   "cell_type": "markdown",
   "metadata": {},
   "source": [
    "### Objective:\n",
    "\n",
    "This notebook shows how to use CoTeDe with a netcdf file (using xarray), or a pandas dataframe."
   ]
  },
  {
   "cell_type": "code",
   "execution_count": 76,
   "metadata": {},
   "outputs": [
    {
     "name": "stdout",
     "output_type": "stream",
     "text": [
      "CoTeDe version: 0.20.2\n"
     ]
    }
   ],
   "source": [
    "import cotede\n",
    "print(\"CoTeDe version: {}\".format(cotede.__version__))"
   ]
  },
  {
   "cell_type": "code",
   "execution_count": 77,
   "metadata": {},
   "outputs": [
    {
     "name": "stdout",
     "output_type": "stream",
     "text": [
      "Requirement already satisfied: xarray in /home/jaustin/apps/anaconda3/envs/cotede37/lib/python3.7/site-packages (0.15.0)\r\n",
      "Requirement already satisfied: pandas>=0.25 in /home/jaustin/apps/anaconda3/envs/cotede37/lib/python3.7/site-packages (from xarray) (1.0.1)\r\n",
      "Requirement already satisfied: numpy>=1.15 in /home/jaustin/apps/anaconda3/envs/cotede37/lib/python3.7/site-packages (from xarray) (1.18.1)\r\n",
      "Requirement already satisfied: python-dateutil>=2.6.1 in /home/jaustin/apps/anaconda3/envs/cotede37/lib/python3.7/site-packages (from pandas>=0.25->xarray) (2.8.1)\r\n",
      "Requirement already satisfied: pytz>=2017.2 in /home/jaustin/apps/anaconda3/envs/cotede37/lib/python3.7/site-packages (from pandas>=0.25->xarray) (2019.3)\r\n",
      "Requirement already satisfied: six>=1.5 in /home/jaustin/apps/anaconda3/envs/cotede37/lib/python3.7/site-packages (from python-dateutil>=2.6.1->pandas>=0.25->xarray) (1.14.0)\r\n"
     ]
    }
   ],
   "source": [
    "# install xarray/pandas\n",
    "!pip install xarray"
   ]
  },
  {
   "cell_type": "code",
   "execution_count": 79,
   "metadata": {},
   "outputs": [],
   "source": [
    "# Import requirements\n",
    "\n",
    "from datetime import datetime\n",
    "\n",
    "import numpy as np\n",
    "from numpy import ma\n",
    "from cotede.qc import ProfileQC\n",
    "import pandas as pd\n",
    "import xarray as xr"
   ]
  },
  {
   "cell_type": "markdown",
   "metadata": {},
   "source": [
    "# xarray/netcdf"
   ]
  },
  {
   "cell_type": "code",
   "execution_count": 80,
   "metadata": {},
   "outputs": [
    {
     "data": {
      "text/html": [
       "<pre>&lt;xarray.Dataset&gt;\n",
       "Dimensions:                       (time: 45, z: 1)\n",
       "Coordinates:\n",
       "    latitude                      float64 ...\n",
       "    longitude                     float64 ...\n",
       "  * time                          (time) datetime64[ns] 2000-02-21T00:17:00 ... 2000-02-28T06:17:00\n",
       "  * z                             (z) float64 0.0\n",
       "Data variables:\n",
       "    station                       object ...\n",
       "    crs                           int32 ...\n",
       "    sea_water_practical_salinity  (time, z) float64 ...\n",
       "    sea_water_temperature         (time, z) float64 ...\n",
       "Attributes:\n",
       "    Conventions:                   IOOS-1.2, CF-1.6, ACDD-1.3, NCCSV-1.0\n",
       "    date_created:                  2020-02-29T04:10:00Z\n",
       "    featureType:                   TimeSeries\n",
       "    cdm_data_type:                 TimeSeries\n",
       "    cdm_timeseries_variables:      air_temperature,air_pressure,dissolved_car...\n",
       "    contributor_email:             uaf.web@alaska.edu,feedback@axiomdatascien...\n",
       "    contributor_name:              University Of Alaska Fairbanks (UAF),Axiom...\n",
       "    contributor_role:              contributor,processor\n",
       "    contributor_role_vocabulary:   CI_RoleCode\n",
       "    contributor_url:               http://www.uaf.edu/,https://www.axiomdatas...\n",
       "    creator_country:               USA\n",
       "    creator_email:                 dana.greeley@noaa.gov\n",
       "    creator_institution:           NOAA Pacific Marine Environmental Lab (PMEL)\n",
       "    creator_name:                  NOAA Pacific Marine Environmental Lab (PMEL)\n",
       "    creator_sector:                gov_federal\n",
       "    creator_type:                  institution\n",
       "    creator_url:                   https://www.pmel.noaa.gov/co2/\n",
       "    Easternmost_Easting:           -149.5\n",
       "    geospatial_lat_max:            59.85\n",
       "    geospatial_lat_min:            59.85\n",
       "    geospatial_lat_units:          degrees_north\n",
       "    geospatial_lon_max:            -149.5\n",
       "    geospatial_lon_min:            -149.5\n",
       "    geospatial_lon_units:          degrees_east\n",
       "    geospatial_vertical_positive:  up\n",
       "    geospatial_vertical_units:     m\n",
       "    history:                       Downloaded from NOAA Pacific Marine Enviro...\n",
       "    id:                            14118\n",
       "    infoUrl:                       https://portal.aoos.org/#metadata/14118/st...\n",
       "    institution:                   NOAA Pacific Marine Environmental Lab (PMEL)\n",
       "    license:                       The data may be used and redistributed for...\n",
       "    naming_authority:              com.axiomdatascience\n",
       "    Northernmost_Northing:         59.85\n",
       "    platform:                      fixed\n",
       "    platform_vocabulary:           http://mmisw.org/ont/ioos/platform\n",
       "    publisher_country:             USA\n",
       "    publisher_email:               dana.greeley@noaa.gov\n",
       "    publisher_institution:         NOAA Pacific Marine Environmental Lab (PMEL)\n",
       "    publisher_name:                NOAA Pacific Marine Environmental Lab (PMEL)\n",
       "    publisher_sector:              gov_federal\n",
       "    publisher_type:                institution\n",
       "    publisher_url:                 https://www.pmel.noaa.gov/co2/\n",
       "    references:                    https://www.pmel.noaa.gov/co2/story/GAKOA,,\n",
       "    sourceUrl:                     https://sensors.axds.co/api/\n",
       "    Southernmost_Northing:         59.85\n",
       "    standard_name_vocabulary:      CF Standard Name Table v71\n",
       "    summary:                       Timeseries data from &#x27;Gulf of Alaska Ocean...\n",
       "    time_coverage_end:             2020-02-28T06:17:00Z\n",
       "    time_coverage_start:           2020-02-21T00:17:00Z\n",
       "    title:                         Gulf of Alaska Ocean Acidification Mooring\n",
       "    Westernmost_Easting:           -149.5</pre>"
      ],
      "text/plain": [
       "<xarray.Dataset>\n",
       "Dimensions:                       (time: 45, z: 1)\n",
       "Coordinates:\n",
       "    latitude                      float64 ...\n",
       "    longitude                     float64 ...\n",
       "  * time                          (time) datetime64[ns] 2000-02-21T00:17:00 ... 2000-02-28T06:17:00\n",
       "  * z                             (z) float64 0.0\n",
       "Data variables:\n",
       "    station                       object ...\n",
       "    crs                           int32 ...\n",
       "    sea_water_practical_salinity  (time, z) float64 ...\n",
       "    sea_water_temperature         (time, z) float64 ...\n",
       "Attributes:\n",
       "    Conventions:                   IOOS-1.2, CF-1.6, ACDD-1.3, NCCSV-1.0\n",
       "    date_created:                  2020-02-29T04:10:00Z\n",
       "    featureType:                   TimeSeries\n",
       "    cdm_data_type:                 TimeSeries\n",
       "    cdm_timeseries_variables:      air_temperature,air_pressure,dissolved_car...\n",
       "    contributor_email:             uaf.web@alaska.edu,feedback@axiomdatascien...\n",
       "    contributor_name:              University Of Alaska Fairbanks (UAF),Axiom...\n",
       "    contributor_role:              contributor,processor\n",
       "    contributor_role_vocabulary:   CI_RoleCode\n",
       "    contributor_url:               http://www.uaf.edu/,https://www.axiomdatas...\n",
       "    creator_country:               USA\n",
       "    creator_email:                 dana.greeley@noaa.gov\n",
       "    creator_institution:           NOAA Pacific Marine Environmental Lab (PMEL)\n",
       "    creator_name:                  NOAA Pacific Marine Environmental Lab (PMEL)\n",
       "    creator_sector:                gov_federal\n",
       "    creator_type:                  institution\n",
       "    creator_url:                   https://www.pmel.noaa.gov/co2/\n",
       "    Easternmost_Easting:           -149.5\n",
       "    geospatial_lat_max:            59.85\n",
       "    geospatial_lat_min:            59.85\n",
       "    geospatial_lat_units:          degrees_north\n",
       "    geospatial_lon_max:            -149.5\n",
       "    geospatial_lon_min:            -149.5\n",
       "    geospatial_lon_units:          degrees_east\n",
       "    geospatial_vertical_positive:  up\n",
       "    geospatial_vertical_units:     m\n",
       "    history:                       Downloaded from NOAA Pacific Marine Enviro...\n",
       "    id:                            14118\n",
       "    infoUrl:                       https://portal.aoos.org/#metadata/14118/st...\n",
       "    institution:                   NOAA Pacific Marine Environmental Lab (PMEL)\n",
       "    license:                       The data may be used and redistributed for...\n",
       "    naming_authority:              com.axiomdatascience\n",
       "    Northernmost_Northing:         59.85\n",
       "    platform:                      fixed\n",
       "    platform_vocabulary:           http://mmisw.org/ont/ioos/platform\n",
       "    publisher_country:             USA\n",
       "    publisher_email:               dana.greeley@noaa.gov\n",
       "    publisher_institution:         NOAA Pacific Marine Environmental Lab (PMEL)\n",
       "    publisher_name:                NOAA Pacific Marine Environmental Lab (PMEL)\n",
       "    publisher_sector:              gov_federal\n",
       "    publisher_type:                institution\n",
       "    publisher_url:                 https://www.pmel.noaa.gov/co2/\n",
       "    references:                    https://www.pmel.noaa.gov/co2/story/GAKOA,,\n",
       "    sourceUrl:                     https://sensors.axds.co/api/\n",
       "    Southernmost_Northing:         59.85\n",
       "    standard_name_vocabulary:      CF Standard Name Table v71\n",
       "    summary:                       Timeseries data from 'Gulf of Alaska Ocean...\n",
       "    time_coverage_end:             2020-02-28T06:17:00Z\n",
       "    time_coverage_start:           2020-02-21T00:17:00Z\n",
       "    title:                         Gulf of Alaska Ocean Acidification Mooring\n",
       "    Westernmost_Easting:           -149.5"
      ]
     },
     "execution_count": 80,
     "metadata": {},
     "output_type": "execute_result"
    }
   ],
   "source": [
    "# load up data in xarray from netcdf file\n",
    "mydata = xr.open_dataset('gak.nc')\n",
    "mydata"
   ]
  },
  {
   "cell_type": "markdown",
   "metadata": {},
   "source": [
    "\n"
   ]
  },
  {
   "cell_type": "code",
   "execution_count": 81,
   "metadata": {},
   "outputs": [
    {
     "data": {
      "text/plain": [
       "{'main': {'valid_datetime': None},\n",
       " 'sea_water_temperature': {'global_range': {'minval': 4.0, 'maxval': 5.0}},\n",
       " 'sea_water_practical_salinity': {'global_range': {'minval': 29.0,\n",
       "   'maxval': 32.0}}}"
      ]
     },
     "execution_count": 81,
     "metadata": {},
     "output_type": "execute_result"
    }
   ],
   "source": [
    "# define qc config\n",
    "cfg = {\n",
    "    'main': {\n",
    "        'valid_datetime': None,\n",
    "    },\n",
    "    'sea_water_temperature': {\n",
    "        'global_range': {\n",
    "            'minval': 4.0,\n",
    "            'maxval': 5.0,\n",
    "        },\n",
    "    },\n",
    "    'sea_water_practical_salinity': {\n",
    "        'global_range': {\n",
    "            'minval': 29.0,\n",
    "            'maxval': 32.0,\n",
    "        },\n",
    "    },\n",
    "}\n",
    "cfg"
   ]
  },
  {
   "cell_type": "code",
   "execution_count": 82,
   "metadata": {},
   "outputs": [
    {
     "name": "stderr",
     "output_type": "stream",
     "text": [
      "/home/jaustin/apps/anaconda3/envs/cotede37/lib/python3.7/site-packages/cotede/qctests/global_range.py:39: FutureWarning: Using a non-tuple sequence for multidimensional indexing is deprecated; use `arr[tuple(seq)]` instead of `arr[seq]`. In the future this will be interpreted as an array index, `arr[np.array(seq)]`, which will result either in an error or a different result.\n",
      "  flag[np.nonzero(feature < minval)] = self.flag_bad\n",
      "/home/jaustin/apps/anaconda3/envs/cotede37/lib/python3.7/site-packages/cotede/qctests/global_range.py:40: FutureWarning: Using a non-tuple sequence for multidimensional indexing is deprecated; use `arr[tuple(seq)]` instead of `arr[seq]`. In the future this will be interpreted as an array index, `arr[np.array(seq)]`, which will result either in an error or a different result.\n",
      "  flag[np.nonzero(feature > maxval)] = self.flag_bad\n",
      "/home/jaustin/apps/anaconda3/envs/cotede37/lib/python3.7/site-packages/cotede/qctests/global_range.py:42: FutureWarning: Using a non-tuple sequence for multidimensional indexing is deprecated; use `arr[tuple(seq)]` instead of `arr[seq]`. In the future this will be interpreted as an array index, `arr[np.array(seq)]`, which will result either in an error or a different result.\n",
      "  flag[np.nonzero(idx)] = self.flag_good\n",
      "/home/jaustin/apps/anaconda3/envs/cotede37/lib/python3.7/site-packages/cotede/qctests/global_range.py:39: FutureWarning: Using a non-tuple sequence for multidimensional indexing is deprecated; use `arr[tuple(seq)]` instead of `arr[seq]`. In the future this will be interpreted as an array index, `arr[np.array(seq)]`, which will result either in an error or a different result.\n",
      "  flag[np.nonzero(feature < minval)] = self.flag_bad\n",
      "/home/jaustin/apps/anaconda3/envs/cotede37/lib/python3.7/site-packages/cotede/qctests/global_range.py:40: FutureWarning: Using a non-tuple sequence for multidimensional indexing is deprecated; use `arr[tuple(seq)]` instead of `arr[seq]`. In the future this will be interpreted as an array index, `arr[np.array(seq)]`, which will result either in an error or a different result.\n",
      "  flag[np.nonzero(feature > maxval)] = self.flag_bad\n",
      "/home/jaustin/apps/anaconda3/envs/cotede37/lib/python3.7/site-packages/cotede/qctests/global_range.py:42: FutureWarning: Using a non-tuple sequence for multidimensional indexing is deprecated; use `arr[tuple(seq)]` instead of `arr[seq]`. In the future this will be interpreted as an array index, `arr[np.array(seq)]`, which will result either in an error or a different result.\n",
      "  flag[np.nonzero(idx)] = self.flag_good\n"
     ]
    }
   ],
   "source": [
    "# run qc\n",
    "pqced = ProfileQC(mydata, cfg=cfg, attributes={})"
   ]
  },
  {
   "cell_type": "code",
   "execution_count": 83,
   "metadata": {},
   "outputs": [
    {
     "data": {
      "text/plain": [
       "dict_keys(['common', 'sea_water_practical_salinity', 'sea_water_temperature'])"
      ]
     },
     "execution_count": 83,
     "metadata": {},
     "output_type": "execute_result"
    }
   ],
   "source": [
    "# inspect flags\n",
    "pqced.flags.keys()"
   ]
  },
  {
   "cell_type": "code",
   "execution_count": 84,
   "metadata": {},
   "outputs": [
    {
     "data": {
      "text/plain": [
       "dict_keys(['valid_datetime', 'global_range', 'overall'])"
      ]
     },
     "execution_count": 84,
     "metadata": {},
     "output_type": "execute_result"
    }
   ],
   "source": [
    "pqced.flags['sea_water_temperature'].keys()"
   ]
  },
  {
   "cell_type": "code",
   "execution_count": 85,
   "metadata": {},
   "outputs": [
    {
     "data": {
      "text/plain": [
       "array([[1, 1, 1, 1, 1, 1, 1, 1, 1, 1, 1, 4, 1, 1, 1, 4, 4, 4, 1, 1, 1, 1,\n",
       "        1, 1, 1, 1, 1, 1, 1, 1, 1, 1, 1, 1, 1, 1, 1, 1, 1, 1, 1, 1, 1, 1,\n",
       "        1]], dtype=int8)"
      ]
     },
     "execution_count": 85,
     "metadata": {},
     "output_type": "execute_result"
    }
   ],
   "source": [
    "pqced.flags['sea_water_temperature']['global_range'].transpose()"
   ]
  },
  {
   "cell_type": "code",
   "execution_count": 73,
   "metadata": {},
   "outputs": [
    {
     "data": {
      "text/plain": [
       "array([[3, 3, 3, 3, 3, 3, 3, 3, 3, 3, 3, 4, 3, 3, 3, 4, 4, 4, 3, 3, 3, 3,\n",
       "        3, 3, 3, 3, 3, 3, 3, 3, 3, 3, 3, 3, 3, 3, 3, 3, 3, 3, 3, 3, 3, 3,\n",
       "        3]], dtype=int8)"
      ]
     },
     "execution_count": 73,
     "metadata": {},
     "output_type": "execute_result"
    }
   ],
   "source": [
    "pqced.flags['sea_water_temperature']['overall'].transpose()"
   ]
  },
  {
   "cell_type": "markdown",
   "metadata": {},
   "source": [
    "# pandas dataframe"
   ]
  },
  {
   "cell_type": "code",
   "execution_count": 89,
   "metadata": {},
   "outputs": [
    {
     "data": {
      "text/html": [
       "<div>\n",
       "<style scoped>\n",
       "    .dataframe tbody tr th:only-of-type {\n",
       "        vertical-align: middle;\n",
       "    }\n",
       "\n",
       "    .dataframe tbody tr th {\n",
       "        vertical-align: top;\n",
       "    }\n",
       "\n",
       "    .dataframe thead th {\n",
       "        text-align: right;\n",
       "    }\n",
       "</style>\n",
       "<table border=\"1\" class=\"dataframe\">\n",
       "  <thead>\n",
       "    <tr style=\"text-align: right;\">\n",
       "      <th></th>\n",
       "      <th>time</th>\n",
       "      <th>latitude</th>\n",
       "      <th>longitude</th>\n",
       "      <th>z</th>\n",
       "      <th>sea_water_practical_salinity</th>\n",
       "      <th>sea_water_temperature</th>\n",
       "    </tr>\n",
       "  </thead>\n",
       "  <tbody>\n",
       "    <tr>\n",
       "      <th>0</th>\n",
       "      <td>2020-02-28T06:17:00Z</td>\n",
       "      <td>59.85</td>\n",
       "      <td>-149.5</td>\n",
       "      <td>0.0</td>\n",
       "      <td>31.31</td>\n",
       "      <td>4.09</td>\n",
       "    </tr>\n",
       "    <tr>\n",
       "      <th>1</th>\n",
       "      <td>2020-02-28T03:17:00Z</td>\n",
       "      <td>59.85</td>\n",
       "      <td>-149.5</td>\n",
       "      <td>0.0</td>\n",
       "      <td>31.41</td>\n",
       "      <td>4.29</td>\n",
       "    </tr>\n",
       "    <tr>\n",
       "      <th>2</th>\n",
       "      <td>2020-02-28T00:17:00Z</td>\n",
       "      <td>59.85</td>\n",
       "      <td>-149.5</td>\n",
       "      <td>0.0</td>\n",
       "      <td>31.52</td>\n",
       "      <td>4.49</td>\n",
       "    </tr>\n",
       "    <tr>\n",
       "      <th>3</th>\n",
       "      <td>2020-02-27T21:17:00Z</td>\n",
       "      <td>59.85</td>\n",
       "      <td>-149.5</td>\n",
       "      <td>0.0</td>\n",
       "      <td>31.55</td>\n",
       "      <td>4.53</td>\n",
       "    </tr>\n",
       "    <tr>\n",
       "      <th>4</th>\n",
       "      <td>2020-02-27T18:17:00Z</td>\n",
       "      <td>59.85</td>\n",
       "      <td>-149.5</td>\n",
       "      <td>0.0</td>\n",
       "      <td>31.55</td>\n",
       "      <td>4.52</td>\n",
       "    </tr>\n",
       "  </tbody>\n",
       "</table>\n",
       "</div>"
      ],
      "text/plain": [
       "                   time  latitude  longitude    z  \\\n",
       "0  2020-02-28T06:17:00Z     59.85     -149.5  0.0   \n",
       "1  2020-02-28T03:17:00Z     59.85     -149.5  0.0   \n",
       "2  2020-02-28T00:17:00Z     59.85     -149.5  0.0   \n",
       "3  2020-02-27T21:17:00Z     59.85     -149.5  0.0   \n",
       "4  2020-02-27T18:17:00Z     59.85     -149.5  0.0   \n",
       "\n",
       "   sea_water_practical_salinity  sea_water_temperature  \n",
       "0                         31.31                   4.09  \n",
       "1                         31.41                   4.29  \n",
       "2                         31.52                   4.49  \n",
       "3                         31.55                   4.53  \n",
       "4                         31.55                   4.52  "
      ]
     },
     "execution_count": 89,
     "metadata": {},
     "output_type": "execute_result"
    }
   ],
   "source": [
    "# load up data in pandas from csv file\n",
    "df = pd.read_csv('gak.csv', skiprows=[1])\n",
    "df.head()"
   ]
  },
  {
   "cell_type": "code",
   "execution_count": 90,
   "metadata": {},
   "outputs": [
    {
     "ename": "ValueError",
     "evalue": "Length of passed values is 1, index implies 45.",
     "output_type": "error",
     "traceback": [
      "\u001b[0;31m---------------------------------------------------------------------------\u001b[0m",
      "\u001b[0;31mValueError\u001b[0m                                Traceback (most recent call last)",
      "\u001b[0;32m<ipython-input-90-f6c83b061050>\u001b[0m in \u001b[0;36m<module>\u001b[0;34m\u001b[0m\n\u001b[1;32m      1\u001b[0m \u001b[0;31m# run qc\u001b[0m\u001b[0;34m\u001b[0m\u001b[0;34m\u001b[0m\u001b[0;34m\u001b[0m\u001b[0m\n\u001b[0;32m----> 2\u001b[0;31m \u001b[0mpqced_df\u001b[0m \u001b[0;34m=\u001b[0m \u001b[0mProfileQC\u001b[0m\u001b[0;34m(\u001b[0m\u001b[0mdf\u001b[0m\u001b[0;34m,\u001b[0m \u001b[0mcfg\u001b[0m\u001b[0;34m=\u001b[0m\u001b[0mcfg\u001b[0m\u001b[0;34m,\u001b[0m \u001b[0mattributes\u001b[0m\u001b[0;34m=\u001b[0m\u001b[0;34m{\u001b[0m\u001b[0;34m}\u001b[0m\u001b[0;34m)\u001b[0m\u001b[0;34m\u001b[0m\u001b[0;34m\u001b[0m\u001b[0m\n\u001b[0m",
      "\u001b[0;32m~/apps/anaconda3/envs/cotede37/lib/python3.7/site-packages/cotede/qc.py\u001b[0m in \u001b[0;36m__init__\u001b[0;34m(self, input, cfg, saveauxiliary, verbose, attributes, logger)\u001b[0m\n\u001b[1;32m     81\u001b[0m                     module_logger.debug(\" %s - evaluating: %s, as type: %s\" %\n\u001b[1;32m     82\u001b[0m                                             (self.name, v, c))\n\u001b[0;32m---> 83\u001b[0;31m                     \u001b[0mself\u001b[0m\u001b[0;34m.\u001b[0m\u001b[0mevaluate\u001b[0m\u001b[0;34m(\u001b[0m\u001b[0mv\u001b[0m\u001b[0;34m,\u001b[0m \u001b[0mself\u001b[0m\u001b[0;34m.\u001b[0m\u001b[0mcfg\u001b[0m\u001b[0;34m[\u001b[0m\u001b[0;34m'variables'\u001b[0m\u001b[0;34m]\u001b[0m\u001b[0;34m[\u001b[0m\u001b[0mc\u001b[0m\u001b[0;34m]\u001b[0m\u001b[0;34m)\u001b[0m\u001b[0;34m\u001b[0m\u001b[0;34m\u001b[0m\u001b[0m\n\u001b[0m\u001b[1;32m     84\u001b[0m                     \u001b[0;32mbreak\u001b[0m\u001b[0;34m\u001b[0m\u001b[0;34m\u001b[0m\u001b[0m\n\u001b[1;32m     85\u001b[0m \u001b[0;34m\u001b[0m\u001b[0m\n",
      "\u001b[0;32m~/apps/anaconda3/envs/cotede37/lib/python3.7/site-packages/cotede/qc.py\u001b[0m in \u001b[0;36mevaluate\u001b[0;34m(self, v, cfg)\u001b[0m\n\u001b[1;32m    235\u001b[0m         \u001b[0;32mfor\u001b[0m \u001b[0mcriterion\u001b[0m \u001b[0;32min\u001b[0m \u001b[0;34m[\u001b[0m\u001b[0mc\u001b[0m \u001b[0;32mfor\u001b[0m \u001b[0mc\u001b[0m \u001b[0;32min\u001b[0m \u001b[0mcatalog\u001b[0m \u001b[0;32mif\u001b[0m \u001b[0mc\u001b[0m \u001b[0;32min\u001b[0m \u001b[0mcfg\u001b[0m\u001b[0;34m]\u001b[0m\u001b[0;34m:\u001b[0m\u001b[0;34m\u001b[0m\u001b[0;34m\u001b[0m\u001b[0m\n\u001b[1;32m    236\u001b[0m             \u001b[0mProcedure\u001b[0m \u001b[0;34m=\u001b[0m \u001b[0mcatalog\u001b[0m\u001b[0;34m[\u001b[0m\u001b[0mcriterion\u001b[0m\u001b[0;34m]\u001b[0m\u001b[0;34m\u001b[0m\u001b[0;34m\u001b[0m\u001b[0m\n\u001b[0;32m--> 237\u001b[0;31m             \u001b[0my\u001b[0m \u001b[0;34m=\u001b[0m \u001b[0mProcedure\u001b[0m\u001b[0;34m(\u001b[0m\u001b[0mself\u001b[0m\u001b[0;34m.\u001b[0m\u001b[0minput\u001b[0m\u001b[0;34m,\u001b[0m \u001b[0mv\u001b[0m\u001b[0;34m,\u001b[0m \u001b[0mcfg\u001b[0m\u001b[0;34m[\u001b[0m\u001b[0mcriterion\u001b[0m\u001b[0;34m]\u001b[0m\u001b[0;34m,\u001b[0m \u001b[0mautoflag\u001b[0m\u001b[0;34m=\u001b[0m\u001b[0;32mTrue\u001b[0m\u001b[0;34m)\u001b[0m\u001b[0;34m\u001b[0m\u001b[0;34m\u001b[0m\u001b[0m\n\u001b[0m\u001b[1;32m    238\u001b[0m \u001b[0;34m\u001b[0m\u001b[0m\n\u001b[1;32m    239\u001b[0m             \u001b[0;32mif\u001b[0m \u001b[0mself\u001b[0m\u001b[0;34m.\u001b[0m\u001b[0msaveauxiliary\u001b[0m\u001b[0;34m:\u001b[0m\u001b[0;34m\u001b[0m\u001b[0;34m\u001b[0m\u001b[0m\n",
      "\u001b[0;32m~/apps/anaconda3/envs/cotede37/lib/python3.7/site-packages/cotede/qctests/qctests.py\u001b[0m in \u001b[0;36m__init__\u001b[0;34m(self, data, varname, cfg, autoflag)\u001b[0m\n\u001b[1;32m    116\u001b[0m     \u001b[0;32mdef\u001b[0m \u001b[0m__init__\u001b[0m\u001b[0;34m(\u001b[0m\u001b[0mself\u001b[0m\u001b[0;34m,\u001b[0m \u001b[0mdata\u001b[0m\u001b[0;34m,\u001b[0m \u001b[0mvarname\u001b[0m\u001b[0;34m,\u001b[0m \u001b[0mcfg\u001b[0m\u001b[0;34m=\u001b[0m\u001b[0;32mNone\u001b[0m\u001b[0;34m,\u001b[0m \u001b[0mautoflag\u001b[0m\u001b[0;34m=\u001b[0m\u001b[0;32mTrue\u001b[0m\u001b[0;34m)\u001b[0m\u001b[0;34m:\u001b[0m\u001b[0;34m\u001b[0m\u001b[0;34m\u001b[0m\u001b[0m\n\u001b[1;32m    117\u001b[0m         \u001b[0mself\u001b[0m\u001b[0;34m.\u001b[0m\u001b[0mvarname\u001b[0m \u001b[0;34m=\u001b[0m \u001b[0mvarname\u001b[0m\u001b[0;34m\u001b[0m\u001b[0;34m\u001b[0m\u001b[0m\n\u001b[0;32m--> 118\u001b[0;31m         \u001b[0msuper\u001b[0m\u001b[0;34m(\u001b[0m\u001b[0;34m)\u001b[0m\u001b[0;34m.\u001b[0m\u001b[0m__init__\u001b[0m\u001b[0;34m(\u001b[0m\u001b[0mdata\u001b[0m\u001b[0;34m,\u001b[0m \u001b[0mcfg\u001b[0m\u001b[0;34m,\u001b[0m \u001b[0mautoflag\u001b[0m\u001b[0;34m)\u001b[0m\u001b[0;34m\u001b[0m\u001b[0;34m\u001b[0m\u001b[0m\n\u001b[0m",
      "\u001b[0;32m~/apps/anaconda3/envs/cotede37/lib/python3.7/site-packages/cotede/qctests/qctests.py\u001b[0m in \u001b[0;36m__init__\u001b[0;34m(self, data, cfg, autoflag)\u001b[0m\n\u001b[1;32m     81\u001b[0m         \u001b[0mself\u001b[0m\u001b[0;34m.\u001b[0m\u001b[0mset_features\u001b[0m\u001b[0;34m(\u001b[0m\u001b[0;34m)\u001b[0m\u001b[0;34m\u001b[0m\u001b[0;34m\u001b[0m\u001b[0m\n\u001b[1;32m     82\u001b[0m         \u001b[0;32mif\u001b[0m \u001b[0mautoflag\u001b[0m\u001b[0;34m:\u001b[0m\u001b[0;34m\u001b[0m\u001b[0;34m\u001b[0m\u001b[0m\n\u001b[0;32m---> 83\u001b[0;31m             \u001b[0mself\u001b[0m\u001b[0;34m.\u001b[0m\u001b[0mtest\u001b[0m\u001b[0;34m(\u001b[0m\u001b[0;34m)\u001b[0m\u001b[0;34m\u001b[0m\u001b[0;34m\u001b[0m\u001b[0m\n\u001b[0m\u001b[1;32m     84\u001b[0m \u001b[0;34m\u001b[0m\u001b[0m\n\u001b[1;32m     85\u001b[0m     \u001b[0;32mdef\u001b[0m \u001b[0m__getitem__\u001b[0m\u001b[0;34m(\u001b[0m\u001b[0mself\u001b[0m\u001b[0;34m,\u001b[0m \u001b[0mkey\u001b[0m\u001b[0;34m)\u001b[0m\u001b[0;34m:\u001b[0m\u001b[0;34m\u001b[0m\u001b[0;34m\u001b[0m\u001b[0m\n",
      "\u001b[0;32m~/apps/anaconda3/envs/cotede37/lib/python3.7/site-packages/cotede/qctests/global_range.py\u001b[0m in \u001b[0;36mtest\u001b[0;34m(self)\u001b[0m\n\u001b[1;32m     37\u001b[0m \u001b[0;34m\u001b[0m\u001b[0m\n\u001b[1;32m     38\u001b[0m         \u001b[0mflag\u001b[0m \u001b[0;34m=\u001b[0m \u001b[0mnp\u001b[0m\u001b[0;34m.\u001b[0m\u001b[0mzeros\u001b[0m\u001b[0;34m(\u001b[0m\u001b[0mfeature\u001b[0m\u001b[0;34m.\u001b[0m\u001b[0mshape\u001b[0m\u001b[0;34m,\u001b[0m \u001b[0mdtype\u001b[0m\u001b[0;34m=\u001b[0m\u001b[0;34m'i1'\u001b[0m\u001b[0;34m)\u001b[0m\u001b[0;34m\u001b[0m\u001b[0;34m\u001b[0m\u001b[0m\n\u001b[0;32m---> 39\u001b[0;31m         \u001b[0mflag\u001b[0m\u001b[0;34m[\u001b[0m\u001b[0mnp\u001b[0m\u001b[0;34m.\u001b[0m\u001b[0mnonzero\u001b[0m\u001b[0;34m(\u001b[0m\u001b[0mfeature\u001b[0m \u001b[0;34m<\u001b[0m \u001b[0mminval\u001b[0m\u001b[0;34m)\u001b[0m\u001b[0;34m]\u001b[0m \u001b[0;34m=\u001b[0m \u001b[0mself\u001b[0m\u001b[0;34m.\u001b[0m\u001b[0mflag_bad\u001b[0m\u001b[0;34m\u001b[0m\u001b[0;34m\u001b[0m\u001b[0m\n\u001b[0m\u001b[1;32m     40\u001b[0m         \u001b[0mflag\u001b[0m\u001b[0;34m[\u001b[0m\u001b[0mnp\u001b[0m\u001b[0;34m.\u001b[0m\u001b[0mnonzero\u001b[0m\u001b[0;34m(\u001b[0m\u001b[0mfeature\u001b[0m \u001b[0;34m>\u001b[0m \u001b[0mmaxval\u001b[0m\u001b[0;34m)\u001b[0m\u001b[0;34m]\u001b[0m \u001b[0;34m=\u001b[0m \u001b[0mself\u001b[0m\u001b[0;34m.\u001b[0m\u001b[0mflag_bad\u001b[0m\u001b[0;34m\u001b[0m\u001b[0;34m\u001b[0m\u001b[0m\n\u001b[1;32m     41\u001b[0m         \u001b[0midx\u001b[0m \u001b[0;34m=\u001b[0m \u001b[0;34m(\u001b[0m\u001b[0mfeature\u001b[0m \u001b[0;34m>=\u001b[0m \u001b[0mminval\u001b[0m\u001b[0;34m)\u001b[0m \u001b[0;34m&\u001b[0m \u001b[0;34m(\u001b[0m\u001b[0mfeature\u001b[0m \u001b[0;34m<=\u001b[0m \u001b[0mmaxval\u001b[0m\u001b[0;34m)\u001b[0m\u001b[0;34m\u001b[0m\u001b[0;34m\u001b[0m\u001b[0m\n",
      "\u001b[0;32m<__array_function__ internals>\u001b[0m in \u001b[0;36mnonzero\u001b[0;34m(*args, **kwargs)\u001b[0m\n",
      "\u001b[0;32m~/apps/anaconda3/envs/cotede37/lib/python3.7/site-packages/numpy/core/fromnumeric.py\u001b[0m in \u001b[0;36mnonzero\u001b[0;34m(a)\u001b[0m\n\u001b[1;32m   1894\u001b[0m \u001b[0;34m\u001b[0m\u001b[0m\n\u001b[1;32m   1895\u001b[0m     \"\"\"\n\u001b[0;32m-> 1896\u001b[0;31m     \u001b[0;32mreturn\u001b[0m \u001b[0m_wrapfunc\u001b[0m\u001b[0;34m(\u001b[0m\u001b[0ma\u001b[0m\u001b[0;34m,\u001b[0m \u001b[0;34m'nonzero'\u001b[0m\u001b[0;34m)\u001b[0m\u001b[0;34m\u001b[0m\u001b[0;34m\u001b[0m\u001b[0m\n\u001b[0m\u001b[1;32m   1897\u001b[0m \u001b[0;34m\u001b[0m\u001b[0m\n\u001b[1;32m   1898\u001b[0m \u001b[0;34m\u001b[0m\u001b[0m\n",
      "\u001b[0;32m~/apps/anaconda3/envs/cotede37/lib/python3.7/site-packages/numpy/core/fromnumeric.py\u001b[0m in \u001b[0;36m_wrapfunc\u001b[0;34m(obj, method, *args, **kwds)\u001b[0m\n\u001b[1;32m     56\u001b[0m     \u001b[0mbound\u001b[0m \u001b[0;34m=\u001b[0m \u001b[0mgetattr\u001b[0m\u001b[0;34m(\u001b[0m\u001b[0mobj\u001b[0m\u001b[0;34m,\u001b[0m \u001b[0mmethod\u001b[0m\u001b[0;34m,\u001b[0m \u001b[0;32mNone\u001b[0m\u001b[0;34m)\u001b[0m\u001b[0;34m\u001b[0m\u001b[0;34m\u001b[0m\u001b[0m\n\u001b[1;32m     57\u001b[0m     \u001b[0;32mif\u001b[0m \u001b[0mbound\u001b[0m \u001b[0;32mis\u001b[0m \u001b[0;32mNone\u001b[0m\u001b[0;34m:\u001b[0m\u001b[0;34m\u001b[0m\u001b[0;34m\u001b[0m\u001b[0m\n\u001b[0;32m---> 58\u001b[0;31m         \u001b[0;32mreturn\u001b[0m \u001b[0m_wrapit\u001b[0m\u001b[0;34m(\u001b[0m\u001b[0mobj\u001b[0m\u001b[0;34m,\u001b[0m \u001b[0mmethod\u001b[0m\u001b[0;34m,\u001b[0m \u001b[0;34m*\u001b[0m\u001b[0margs\u001b[0m\u001b[0;34m,\u001b[0m \u001b[0;34m**\u001b[0m\u001b[0mkwds\u001b[0m\u001b[0;34m)\u001b[0m\u001b[0;34m\u001b[0m\u001b[0;34m\u001b[0m\u001b[0m\n\u001b[0m\u001b[1;32m     59\u001b[0m \u001b[0;34m\u001b[0m\u001b[0m\n\u001b[1;32m     60\u001b[0m     \u001b[0;32mtry\u001b[0m\u001b[0;34m:\u001b[0m\u001b[0;34m\u001b[0m\u001b[0;34m\u001b[0m\u001b[0m\n",
      "\u001b[0;32m~/apps/anaconda3/envs/cotede37/lib/python3.7/site-packages/numpy/core/fromnumeric.py\u001b[0m in \u001b[0;36m_wrapit\u001b[0;34m(obj, method, *args, **kwds)\u001b[0m\n\u001b[1;32m     49\u001b[0m         \u001b[0;32mif\u001b[0m \u001b[0;32mnot\u001b[0m \u001b[0misinstance\u001b[0m\u001b[0;34m(\u001b[0m\u001b[0mresult\u001b[0m\u001b[0;34m,\u001b[0m \u001b[0mmu\u001b[0m\u001b[0;34m.\u001b[0m\u001b[0mndarray\u001b[0m\u001b[0;34m)\u001b[0m\u001b[0;34m:\u001b[0m\u001b[0;34m\u001b[0m\u001b[0;34m\u001b[0m\u001b[0m\n\u001b[1;32m     50\u001b[0m             \u001b[0mresult\u001b[0m \u001b[0;34m=\u001b[0m \u001b[0masarray\u001b[0m\u001b[0;34m(\u001b[0m\u001b[0mresult\u001b[0m\u001b[0;34m)\u001b[0m\u001b[0;34m\u001b[0m\u001b[0;34m\u001b[0m\u001b[0m\n\u001b[0;32m---> 51\u001b[0;31m         \u001b[0mresult\u001b[0m \u001b[0;34m=\u001b[0m \u001b[0mwrap\u001b[0m\u001b[0;34m(\u001b[0m\u001b[0mresult\u001b[0m\u001b[0;34m)\u001b[0m\u001b[0;34m\u001b[0m\u001b[0;34m\u001b[0m\u001b[0m\n\u001b[0m\u001b[1;32m     52\u001b[0m     \u001b[0;32mreturn\u001b[0m \u001b[0mresult\u001b[0m\u001b[0;34m\u001b[0m\u001b[0;34m\u001b[0m\u001b[0m\n\u001b[1;32m     53\u001b[0m \u001b[0;34m\u001b[0m\u001b[0m\n",
      "\u001b[0;32m~/apps/anaconda3/envs/cotede37/lib/python3.7/site-packages/pandas/core/generic.py\u001b[0m in \u001b[0;36m__array_wrap__\u001b[0;34m(self, result, context)\u001b[0m\n\u001b[1;32m   1916\u001b[0m             \u001b[0;32mreturn\u001b[0m \u001b[0mresult\u001b[0m\u001b[0;34m\u001b[0m\u001b[0;34m\u001b[0m\u001b[0m\n\u001b[1;32m   1917\u001b[0m         \u001b[0md\u001b[0m \u001b[0;34m=\u001b[0m \u001b[0mself\u001b[0m\u001b[0;34m.\u001b[0m\u001b[0m_construct_axes_dict\u001b[0m\u001b[0;34m(\u001b[0m\u001b[0mself\u001b[0m\u001b[0;34m.\u001b[0m\u001b[0m_AXIS_ORDERS\u001b[0m\u001b[0;34m,\u001b[0m \u001b[0mcopy\u001b[0m\u001b[0;34m=\u001b[0m\u001b[0;32mFalse\u001b[0m\u001b[0;34m)\u001b[0m\u001b[0;34m\u001b[0m\u001b[0;34m\u001b[0m\u001b[0m\n\u001b[0;32m-> 1918\u001b[0;31m         \u001b[0;32mreturn\u001b[0m \u001b[0mself\u001b[0m\u001b[0;34m.\u001b[0m\u001b[0m_constructor\u001b[0m\u001b[0;34m(\u001b[0m\u001b[0mresult\u001b[0m\u001b[0;34m,\u001b[0m \u001b[0;34m**\u001b[0m\u001b[0md\u001b[0m\u001b[0;34m)\u001b[0m\u001b[0;34m.\u001b[0m\u001b[0m__finalize__\u001b[0m\u001b[0;34m(\u001b[0m\u001b[0mself\u001b[0m\u001b[0;34m)\u001b[0m\u001b[0;34m\u001b[0m\u001b[0;34m\u001b[0m\u001b[0m\n\u001b[0m\u001b[1;32m   1919\u001b[0m \u001b[0;34m\u001b[0m\u001b[0m\n\u001b[1;32m   1920\u001b[0m     \u001b[0;31m# ideally we would define this to avoid the getattr checks, but\u001b[0m\u001b[0;34m\u001b[0m\u001b[0;34m\u001b[0m\u001b[0;34m\u001b[0m\u001b[0m\n",
      "\u001b[0;32m~/apps/anaconda3/envs/cotede37/lib/python3.7/site-packages/pandas/core/series.py\u001b[0m in \u001b[0;36m__init__\u001b[0;34m(self, data, index, dtype, name, copy, fastpath)\u001b[0m\n\u001b[1;32m    290\u001b[0m                     \u001b[0;32mif\u001b[0m \u001b[0mlen\u001b[0m\u001b[0;34m(\u001b[0m\u001b[0mindex\u001b[0m\u001b[0;34m)\u001b[0m \u001b[0;34m!=\u001b[0m \u001b[0mlen\u001b[0m\u001b[0;34m(\u001b[0m\u001b[0mdata\u001b[0m\u001b[0;34m)\u001b[0m\u001b[0;34m:\u001b[0m\u001b[0;34m\u001b[0m\u001b[0;34m\u001b[0m\u001b[0m\n\u001b[1;32m    291\u001b[0m                         raise ValueError(\n\u001b[0;32m--> 292\u001b[0;31m                             \u001b[0;34mf\"Length of passed values is {len(data)}, \"\u001b[0m\u001b[0;34m\u001b[0m\u001b[0;34m\u001b[0m\u001b[0m\n\u001b[0m\u001b[1;32m    293\u001b[0m                             \u001b[0;34mf\"index implies {len(index)}.\"\u001b[0m\u001b[0;34m\u001b[0m\u001b[0;34m\u001b[0m\u001b[0m\n\u001b[1;32m    294\u001b[0m                         )\n",
      "\u001b[0;31mValueError\u001b[0m: Length of passed values is 1, index implies 45."
     ]
    }
   ],
   "source": [
    "# run qc\n",
    "pqced_df = ProfileQC(df, cfg=cfg, attributes={})"
   ]
  }
 ],
 "metadata": {
  "kernelspec": {
   "display_name": "Python 3",
   "language": "python",
   "name": "python3"
  },
  "language_info": {
   "codemirror_mode": {
    "name": "ipython",
    "version": 3
   },
   "file_extension": ".py",
   "mimetype": "text/x-python",
   "name": "python",
   "nbconvert_exporter": "python",
   "pygments_lexer": "ipython3",
   "version": "3.7.6"
  }
 },
 "nbformat": 4,
 "nbformat_minor": 2
}
